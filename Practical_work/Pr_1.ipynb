{
 "cells": [
  {
   "cell_type": "markdown",
   "source": [
    "Написать программу, которая вычисляет площадь фигуры, параметры которой подаются на вход.\n",
    "Фигуры, которые подаются на вход: треугольник, прямоугольник, круг. Результатом работы является словарь,\n",
    "где ключ – это название фигуры, а значение – это площадь."
   ],
   "metadata": {
    "collapsed": false
   }
  },
  {
   "cell_type": "code",
   "execution_count": 1,
   "outputs": [
    {
     "name": "stdout",
     "output_type": "stream",
     "text": [
      "\n",
      "Площадь треугольник равна 7.5\n",
      "\n",
      "{'треугольник': 7.5}\n"
     ]
    }
   ],
   "source": [
    "import math\n",
    "\n",
    "figures = {}\n",
    "name = input('Введите нзвание фигуры: ').lower()\n",
    "area = None\n",
    "if name == 'треугольник':\n",
    "    height = float(input('Введите высоту треугольника: '))\n",
    "    base = float(input('Введите длину основания треугольника: '))\n",
    "    area = 0.5 * base * height\n",
    "elif name == 'прямоугольник':\n",
    "    length = float(input(\"Введите длину прямоугольника: \"))\n",
    "    width = float(input(\"Введите ширину прямоугольника: \"))\n",
    "    area = length * width\n",
    "elif name == 'круг':\n",
    "    radius = float(input(\"Введите радиус круга: \"))\n",
    "    area = math.pi * radius ** 2\n",
    "else:\n",
    "    print(\"Неверный тип фигуры\")\n",
    "\n",
    "if area != None:\n",
    "    figures[name] = area\n",
    "    print(f\"\\nПлощадь {name} равна {area}\\n\")\n",
    "    print(figures)\n"
   ],
   "metadata": {
    "collapsed": false,
    "ExecuteTime": {
     "end_time": "2023-10-01T18:12:59.970641500Z",
     "start_time": "2023-10-01T18:12:52.992723400Z"
    }
   }
  },
  {
   "cell_type": "markdown",
   "source": [
    "Написать программу, которая на вход получает два числа и операцию, которую к ним нужно применить.\n",
    "Должны быть реализованы следующие операции: +, -, /, //, abs – модуль, pow или ** – возведение в степень."
   ],
   "metadata": {
    "collapsed": false
   }
  },
  {
   "cell_type": "code",
   "execution_count": 2,
   "outputs": [
    {
     "name": "stdout",
     "output_type": "stream",
     "text": [
      "Результат операции +: 4.0\n"
     ]
    }
   ],
   "source": [
    "num1 = float(input('Введите первое число: '))\n",
    "num2 = float(input('Введите второе число: '))\n",
    "operation = input(\"Введите операцию (+, -, /, //, abs, pow): \")\n",
    "result = 0.0\n",
    "\n",
    "if operation == \"+\":\n",
    "    result = num1 + num2\n",
    "elif operation == \"-\":\n",
    "    result = num1 - num2\n",
    "elif operation == \"/\":\n",
    "    if num2 == 0:\n",
    "        print(\"Ошибка: деление на ноль!\")\n",
    "    else:\n",
    "        result = num1 / num2\n",
    "elif operation == \"//\":\n",
    "    if num2 == 0:\n",
    "        print(\"Ошибка: деление на ноль!\")\n",
    "    else:\n",
    "        result = num1 // num2\n",
    "elif operation == \"abs\":\n",
    "    result = abs(num1)\n",
    "elif operation == \"pow\" or operation == \"**\":\n",
    "    result = num1 ** num2\n",
    "else:\n",
    "    result = \"Неверная операция!\"\n",
    "\n",
    "print(f\"Результат операции {operation}: {result}\")\n"
   ],
   "metadata": {
    "collapsed": false,
    "ExecuteTime": {
     "end_time": "2023-10-01T18:13:54.015078200Z",
     "start_time": "2023-10-01T18:13:45.937025500Z"
    }
   }
  },
  {
   "cell_type": "markdown",
   "source": [
    "Напишите программу, которая считывает с консоли числа (по одному в строке) до тех пор,\n",
    "пока сумма введённых чисел не будет равна 0 и после этого выводит сумму квадратов всех считанных чисел."
   ],
   "metadata": {
    "collapsed": false
   }
  },
  {
   "cell_type": "code",
   "execution_count": 3,
   "outputs": [
    {
     "name": "stdout",
     "output_type": "stream",
     "text": [
      "Сумма квадратов введённых чисел = 24.0\n"
     ]
    }
   ],
   "source": [
    "array = []\n",
    "while len(array) == 0 or sum(array) != 0:  # длина = 0, или сумма != 0\n",
    "    x = float(input('Введите число: '))\n",
    "    array.append(x)\n",
    "else:\n",
    "    sum_2 = sum(x ** 2 for x in array)\n",
    "    print(f'Сумма квадратов введённых чисел = {sum_2}')\n"
   ],
   "metadata": {
    "collapsed": false,
    "ExecuteTime": {
     "end_time": "2023-10-01T18:14:15.364918100Z",
     "start_time": "2023-10-01T18:14:08.640082200Z"
    }
   }
  },
  {
   "cell_type": "markdown",
   "source": [
    "Напишите программу, которая выводит последовательность чисел, длинною N, где каждое число повторяется столько раз,\n",
    " чему оно равно. На вход программе передаётся неотрицательное целое число N. Например, если N = 7,\n",
    " то программа должна вывести 1 2 2 3 3 3 4. Вывод элементов списка через пробел – print(*list)."
   ],
   "metadata": {
    "collapsed": false
   }
  },
  {
   "cell_type": "code",
   "execution_count": 4,
   "outputs": [
    {
     "name": "stdout",
     "output_type": "stream",
     "text": [
      "1 2 2 3 3 3 4\n"
     ]
    }
   ],
   "source": [
    "N = int(input('Введите N: '))\n",
    "array = []\n",
    "for i in range(1, N + 1):\n",
    "    for j in range(i):\n",
    "        if len(array) != N:\n",
    "            array.append(i)\n",
    "print(*array)\n"
   ],
   "metadata": {
    "collapsed": false,
    "ExecuteTime": {
     "end_time": "2023-10-01T18:14:35.850892800Z",
     "start_time": "2023-10-01T18:14:34.233895600Z"
    }
   }
  },
  {
   "cell_type": "markdown",
   "source": [
    "А = [1, 2, 3, 4, 2, 1, 3, 4, 5, 6, 5, 4, 3, 2]\n",
    "В = [‘a’, ’b’, ’c’, ’c’, ’c’, ’b’, ’a’, ’c’, ’a’, ’a’, ’b’, ’c’, ’b’, ’a’]\n",
    "Создать словарь, в котором ключи – это содержимое списка В, а значения для ключей словаря –\n",
    "это сумма всех элементов списка А в соответствии с буквой, содержащийся на той же позиции в списке В.\n",
    "Пример результата программы: {‘a’ : 10, ‘b’ : 15, ‘c’ : 6}.\n",
    "Скачать и загрузить данные о стоимости домов в калифорнии, используя библиотеку sklearn."
   ],
   "metadata": {
    "collapsed": false
   }
  },
  {
   "cell_type": "code",
   "execution_count": 5,
   "outputs": [
    {
     "name": "stdout",
     "output_type": "stream",
     "text": [
      "{'a': 17, 'b': 11, 'c': 17}\n"
     ]
    }
   ],
   "source": [
    "A = [1, 2, 3, 4, 2, 1, 3, 4, 5, 6, 5, 4, 3, 2]\n",
    "B = ['a', 'b', 'c', 'c', 'c', 'b', 'a', 'c', 'a', 'a', 'b', 'c', 'b', 'a']\n",
    "\n",
    "result_dict = {}\n",
    "\n",
    "for i in range(len(B)):\n",
    "    key = B[i]\n",
    "    value = A[i]\n",
    "\n",
    "    if key in result_dict:\n",
    "        result_dict[key] += value\n",
    "    else:\n",
    "        result_dict[key] = value\n",
    "\n",
    "print(result_dict)\n"
   ],
   "metadata": {
    "collapsed": false,
    "ExecuteTime": {
     "end_time": "2023-10-01T18:14:52.940308400Z",
     "start_time": "2023-10-01T18:14:52.908318400Z"
    }
   }
  },
  {
   "cell_type": "markdown",
   "source": [
    "Дан текст на английском языке. Необходимо закодировать его с помощью азбуки Морзе,\n",
    "где каждой букве соответствует последовательность точек и тире.\n",
    "Например, буква «g» превратится в строку «--.». В переменной morze для удобства\n",
    "хранится словарь соответствия латинских букв коду Морзе."
   ],
   "metadata": {
    "collapsed": false
   }
  },
  {
   "cell_type": "code",
   "execution_count": 6,
   "outputs": [
    {
     "name": "stdout",
     "output_type": "stream",
     "text": [
      ".... ..\n",
      ".--. . .--. .-\n"
     ]
    }
   ],
   "source": [
    "morze = {\n",
    "    'a': '.-', 'b': '-...', 'c': '-.-.', 'd': '-..',\n",
    "    'e': '.', 'f': '..-.', 'g': '--.', 'h': '....',\n",
    "    'i': '..', 'j': '.---', 'k': '-.-', 'l': '.-..',\n",
    "    'm': '--', 'n': '-.', 'o': '---', 'p': '.--.',\n",
    "    'q': '--.-', 'r': '.-.', 's': '...', 't': '-',\n",
    "    'u': '..-', 'v': '...-', 'w': '.--', 'x': '-..-',\n",
    "    'y': '-.--', 'z': '--..', ' ': ' '\n",
    "}\n",
    "\n",
    "\n",
    "def text_to_morse(text):\n",
    "    words = text.split()\n",
    "    encoded_words = []\n",
    "\n",
    "    for word in words:\n",
    "        encoded_word = ' '.join([morze[char.lower()] for char in word])\n",
    "        encoded_words.append(encoded_word)\n",
    "\n",
    "    return encoded_words\n",
    "\n",
    "\n",
    "input_text = input(\"Введите текст на английском языке: \")\n",
    "\n",
    "encoded_text = text_to_morse(input_text)\n",
    "\n",
    "for word in encoded_text:\n",
    "    print(word)\n"
   ],
   "metadata": {
    "collapsed": false,
    "ExecuteTime": {
     "end_time": "2023-10-01T18:16:21.349041600Z",
     "start_time": "2023-10-01T18:16:14.750008700Z"
    }
   }
  },
  {
   "cell_type": "markdown",
   "source": [
    "В некотором городе открывается новая служба по доставке электронных писем. Необходимо наладить систему регистрации новых пользователей.\n",
    "Регистрация должна работать следующим образом: если новый пользователь хочет зарегистрироваться на сайте, то он должен послать системе запрос name со своим именем. Система должна определить, существует ли уже такое имя в базе данных. Если такого имени не существует, то оно заносится в базу данных системы и пользователю возвращается ответ \"ОК\", подтверждающий успешную регистрацию. А если пользователь с таким именем уже существует, то система должна сформировать новое имя и выдать его пользователю в качестве подсказки, при этом сама подсказка также добавляется в базу данных. Новое имя формируется следующим образом: к name последовательно приписываются числа, начиная с 1 (name1, name2 и так далее), и среди них находят такое наименьшее i, что namei еще не содержится в системе.\n"
   ],
   "metadata": {
    "collapsed": false
   }
  },
  {
   "cell_type": "code",
   "execution_count": 7,
   "outputs": [
    {
     "name": "stdout",
     "output_type": "stream",
     "text": [
      "OK\n",
      "b1\n"
     ]
    }
   ],
   "source": [
    "registered_users = []\n",
    "count_name = int(input())\n",
    "\n",
    "for i in range(count_name):\n",
    "    new_name = str(input())\n",
    "    if new_name not in registered_users:\n",
    "        registered_users.append(new_name)\n",
    "        print('OK')\n",
    "    else:\n",
    "        for i in range(1, 100000):\n",
    "            find_name = new_name + str(i)\n",
    "            if find_name not in registered_users:\n",
    "                registered_users.append(find_name)\n",
    "                print(find_name)\n",
    "                break\n"
   ],
   "metadata": {
    "collapsed": false,
    "ExecuteTime": {
     "end_time": "2023-10-01T18:20:06.997334300Z",
     "start_time": "2023-10-01T18:20:02.165723500Z"
    }
   }
  },
  {
   "cell_type": "markdown",
   "source": [
    "Необходимо создать программу обработки запросов пользователей к файловой системе компьютера. Над каждым файлом можно производить следующие действия: запись – w (\"write\"), чтение – r (\"read\"), запуск – x (\"execute\")."
   ],
   "metadata": {
    "collapsed": false
   }
  },
  {
   "cell_type": "code",
   "execution_count": 8,
   "outputs": [
    {
     "name": "stdout",
     "output_type": "stream",
     "text": [
      "{'py.py': ['read', 'write']}\n",
      "OK\n",
      "OK\n",
      "Access denied\n"
     ]
    }
   ],
   "source": [
    "array_actions = {}\n",
    "n = int(input())\n",
    "for i in range(n):\n",
    "    requests = str(input()).split()\n",
    "    key = requests[0]\n",
    "    requests.pop(0)\n",
    "    for j in range(len(requests)):\n",
    "        if requests[j] == 'r':\n",
    "            requests[j] = 'read'\n",
    "        elif requests[j] == 'w':\n",
    "            requests[j] = 'write'\n",
    "        elif requests[j] == 'e':\n",
    "            requests[j] = 'execute'\n",
    "    array_actions[key] = requests\n",
    "print(array_actions)\n",
    "m = int(input())\n",
    "for i in range(m):\n",
    "    requests = str(input()).split()  # write 1.py\n",
    "    if requests[0] in array_actions[requests[1]]:\n",
    "        print('OK')\n",
    "    else:\n",
    "        print('Access denied')\n"
   ],
   "metadata": {
    "collapsed": false,
    "ExecuteTime": {
     "end_time": "2023-10-01T18:21:31.953218900Z",
     "start_time": "2023-10-01T18:20:44.584343500Z"
    }
   }
  },
  {
   "cell_type": "markdown",
   "source": [
    "Альтернативный вариант последнего задания"
   ],
   "metadata": {
    "collapsed": false
   }
  },
  {
   "cell_type": "code",
   "execution_count": null,
   "outputs": [],
   "source": [
    "import os\n",
    "\n",
    "while True:\n",
    "    count_requests = int(input())\n",
    "    for id_request in range(count_requests):\n",
    "        requests = str(input()).split()\n",
    "        if requests[0] == 'read':\n",
    "            try:\n",
    "                open(requests[1], 'r')\n",
    "                print('OK')\n",
    "            except OSError:\n",
    "                print('Access denied')\n",
    "        elif requests[0] == 'execute':\n",
    "            try:\n",
    "                open(requests[1], 'w')\n",
    "                print('OK')\n",
    "            except OSError:\n",
    "                print('Access denied')\n",
    "        elif requests[0] == 'write':\n",
    "            try:\n",
    "                os.system(requests[1])\n",
    "                print('OK')\n",
    "            except OSError:\n",
    "                print('Access denied')\n",
    "        else:\n",
    "            pass\n"
   ],
   "metadata": {
    "collapsed": false
   }
  },
  {
   "cell_type": "code",
   "execution_count": 9,
   "outputs": [
    {
     "data": {
      "text/plain": "       MedInc  HouseAge  AveRooms  AveBedrms  Population  AveOccup  Latitude  \\\n0      8.3252      41.0  6.984127   1.023810       322.0  2.555556     37.88   \n1      8.3014      21.0  6.238137   0.971880      2401.0  2.109842     37.86   \n2      7.2574      52.0  8.288136   1.073446       496.0  2.802260     37.85   \n3      5.6431      52.0  5.817352   1.073059       558.0  2.547945     37.85   \n4      3.8462      52.0  6.281853   1.081081       565.0  2.181467     37.85   \n...       ...       ...       ...        ...         ...       ...       ...   \n20635  1.5603      25.0  5.045455   1.133333       845.0  2.560606     39.48   \n20636  2.5568      18.0  6.114035   1.315789       356.0  3.122807     39.49   \n20637  1.7000      17.0  5.205543   1.120092      1007.0  2.325635     39.43   \n20638  1.8672      18.0  5.329513   1.171920       741.0  2.123209     39.43   \n20639  2.3886      16.0  5.254717   1.162264      1387.0  2.616981     39.37   \n\n       Longitude  MedHouseVal  \n0        -122.23        4.526  \n1        -122.22        3.585  \n2        -122.24        3.521  \n3        -122.25        3.413  \n4        -122.25        3.422  \n...          ...          ...  \n20635    -121.09        0.781  \n20636    -121.21        0.771  \n20637    -121.22        0.923  \n20638    -121.32        0.847  \n20639    -121.24        0.894  \n\n[20640 rows x 9 columns]",
      "text/html": "<div>\n<style scoped>\n    .dataframe tbody tr th:only-of-type {\n        vertical-align: middle;\n    }\n\n    .dataframe tbody tr th {\n        vertical-align: top;\n    }\n\n    .dataframe thead th {\n        text-align: right;\n    }\n</style>\n<table border=\"1\" class=\"dataframe\">\n  <thead>\n    <tr style=\"text-align: right;\">\n      <th></th>\n      <th>MedInc</th>\n      <th>HouseAge</th>\n      <th>AveRooms</th>\n      <th>AveBedrms</th>\n      <th>Population</th>\n      <th>AveOccup</th>\n      <th>Latitude</th>\n      <th>Longitude</th>\n      <th>MedHouseVal</th>\n    </tr>\n  </thead>\n  <tbody>\n    <tr>\n      <th>0</th>\n      <td>8.3252</td>\n      <td>41.0</td>\n      <td>6.984127</td>\n      <td>1.023810</td>\n      <td>322.0</td>\n      <td>2.555556</td>\n      <td>37.88</td>\n      <td>-122.23</td>\n      <td>4.526</td>\n    </tr>\n    <tr>\n      <th>1</th>\n      <td>8.3014</td>\n      <td>21.0</td>\n      <td>6.238137</td>\n      <td>0.971880</td>\n      <td>2401.0</td>\n      <td>2.109842</td>\n      <td>37.86</td>\n      <td>-122.22</td>\n      <td>3.585</td>\n    </tr>\n    <tr>\n      <th>2</th>\n      <td>7.2574</td>\n      <td>52.0</td>\n      <td>8.288136</td>\n      <td>1.073446</td>\n      <td>496.0</td>\n      <td>2.802260</td>\n      <td>37.85</td>\n      <td>-122.24</td>\n      <td>3.521</td>\n    </tr>\n    <tr>\n      <th>3</th>\n      <td>5.6431</td>\n      <td>52.0</td>\n      <td>5.817352</td>\n      <td>1.073059</td>\n      <td>558.0</td>\n      <td>2.547945</td>\n      <td>37.85</td>\n      <td>-122.25</td>\n      <td>3.413</td>\n    </tr>\n    <tr>\n      <th>4</th>\n      <td>3.8462</td>\n      <td>52.0</td>\n      <td>6.281853</td>\n      <td>1.081081</td>\n      <td>565.0</td>\n      <td>2.181467</td>\n      <td>37.85</td>\n      <td>-122.25</td>\n      <td>3.422</td>\n    </tr>\n    <tr>\n      <th>...</th>\n      <td>...</td>\n      <td>...</td>\n      <td>...</td>\n      <td>...</td>\n      <td>...</td>\n      <td>...</td>\n      <td>...</td>\n      <td>...</td>\n      <td>...</td>\n    </tr>\n    <tr>\n      <th>20635</th>\n      <td>1.5603</td>\n      <td>25.0</td>\n      <td>5.045455</td>\n      <td>1.133333</td>\n      <td>845.0</td>\n      <td>2.560606</td>\n      <td>39.48</td>\n      <td>-121.09</td>\n      <td>0.781</td>\n    </tr>\n    <tr>\n      <th>20636</th>\n      <td>2.5568</td>\n      <td>18.0</td>\n      <td>6.114035</td>\n      <td>1.315789</td>\n      <td>356.0</td>\n      <td>3.122807</td>\n      <td>39.49</td>\n      <td>-121.21</td>\n      <td>0.771</td>\n    </tr>\n    <tr>\n      <th>20637</th>\n      <td>1.7000</td>\n      <td>17.0</td>\n      <td>5.205543</td>\n      <td>1.120092</td>\n      <td>1007.0</td>\n      <td>2.325635</td>\n      <td>39.43</td>\n      <td>-121.22</td>\n      <td>0.923</td>\n    </tr>\n    <tr>\n      <th>20638</th>\n      <td>1.8672</td>\n      <td>18.0</td>\n      <td>5.329513</td>\n      <td>1.171920</td>\n      <td>741.0</td>\n      <td>2.123209</td>\n      <td>39.43</td>\n      <td>-121.32</td>\n      <td>0.847</td>\n    </tr>\n    <tr>\n      <th>20639</th>\n      <td>2.3886</td>\n      <td>16.0</td>\n      <td>5.254717</td>\n      <td>1.162264</td>\n      <td>1387.0</td>\n      <td>2.616981</td>\n      <td>39.37</td>\n      <td>-121.24</td>\n      <td>0.894</td>\n    </tr>\n  </tbody>\n</table>\n<p>20640 rows × 9 columns</p>\n</div>"
     },
     "execution_count": 9,
     "metadata": {},
     "output_type": "execute_result"
    }
   ],
   "source": [
    "from sklearn.datasets import fetch_california_housing\n",
    "\n",
    "\n",
    "data = fetch_california_housing(as_frame=True)\n",
    "dataset = data.frame\n",
    "dataset"
   ],
   "metadata": {
    "collapsed": false,
    "ExecuteTime": {
     "end_time": "2023-10-01T18:24:19.436142900Z",
     "start_time": "2023-10-01T18:24:13.606453800Z"
    }
   }
  },
  {
   "cell_type": "code",
   "execution_count": 10,
   "outputs": [
    {
     "name": "stdout",
     "output_type": "stream",
     "text": [
      "<class 'pandas.core.frame.DataFrame'>\n",
      "RangeIndex: 20640 entries, 0 to 20639\n",
      "Data columns (total 9 columns):\n",
      " #   Column       Non-Null Count  Dtype  \n",
      "---  ------       --------------  -----  \n",
      " 0   MedInc       20640 non-null  float64\n",
      " 1   HouseAge     20640 non-null  float64\n",
      " 2   AveRooms     20640 non-null  float64\n",
      " 3   AveBedrms    20640 non-null  float64\n",
      " 4   Population   20640 non-null  float64\n",
      " 5   AveOccup     20640 non-null  float64\n",
      " 6   Latitude     20640 non-null  float64\n",
      " 7   Longitude    20640 non-null  float64\n",
      " 8   MedHouseVal  20640 non-null  float64\n",
      "dtypes: float64(9)\n",
      "memory usage: 1.4 MB\n"
     ]
    }
   ],
   "source": [
    "dataset.info()"
   ],
   "metadata": {
    "collapsed": false,
    "ExecuteTime": {
     "end_time": "2023-10-01T18:24:19.446559100Z",
     "start_time": "2023-10-01T18:24:19.435140200Z"
    }
   }
  },
  {
   "cell_type": "code",
   "execution_count": 11,
   "outputs": [
    {
     "data": {
      "text/plain": "MedInc         0\nHouseAge       0\nAveRooms       0\nAveBedrms      0\nPopulation     0\nAveOccup       0\nLatitude       0\nLongitude      0\nMedHouseVal    0\ndtype: int64"
     },
     "execution_count": 11,
     "metadata": {},
     "output_type": "execute_result"
    }
   ],
   "source": [
    "dataset.isna().sum()"
   ],
   "metadata": {
    "collapsed": false,
    "ExecuteTime": {
     "end_time": "2023-10-01T18:24:19.455979Z",
     "start_time": "2023-10-01T18:24:19.448559300Z"
    }
   }
  },
  {
   "cell_type": "code",
   "execution_count": 12,
   "outputs": [
    {
     "data": {
      "text/plain": "       MedInc  HouseAge  AveRooms  AveBedrms  Population    AveOccup  \\\n460    1.4012      52.0  3.105714   1.060000      3337.0    9.534286   \n4131   3.5349      52.0  4.646119   1.047945      2589.0    5.910959   \n4440   2.6806      52.0  4.806283   1.057592      3062.0    4.007853   \n5986   1.8750      52.0  4.500000   1.206349      2688.0   21.333333   \n7369   3.1901      52.0  4.730942   1.017937      3731.0    4.182735   \n8227   2.3305      52.0  3.488860   1.170380      3018.0    3.955439   \n13034  6.1359      52.0  8.275862   1.517241      6675.0  230.172414   \n15634  1.8295      52.0  2.628169   1.053521      2957.0    4.164789   \n15652  0.9000      52.0  2.237474   1.053535      3260.0    2.237474   \n15657  2.5166      52.0  2.839075   1.184049      3436.0    1.621520   \n15659  1.7240      52.0  2.278566   1.082348      4518.0    1.780142   \n15795  2.5755      52.0  3.402576   1.058776      2619.0    2.108696   \n15868  2.8135      52.0  4.584329   1.041169      2987.0    3.966799   \n\n       Latitude  Longitude  MedHouseVal  \n460       37.87    -122.26      1.75000  \n4131      34.13    -118.20      1.93600  \n4440      34.08    -118.21      1.53000  \n5986      34.10    -117.71      2.12500  \n7369      33.97    -118.21      1.67600  \n8227      33.78    -118.20      1.62500  \n13034     38.69    -121.15      2.25000  \n15634     37.80    -122.41      2.43800  \n15652     37.80    -122.41      5.00001  \n15657     37.79    -122.41      2.75000  \n15659     37.79    -122.41      2.25000  \n15795     37.77    -122.42      3.25000  \n15868     37.76    -122.41      2.60300  ",
      "text/html": "<div>\n<style scoped>\n    .dataframe tbody tr th:only-of-type {\n        vertical-align: middle;\n    }\n\n    .dataframe tbody tr th {\n        vertical-align: top;\n    }\n\n    .dataframe thead th {\n        text-align: right;\n    }\n</style>\n<table border=\"1\" class=\"dataframe\">\n  <thead>\n    <tr style=\"text-align: right;\">\n      <th></th>\n      <th>MedInc</th>\n      <th>HouseAge</th>\n      <th>AveRooms</th>\n      <th>AveBedrms</th>\n      <th>Population</th>\n      <th>AveOccup</th>\n      <th>Latitude</th>\n      <th>Longitude</th>\n      <th>MedHouseVal</th>\n    </tr>\n  </thead>\n  <tbody>\n    <tr>\n      <th>460</th>\n      <td>1.4012</td>\n      <td>52.0</td>\n      <td>3.105714</td>\n      <td>1.060000</td>\n      <td>3337.0</td>\n      <td>9.534286</td>\n      <td>37.87</td>\n      <td>-122.26</td>\n      <td>1.75000</td>\n    </tr>\n    <tr>\n      <th>4131</th>\n      <td>3.5349</td>\n      <td>52.0</td>\n      <td>4.646119</td>\n      <td>1.047945</td>\n      <td>2589.0</td>\n      <td>5.910959</td>\n      <td>34.13</td>\n      <td>-118.20</td>\n      <td>1.93600</td>\n    </tr>\n    <tr>\n      <th>4440</th>\n      <td>2.6806</td>\n      <td>52.0</td>\n      <td>4.806283</td>\n      <td>1.057592</td>\n      <td>3062.0</td>\n      <td>4.007853</td>\n      <td>34.08</td>\n      <td>-118.21</td>\n      <td>1.53000</td>\n    </tr>\n    <tr>\n      <th>5986</th>\n      <td>1.8750</td>\n      <td>52.0</td>\n      <td>4.500000</td>\n      <td>1.206349</td>\n      <td>2688.0</td>\n      <td>21.333333</td>\n      <td>34.10</td>\n      <td>-117.71</td>\n      <td>2.12500</td>\n    </tr>\n    <tr>\n      <th>7369</th>\n      <td>3.1901</td>\n      <td>52.0</td>\n      <td>4.730942</td>\n      <td>1.017937</td>\n      <td>3731.0</td>\n      <td>4.182735</td>\n      <td>33.97</td>\n      <td>-118.21</td>\n      <td>1.67600</td>\n    </tr>\n    <tr>\n      <th>8227</th>\n      <td>2.3305</td>\n      <td>52.0</td>\n      <td>3.488860</td>\n      <td>1.170380</td>\n      <td>3018.0</td>\n      <td>3.955439</td>\n      <td>33.78</td>\n      <td>-118.20</td>\n      <td>1.62500</td>\n    </tr>\n    <tr>\n      <th>13034</th>\n      <td>6.1359</td>\n      <td>52.0</td>\n      <td>8.275862</td>\n      <td>1.517241</td>\n      <td>6675.0</td>\n      <td>230.172414</td>\n      <td>38.69</td>\n      <td>-121.15</td>\n      <td>2.25000</td>\n    </tr>\n    <tr>\n      <th>15634</th>\n      <td>1.8295</td>\n      <td>52.0</td>\n      <td>2.628169</td>\n      <td>1.053521</td>\n      <td>2957.0</td>\n      <td>4.164789</td>\n      <td>37.80</td>\n      <td>-122.41</td>\n      <td>2.43800</td>\n    </tr>\n    <tr>\n      <th>15652</th>\n      <td>0.9000</td>\n      <td>52.0</td>\n      <td>2.237474</td>\n      <td>1.053535</td>\n      <td>3260.0</td>\n      <td>2.237474</td>\n      <td>37.80</td>\n      <td>-122.41</td>\n      <td>5.00001</td>\n    </tr>\n    <tr>\n      <th>15657</th>\n      <td>2.5166</td>\n      <td>52.0</td>\n      <td>2.839075</td>\n      <td>1.184049</td>\n      <td>3436.0</td>\n      <td>1.621520</td>\n      <td>37.79</td>\n      <td>-122.41</td>\n      <td>2.75000</td>\n    </tr>\n    <tr>\n      <th>15659</th>\n      <td>1.7240</td>\n      <td>52.0</td>\n      <td>2.278566</td>\n      <td>1.082348</td>\n      <td>4518.0</td>\n      <td>1.780142</td>\n      <td>37.79</td>\n      <td>-122.41</td>\n      <td>2.25000</td>\n    </tr>\n    <tr>\n      <th>15795</th>\n      <td>2.5755</td>\n      <td>52.0</td>\n      <td>3.402576</td>\n      <td>1.058776</td>\n      <td>2619.0</td>\n      <td>2.108696</td>\n      <td>37.77</td>\n      <td>-122.42</td>\n      <td>3.25000</td>\n    </tr>\n    <tr>\n      <th>15868</th>\n      <td>2.8135</td>\n      <td>52.0</td>\n      <td>4.584329</td>\n      <td>1.041169</td>\n      <td>2987.0</td>\n      <td>3.966799</td>\n      <td>37.76</td>\n      <td>-122.41</td>\n      <td>2.60300</td>\n    </tr>\n  </tbody>\n</table>\n</div>"
     },
     "execution_count": 12,
     "metadata": {},
     "output_type": "execute_result"
    }
   ],
   "source": [
    "dataset.loc[(dataset['HouseAge'] > 50) & (dataset['Population'] > 2500)]"
   ],
   "metadata": {
    "collapsed": false,
    "ExecuteTime": {
     "end_time": "2023-10-01T18:24:19.560687200Z",
     "start_time": "2023-10-01T18:24:19.456977800Z"
    }
   }
  },
  {
   "cell_type": "code",
   "execution_count": 13,
   "outputs": [
    {
     "data": {
      "text/plain": "count    20640.000000\nmean         2.068558\nstd          1.153956\nmin          0.149990\n25%          1.196000\n50%          1.797000\n75%          2.647250\nmax          5.000010\nName: MedHouseVal, dtype: float64"
     },
     "execution_count": 13,
     "metadata": {},
     "output_type": "execute_result"
    }
   ],
   "source": [
    "dataset['MedHouseVal'].describe()"
   ],
   "metadata": {
    "collapsed": false,
    "ExecuteTime": {
     "end_time": "2023-10-01T18:24:19.561687600Z",
     "start_time": "2023-10-01T18:24:19.472271500Z"
    }
   }
  },
  {
   "cell_type": "code",
   "execution_count": 14,
   "outputs": [
    {
     "name": "stdout",
     "output_type": "stream",
     "text": [
      "Признак: MedInc, Среднее значение: 3.8706710029069766\n",
      "Признак: HouseAge, Среднее значение: 28.639486434108527\n",
      "Признак: AveRooms, Среднее значение: 5.428999742190376\n",
      "Признак: AveBedrms, Среднее значение: 1.096675149606208\n",
      "Признак: Population, Среднее значение: 1425.4767441860465\n",
      "Признак: AveOccup, Среднее значение: 3.0706551594363742\n",
      "Признак: Latitude, Среднее значение: 35.63186143410853\n",
      "Признак: Longitude, Среднее значение: -119.56970445736432\n",
      "Признак: MedHouseVal, Среднее значение: 2.068558169089147\n"
     ]
    }
   ],
   "source": [
    "def calculate_mean(column):\n",
    "    return column.mean()\n",
    "\n",
    "\n",
    "means = dataset.apply(calculate_mean)\n",
    "for feature, mean_value in means.items():\n",
    "    print(f\"Признак: {feature}, Среднее значение: {mean_value}\")"
   ],
   "metadata": {
    "collapsed": false,
    "ExecuteTime": {
     "end_time": "2023-10-01T18:24:19.561687600Z",
     "start_time": "2023-10-01T18:24:19.482709500Z"
    }
   }
  },
  {
   "cell_type": "code",
   "execution_count": null,
   "outputs": [],
   "source": [],
   "metadata": {
    "collapsed": false
   }
  }
 ],
 "metadata": {
  "kernelspec": {
   "display_name": "Python 3",
   "language": "python",
   "name": "python3"
  },
  "language_info": {
   "codemirror_mode": {
    "name": "ipython",
    "version": 2
   },
   "file_extension": ".py",
   "mimetype": "text/x-python",
   "name": "python",
   "nbconvert_exporter": "python",
   "pygments_lexer": "ipython2",
   "version": "2.7.6"
  }
 },
 "nbformat": 4,
 "nbformat_minor": 0
}
