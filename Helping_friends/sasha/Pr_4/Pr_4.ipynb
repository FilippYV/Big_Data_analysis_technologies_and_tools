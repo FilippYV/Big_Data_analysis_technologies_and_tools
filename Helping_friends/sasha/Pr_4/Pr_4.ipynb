{
 "cells": [
  {
   "cell_type": "markdown",
   "source": [
    "# Определить два вектора, представляющие собой число автомобилей, припаркованных в течении 5 рабочих дней у бизнес-центра на уличной стоянке и в подземном гараже.\n",
    "День\tУлица\tГараж\n",
    "Понедельник\t80\t100\n",
    "Вторник\t98\t82\n",
    "Среда\t75\t105\n",
    "Четверг\t91\t89\n",
    "Пятница\t78\t102\n"
   ],
   "metadata": {
    "collapsed": false
   }
  },
  {
   "cell_type": "code",
   "execution_count": 2,
   "outputs": [
    {
     "name": "stdout",
     "output_type": "stream",
     "text": [
      "Уличное хранение: [80 98 75 91 78]\n",
      "Гаражное хранение: [100  82 105  89 102]\n"
     ]
    }
   ],
   "source": [
    "import numpy as np\n",
    "\n",
    "outdoor_storage = np.array([80, 98, 75, 91, 78])\n",
    "garage_storage = np.array([100, 82, 105, 89, 102])\n",
    "print('Уличное хранение:', outdoor_storage)\n",
    "print('Гаражное хранение:', garage_storage)"
   ],
   "metadata": {
    "collapsed": false,
    "ExecuteTime": {
     "end_time": "2023-11-09T18:43:11.095929400Z",
     "start_time": "2023-11-09T18:43:10.839932800Z"
    }
   }
  },
  {
   "cell_type": "markdown",
   "source": [
    "# Найти и интерпретировать корреляцию между переменными «Улица» и «Гараж» (подсчитать корреляцию по Пирсону)."
   ],
   "metadata": {
    "collapsed": false
   }
  },
  {
   "cell_type": "markdown",
   "source": [
    "Коэффициент корреляции Пирсона (линейный коэффициент корреляции) – мера связи для двух непрерывных или характеризующих отношения переменных.\n",
    "\n",
    "Обозначение:\n",
    "− для выборки – r,\n",
    "− для генеральной совокупности – ρ.\n",
    "\n",
    "Принимает значения от –1 до +1.\n",
    "0 (нуль) – отсутствие связи между переменными.\n",
    "\n",
    "--------------------------------------------------------------------------------------\n",
    "Частая нулевая гипотеза для корреляционного анализа: переменные не связаны (r = 0).\n",
    "Альтернативная гипотеза: r ≠ 0.\n",
    "--------------------------------------------------------------------------------------"
   ],
   "metadata": {
    "collapsed": false
   }
  },
  {
   "cell_type": "code",
   "execution_count": 3,
   "outputs": [
    {
     "name": "stdout",
     "output_type": "stream",
     "text": [
      "Матрица коэффициентов корреляции: \n",
      "[[ 1. -1.]\n",
      " [-1.  1.]]\n",
      "Коэффициент корреляции между двумя переменными: -0.9999999999999998\n",
      "Коэффициент корреляции практически равен –1, что означает сильную отрицательную корреляцию.\n"
     ]
    }
   ],
   "source": [
    "print(f'Матрица коэффициентов корреляции: \\n{np.corrcoef(outdoor_storage, garage_storage)}')\n",
    "print(f'Коэффициент корреляции между двумя переменными: {np.corrcoef(outdoor_storage, garage_storage)[0, 1]}')\n",
    "print('Коэффициент корреляции практически равен –1, что означает сильную отрицательную корреляцию.')"
   ],
   "metadata": {
    "collapsed": false,
    "ExecuteTime": {
     "end_time": "2023-11-09T18:43:11.097929Z",
     "start_time": "2023-11-09T18:43:10.929931300Z"
    }
   }
  },
  {
   "cell_type": "markdown",
   "source": [
    "Коэффициент корреляции практически равен –1, что означает сильную отрицательную корреляцию."
   ],
   "metadata": {
    "collapsed": false
   }
  },
  {
   "cell_type": "code",
   "execution_count": 4,
   "outputs": [
    {
     "name": "stdout",
     "output_type": "stream",
     "text": [
      "На получившимся графике мы видим сильную отрицательную корреляцию\n"
     ]
    },
    {
     "data": {
      "text/plain": "<Figure size 640x480 with 1 Axes>",
      "image/png": "[encoded data removed]"
     },
     "metadata": {},
     "output_type": "display_data"
    }
   ],
   "source": [
    "import matplotlib.pyplot as plt\n",
    "\n",
    "plt.grid()\n",
    "plt.scatter(outdoor_storage, garage_storage, marker='o')\n",
    "plt.title('Диаграмма рассеивания данных о хранении автомобилей', fontsize='16')\n",
    "plt.xlabel('Стоянка на улице')\n",
    "plt.ylabel('Стоянка в гараже')\n",
    "print('На получившимся графике мы видим сильную отрицательную корреляцию')"
   ],
   "metadata": {
    "collapsed": false,
    "ExecuteTime": {
     "end_time": "2023-11-09T18:43:11.476935500Z",
     "start_time": "2023-11-09T18:43:10.943928800Z"
    }
   }
  },
  {
   "cell_type": "markdown",
   "source": [
    "# Найти и выгрузить данные.\n",
    "# Вывести, провести предобработку и описать признаки."
   ],
   "metadata": {
    "collapsed": false
   }
  },
  {
   "cell_type": "markdown",
   "source": [
    "About this file\n",
    "The data contains the different attributes of used/refurbished phones and tablets. The data was collected in the year 2021.\n",
    "\n",
    "About Dataset\n",
    "CONTEXT- The used and refurbished device market has grown considerably over the past decade as it provide cost-effective alternatives to both consumers and businesses that are looking to save money when purchasing one. Maximizing the longevity of devices through second-hand trade also reduces their environmental impact and helps in recycling and reducing waste. Here is a sample dataset of normalized used and new pricing data of refurbished / used devices.\n",
    "\n",
    "OBJECTIVE- The objective is to do Exploratory Data Analytics and apply Linear Regression to create a model which can help in pricing of such devices.\n",
    "\n",
    "META DATA\n",
    "device_brand: Name of manufacturing brand\n",
    "os: OS on which the device runs\n",
    "screen_size: Size of the screen in cm\n",
    "4g: Whether 4G is available or not\n",
    "5g: Whether 5G is available or not\n",
    "front_camera_mp: Resolution of the rear camera in megapixels\n",
    "back_camera_mp: Resolution of the front camera in megapixels\n",
    "internal_memory: Amount of internal memory (ROM) in GB\n",
    "ram: Amount of RAM in GB\n",
    "battery: Energy capacity of the device battery in mAh\n",
    "weight: Weight of the device in grams\n",
    "release_year: Year when the device model was released\n",
    "days_used: Number of days the used/refurbished device has been used\n",
    "normalized_new_price: Normalized price of a new device of the same model\n",
    "normalized_used_price (TARGET): Normalized price of the used/refurbished device"
   ],
   "metadata": {
    "collapsed": false
   }
  },
  {
   "cell_type": "code",
   "execution_count": 5,
   "outputs": [
    {
     "data": {
      "text/plain": "            phone_name   brand           os  inches resolution  battery  \\\n0         Y6II Compact  Huawei  Android 5.1    5.00   720x1280     2200   \n1             K20 plus      LG  Android 7.0    5.30   720x1280     2700   \n2       P8 Lite (2017)  Huawei  Android 7.0    5.20  1080x1920     3000   \n3         Redmi Note 4  Xiaomi  Android 6.0    5.50  1080x1920     4100   \n4                  P10  Huawei  Android 7.0    5.10  1080x1920     3200   \n...                ...     ...          ...     ...        ...      ...   \n1507         vivo Y77t    Vivo   Android 13    6.64  1080x2388     5000   \n1508               11x  Realme   Android 13    6.72  1080x2400     5000   \n1509               GT5  Realme   Android 13    6.74  1240x2772     5240   \n1510          GT5 240W  Realme   Android 13    6.74  1240x2772     4600   \n1511  vivo iQOO Z7 Pro    Vivo   Android 13    6.78  1080x2400     4600   \n\n     battery_type  ram(GB) announcement_date  weight(g)  ...  video_1080p  \\\n0           Li-Po        2        2016-09-01      140.0  ...        False   \n1          Li-Ion        2        2016-12-01      140.0  ...         True   \n2          Li-Ion        4        2017-01-01      147.0  ...         True   \n3           Li-Po        4        2017-01-01      165.0  ...         True   \n4          Li-Ion        4        2017-02-01      145.0  ...         True   \n...           ...      ...               ...        ...  ...          ...   \n1507        Li-Po        8        2023-08-18      190.0  ...         True   \n1508        Li-Po        8        2023-08-23      190.0  ...         True   \n1509        Li-Po       16        2023-08-28      205.0  ...         True   \n1510        Li-Po       24        2023-08-28      205.0  ...         True   \n1511        Li-Po        8        2023-08-31      175.0  ...         True   \n\n      video_4K  video_8K  video_30fps  video_60fps  video_120fps  \\\n0        False     False         True        False         False   \n1        False     False         True        False         False   \n2        False     False         True        False         False   \n3        False     False         True        False          True   \n4         True     False         True         True         False   \n...        ...       ...          ...          ...           ...   \n1507     False     False         True        False         False   \n1508     False     False         True        False         False   \n1509      True     False        False         True         False   \n1510      True     False        False         True         False   \n1511      True     False         True        False         False   \n\n      video_240fps  video_480fps  video_960fps  price(USD)  \n0            False         False         False     120.000  \n1            False         False         False     100.000  \n2            False         False         False     420.000  \n3            False         False         False     150.000  \n4            False         False         False     420.000  \n...            ...           ...           ...         ...  \n1507         False         False         False     170.000  \n1508         False         False         False     182.880  \n1509         False         False         False     380.000  \n1510         False         False         False     470.000  \n1511         False         False         False     287.988  \n\n[1512 rows x 22 columns]",
      "text/html": "<div>\n<style scoped>\n    .dataframe tbody tr th:only-of-type {\n        vertical-align: middle;\n    }\n\n    .dataframe tbody tr th {\n        vertical-align: top;\n    }\n\n    .dataframe thead th {\n        text-align: right;\n    }\n</style>\n<table border=\"1\" class=\"dataframe\">\n  <thead>\n    <tr style=\"text-align: right;\">\n      <th></th>\n      <th>phone_name</th>\n      <th>brand</th>\n      <th>os</th>\n      <th>inches</th>\n      <th>resolution</th>\n      <th>battery</th>\n      <th>battery_type</th>\n      <th>ram(GB)</th>\n      <th>announcement_date</th>\n      <th>weight(g)</th>\n      <th>...</th>\n      <th>video_1080p</th>\n      <th>video_4K</th>\n      <th>video_8K</th>\n      <th>video_30fps</th>\n      <th>video_60fps</th>\n      <th>video_120fps</th>\n      <th>video_240fps</th>\n      <th>video_480fps</th>\n      <th>video_960fps</th>\n      <th>price(USD)</th>\n    </tr>\n  </thead>\n  <tbody>\n    <tr>\n      <th>0</th>\n      <td>Y6II Compact</td>\n      <td>Huawei</td>\n      <td>Android 5.1</td>\n      <td>5.00</td>\n      <td>720x1280</td>\n      <td>2200</td>\n      <td>Li-Po</td>\n      <td>2</td>\n      <td>2016-09-01</td>\n      <td>140.0</td>\n      <td>...</td>\n      <td>False</td>\n      <td>False</td>\n      <td>False</td>\n      <td>True</td>\n      <td>False</td>\n      <td>False</td>\n      <td>False</td>\n      <td>False</td>\n      <td>False</td>\n      <td>120.000</td>\n    </tr>\n    <tr>\n      <th>1</th>\n      <td>K20 plus</td>\n      <td>LG</td>\n      <td>Android 7.0</td>\n      <td>5.30</td>\n      <td>720x1280</td>\n      <td>2700</td>\n      <td>Li-Ion</td>\n      <td>2</td>\n      <td>2016-12-01</td>\n      <td>140.0</td>\n      <td>...</td>\n      <td>True</td>\n      <td>False</td>\n      <td>False</td>\n      <td>True</td>\n      <td>False</td>\n      <td>False</td>\n      <td>False</td>\n      <td>False</td>\n      <td>False</td>\n      <td>100.000</td>\n    </tr>\n    <tr>\n      <th>2</th>\n      <td>P8 Lite (2017)</td>\n      <td>Huawei</td>\n      <td>Android 7.0</td>\n      <td>5.20</td>\n      <td>1080x1920</td>\n      <td>3000</td>\n      <td>Li-Ion</td>\n      <td>4</td>\n      <td>2017-01-01</td>\n      <td>147.0</td>\n      <td>...</td>\n      <td>True</td>\n      <td>False</td>\n      <td>False</td>\n      <td>True</td>\n      <td>False</td>\n      <td>False</td>\n      <td>False</td>\n      <td>False</td>\n      <td>False</td>\n      <td>420.000</td>\n    </tr>\n    <tr>\n      <th>3</th>\n      <td>Redmi Note 4</td>\n      <td>Xiaomi</td>\n      <td>Android 6.0</td>\n      <td>5.50</td>\n      <td>1080x1920</td>\n      <td>4100</td>\n      <td>Li-Po</td>\n      <td>4</td>\n      <td>2017-01-01</td>\n      <td>165.0</td>\n      <td>...</td>\n      <td>True</td>\n      <td>False</td>\n      <td>False</td>\n      <td>True</td>\n      <td>False</td>\n      <td>True</td>\n      <td>False</td>\n      <td>False</td>\n      <td>False</td>\n      <td>150.000</td>\n    </tr>\n    <tr>\n      <th>4</th>\n      <td>P10</td>\n      <td>Huawei</td>\n      <td>Android 7.0</td>\n      <td>5.10</td>\n      <td>1080x1920</td>\n      <td>3200</td>\n      <td>Li-Ion</td>\n      <td>4</td>\n      <td>2017-02-01</td>\n      <td>145.0</td>\n      <td>...</td>\n      <td>True</td>\n      <td>True</td>\n      <td>False</td>\n      <td>True</td>\n      <td>True</td>\n      <td>False</td>\n      <td>False</td>\n      <td>False</td>\n      <td>False</td>\n      <td>420.000</td>\n    </tr>\n    <tr>\n      <th>...</th>\n      <td>...</td>\n      <td>...</td>\n      <td>...</td>\n      <td>...</td>\n      <td>...</td>\n      <td>...</td>\n      <td>...</td>\n      <td>...</td>\n      <td>...</td>\n      <td>...</td>\n      <td>...</td>\n      <td>...</td>\n      <td>...</td>\n      <td>...</td>\n      <td>...</td>\n      <td>...</td>\n      <td>...</td>\n      <td>...</td>\n      <td>...</td>\n      <td>...</td>\n      <td>...</td>\n    </tr>\n    <tr>\n      <th>1507</th>\n      <td>vivo Y77t</td>\n      <td>Vivo</td>\n      <td>Android 13</td>\n      <td>6.64</td>\n      <td>1080x2388</td>\n      <td>5000</td>\n      <td>Li-Po</td>\n      <td>8</td>\n      <td>2023-08-18</td>\n      <td>190.0</td>\n      <td>...</td>\n      <td>True</td>\n      <td>False</td>\n      <td>False</td>\n      <td>True</td>\n      <td>False</td>\n      <td>False</td>\n      <td>False</td>\n      <td>False</td>\n      <td>False</td>\n      <td>170.000</td>\n    </tr>\n    <tr>\n      <th>1508</th>\n      <td>11x</td>\n      <td>Realme</td>\n      <td>Android 13</td>\n      <td>6.72</td>\n      <td>1080x2400</td>\n      <td>5000</td>\n      <td>Li-Po</td>\n      <td>8</td>\n      <td>2023-08-23</td>\n      <td>190.0</td>\n      <td>...</td>\n      <td>True</td>\n      <td>False</td>\n      <td>False</td>\n      <td>True</td>\n      <td>False</td>\n      <td>False</td>\n      <td>False</td>\n      <td>False</td>\n      <td>False</td>\n      <td>182.880</td>\n    </tr>\n    <tr>\n      <th>1509</th>\n      <td>GT5</td>\n      <td>Realme</td>\n      <td>Android 13</td>\n      <td>6.74</td>\n      <td>1240x2772</td>\n      <td>5240</td>\n      <td>Li-Po</td>\n      <td>16</td>\n      <td>2023-08-28</td>\n      <td>205.0</td>\n      <td>...</td>\n      <td>True</td>\n      <td>True</td>\n      <td>False</td>\n      <td>False</td>\n      <td>True</td>\n      <td>False</td>\n      <td>False</td>\n      <td>False</td>\n      <td>False</td>\n      <td>380.000</td>\n    </tr>\n    <tr>\n      <th>1510</th>\n      <td>GT5 240W</td>\n      <td>Realme</td>\n      <td>Android 13</td>\n      <td>6.74</td>\n      <td>1240x2772</td>\n      <td>4600</td>\n      <td>Li-Po</td>\n      <td>24</td>\n      <td>2023-08-28</td>\n      <td>205.0</td>\n      <td>...</td>\n      <td>True</td>\n      <td>True</td>\n      <td>False</td>\n      <td>False</td>\n      <td>True</td>\n      <td>False</td>\n      <td>False</td>\n      <td>False</td>\n      <td>False</td>\n      <td>470.000</td>\n    </tr>\n    <tr>\n      <th>1511</th>\n      <td>vivo iQOO Z7 Pro</td>\n      <td>Vivo</td>\n      <td>Android 13</td>\n      <td>6.78</td>\n      <td>1080x2400</td>\n      <td>4600</td>\n      <td>Li-Po</td>\n      <td>8</td>\n      <td>2023-08-31</td>\n      <td>175.0</td>\n      <td>...</td>\n      <td>True</td>\n      <td>True</td>\n      <td>False</td>\n      <td>True</td>\n      <td>False</td>\n      <td>False</td>\n      <td>False</td>\n      <td>False</td>\n      <td>False</td>\n      <td>287.988</td>\n    </tr>\n  </tbody>\n</table>\n<p>1512 rows × 22 columns</p>\n</div>"
     },
     "execution_count": 5,
     "metadata": {},
     "output_type": "execute_result"
    }
   ],
   "source": [
    "import pandas as pd\n",
    "\n",
    "data = pd.read_csv('cleaned_all_phones.csv')\n",
    "data"
   ],
   "metadata": {
    "collapsed": false,
    "ExecuteTime": {
     "end_time": "2023-11-09T18:43:11.773936700Z",
     "start_time": "2023-11-09T18:43:11.472936600Z"
    }
   }
  },
  {
   "cell_type": "code",
   "execution_count": 6,
   "outputs": [
    {
     "data": {
      "text/plain": "            inches      battery      ram(GB)    weight(g)  storage(GB)  \\\ncount  1512.000000  1512.000000  1512.000000  1512.000000  1512.000000   \nmean      6.422460  4389.798942     6.683862   187.636243   109.164683   \nstd       0.477043   784.607022     2.701433    26.200115    74.436484   \nmin       3.800000  1821.000000     1.000000   130.000000     1.000000   \n25%       6.300000  4000.000000     4.000000   175.000000    64.000000   \n50%       6.500000  4500.000000     8.000000   187.000000   128.000000   \n75%       6.670000  5000.000000     8.000000   197.250000   128.000000   \nmax      10.400000  7250.000000    24.000000   500.000000   512.000000   \n\n        price(USD)  \ncount  1512.000000  \nmean    337.847036  \nstd     266.740821  \nmin      40.000000  \n25%     179.997500  \n50%     260.000000  \n75%     400.000000  \nmax    2300.000000  ",
      "text/html": "<div>\n<style scoped>\n    .dataframe tbody tr th:only-of-type {\n        vertical-align: middle;\n    }\n\n    .dataframe tbody tr th {\n        vertical-align: top;\n    }\n\n    .dataframe thead th {\n        text-align: right;\n    }\n</style>\n<table border=\"1\" class=\"dataframe\">\n  <thead>\n    <tr style=\"text-align: right;\">\n      <th></th>\n      <th>inches</th>\n      <th>battery</th>\n      <th>ram(GB)</th>\n      <th>weight(g)</th>\n      <th>storage(GB)</th>\n      <th>price(USD)</th>\n    </tr>\n  </thead>\n  <tbody>\n    <tr>\n      <th>count</th>\n      <td>1512.000000</td>\n      <td>1512.000000</td>\n      <td>1512.000000</td>\n      <td>1512.000000</td>\n      <td>1512.000000</td>\n      <td>1512.000000</td>\n    </tr>\n    <tr>\n      <th>mean</th>\n      <td>6.422460</td>\n      <td>4389.798942</td>\n      <td>6.683862</td>\n      <td>187.636243</td>\n      <td>109.164683</td>\n      <td>337.847036</td>\n    </tr>\n    <tr>\n      <th>std</th>\n      <td>0.477043</td>\n      <td>784.607022</td>\n      <td>2.701433</td>\n      <td>26.200115</td>\n      <td>74.436484</td>\n      <td>266.740821</td>\n    </tr>\n    <tr>\n      <th>min</th>\n      <td>3.800000</td>\n      <td>1821.000000</td>\n      <td>1.000000</td>\n      <td>130.000000</td>\n      <td>1.000000</td>\n      <td>40.000000</td>\n    </tr>\n    <tr>\n      <th>25%</th>\n      <td>6.300000</td>\n      <td>4000.000000</td>\n      <td>4.000000</td>\n      <td>175.000000</td>\n      <td>64.000000</td>\n      <td>179.997500</td>\n    </tr>\n    <tr>\n      <th>50%</th>\n      <td>6.500000</td>\n      <td>4500.000000</td>\n      <td>8.000000</td>\n      <td>187.000000</td>\n      <td>128.000000</td>\n      <td>260.000000</td>\n    </tr>\n    <tr>\n      <th>75%</th>\n      <td>6.670000</td>\n      <td>5000.000000</td>\n      <td>8.000000</td>\n      <td>197.250000</td>\n      <td>128.000000</td>\n      <td>400.000000</td>\n    </tr>\n    <tr>\n      <th>max</th>\n      <td>10.400000</td>\n      <td>7250.000000</td>\n      <td>24.000000</td>\n      <td>500.000000</td>\n      <td>512.000000</td>\n      <td>2300.000000</td>\n    </tr>\n  </tbody>\n</table>\n</div>"
     },
     "execution_count": 6,
     "metadata": {},
     "output_type": "execute_result"
    }
   ],
   "source": [
    "data.describe()"
   ],
   "metadata": {
    "collapsed": false,
    "ExecuteTime": {
     "end_time": "2023-11-09T18:43:11.841934Z",
     "start_time": "2023-11-09T18:43:11.767935800Z"
    }
   }
  },
  {
   "cell_type": "code",
   "execution_count": 7,
   "outputs": [
    {
     "data": {
      "text/plain": "phone_name           0\nbrand                0\nos                   0\ninches               0\nresolution           0\nbattery              0\nbattery_type         0\nram(GB)              0\nannouncement_date    0\nweight(g)            0\nstorage(GB)          0\nvideo_720p           0\nvideo_1080p          0\nvideo_4K             0\nvideo_8K             0\nvideo_30fps          0\nvideo_60fps          0\nvideo_120fps         0\nvideo_240fps         0\nvideo_480fps         0\nvideo_960fps         0\nprice(USD)           0\ndtype: int64"
     },
     "execution_count": 7,
     "metadata": {},
     "output_type": "execute_result"
    }
   ],
   "source": [
    "data.isnull().sum()"
   ],
   "metadata": {
    "collapsed": false,
    "ExecuteTime": {
     "end_time": "2023-11-09T18:43:12.010935400Z",
     "start_time": "2023-11-09T18:43:11.797936500Z"
    }
   }
  },
  {
   "cell_type": "code",
   "execution_count": 8,
   "outputs": [],
   "source": [
    "data = data[data.apply(lambda row: not any(row == 'None'), axis=1)]"
   ],
   "metadata": {
    "collapsed": false,
    "ExecuteTime": {
     "end_time": "2023-11-09T18:43:12.077934500Z",
     "start_time": "2023-11-09T18:43:11.814936300Z"
    }
   }
  },
  {
   "cell_type": "code",
   "execution_count": 9,
   "outputs": [
    {
     "name": "stdout",
     "output_type": "stream",
     "text": [
      "<class 'pandas.core.frame.DataFrame'>\n",
      "Int64Index: 1512 entries, 0 to 1511\n",
      "Data columns (total 22 columns):\n",
      " #   Column             Non-Null Count  Dtype  \n",
      "---  ------             --------------  -----  \n",
      " 0   phone_name         1512 non-null   object \n",
      " 1   brand              1512 non-null   object \n",
      " 2   os                 1512 non-null   object \n",
      " 3   inches             1512 non-null   float64\n",
      " 4   resolution         1512 non-null   object \n",
      " 5   battery            1512 non-null   int64  \n",
      " 6   battery_type       1512 non-null   object \n",
      " 7   ram(GB)            1512 non-null   int64  \n",
      " 8   announcement_date  1512 non-null   object \n",
      " 9   weight(g)          1512 non-null   float64\n",
      " 10  storage(GB)        1512 non-null   int64  \n",
      " 11  video_720p         1512 non-null   bool   \n",
      " 12  video_1080p        1512 non-null   bool   \n",
      " 13  video_4K           1512 non-null   bool   \n",
      " 14  video_8K           1512 non-null   bool   \n",
      " 15  video_30fps        1512 non-null   bool   \n",
      " 16  video_60fps        1512 non-null   bool   \n",
      " 17  video_120fps       1512 non-null   bool   \n",
      " 18  video_240fps       1512 non-null   bool   \n",
      " 19  video_480fps       1512 non-null   bool   \n",
      " 20  video_960fps       1512 non-null   bool   \n",
      " 21  price(USD)         1512 non-null   float64\n",
      "dtypes: bool(10), float64(3), int64(3), object(6)\n",
      "memory usage: 168.3+ KB\n"
     ]
    }
   ],
   "source": [
    "data.info()"
   ],
   "metadata": {
    "collapsed": false,
    "ExecuteTime": {
     "end_time": "2023-11-09T18:43:12.078936900Z",
     "start_time": "2023-11-09T18:43:11.953938500Z"
    }
   }
  },
  {
   "cell_type": "code",
   "execution_count": 10,
   "outputs": [
    {
     "data": {
      "text/plain": "phone_name           0\nbrand                0\nos                   0\ninches               0\nresolution           0\nbattery              0\nbattery_type         0\nram(GB)              0\nannouncement_date    0\nweight(g)            0\nstorage(GB)          0\nvideo_720p           0\nvideo_1080p          0\nvideo_4K             0\nvideo_8K             0\nvideo_30fps          0\nvideo_60fps          0\nvideo_120fps         0\nvideo_240fps         0\nvideo_480fps         0\nvideo_960fps         0\nprice(USD)           0\ndtype: int64"
     },
     "execution_count": 10,
     "metadata": {},
     "output_type": "execute_result"
    }
   ],
   "source": [
    "data.isnull().sum()"
   ],
   "metadata": {
    "collapsed": false,
    "ExecuteTime": {
     "end_time": "2023-11-09T18:43:12.078936900Z",
     "start_time": "2023-11-09T18:43:11.968936Z"
    }
   }
  },
  {
   "cell_type": "markdown",
   "source": [
    "# Данные предобработанны"
   ],
   "metadata": {
    "collapsed": false
   }
  },
  {
   "cell_type": "markdown",
   "source": [
    "# Построить корреляционную матрицу по одной целевой переменной. Определить наиболее коррелирующую переменную, продолжить с ней работу в следующем пункте."
   ],
   "metadata": {
    "collapsed": false
   }
  },
  {
   "cell_type": "code",
   "execution_count": 11,
   "outputs": [
    {
     "data": {
      "text/plain": "            phone_name   brand           os  inches resolution  battery  \\\n0         Y6II Compact  Huawei  Android 5.1    5.00   720x1280     2200   \n1             K20 plus      LG  Android 7.0    5.30   720x1280     2700   \n2       P8 Lite (2017)  Huawei  Android 7.0    5.20  1080x1920     3000   \n3         Redmi Note 4  Xiaomi  Android 6.0    5.50  1080x1920     4100   \n4                  P10  Huawei  Android 7.0    5.10  1080x1920     3200   \n...                ...     ...          ...     ...        ...      ...   \n1507         vivo Y77t    Vivo   Android 13    6.64  1080x2388     5000   \n1508               11x  Realme   Android 13    6.72  1080x2400     5000   \n1509               GT5  Realme   Android 13    6.74  1240x2772     5240   \n1510          GT5 240W  Realme   Android 13    6.74  1240x2772     4600   \n1511  vivo iQOO Z7 Pro    Vivo   Android 13    6.78  1080x2400     4600   \n\n     battery_type  ram(GB) announcement_date  weight(g)  ...  video_1080p  \\\n0           Li-Po        2        2016-09-01      140.0  ...        False   \n1          Li-Ion        2        2016-12-01      140.0  ...         True   \n2          Li-Ion        4        2017-01-01      147.0  ...         True   \n3           Li-Po        4        2017-01-01      165.0  ...         True   \n4          Li-Ion        4        2017-02-01      145.0  ...         True   \n...           ...      ...               ...        ...  ...          ...   \n1507        Li-Po        8        2023-08-18      190.0  ...         True   \n1508        Li-Po        8        2023-08-23      190.0  ...         True   \n1509        Li-Po       16        2023-08-28      205.0  ...         True   \n1510        Li-Po       24        2023-08-28      205.0  ...         True   \n1511        Li-Po        8        2023-08-31      175.0  ...         True   \n\n      video_4K  video_8K  video_30fps  video_60fps  video_120fps  \\\n0        False     False         True        False         False   \n1        False     False         True        False         False   \n2        False     False         True        False         False   \n3        False     False         True        False          True   \n4         True     False         True         True         False   \n...        ...       ...          ...          ...           ...   \n1507     False     False         True        False         False   \n1508     False     False         True        False         False   \n1509      True     False        False         True         False   \n1510      True     False        False         True         False   \n1511      True     False         True        False         False   \n\n      video_240fps  video_480fps  video_960fps  price(USD)  \n0            False         False         False     120.000  \n1            False         False         False     100.000  \n2            False         False         False     420.000  \n3            False         False         False     150.000  \n4            False         False         False     420.000  \n...            ...           ...           ...         ...  \n1507         False         False         False     170.000  \n1508         False         False         False     182.880  \n1509         False         False         False     380.000  \n1510         False         False         False     470.000  \n1511         False         False         False     287.988  \n\n[1512 rows x 22 columns]",
      "text/html": "<div>\n<style scoped>\n    .dataframe tbody tr th:only-of-type {\n        vertical-align: middle;\n    }\n\n    .dataframe tbody tr th {\n        vertical-align: top;\n    }\n\n    .dataframe thead th {\n        text-align: right;\n    }\n</style>\n<table border=\"1\" class=\"dataframe\">\n  <thead>\n    <tr style=\"text-align: right;\">\n      <th></th>\n      <th>phone_name</th>\n      <th>brand</th>\n      <th>os</th>\n      <th>inches</th>\n      <th>resolution</th>\n      <th>battery</th>\n      <th>battery_type</th>\n      <th>ram(GB)</th>\n      <th>announcement_date</th>\n      <th>weight(g)</th>\n      <th>...</th>\n      <th>video_1080p</th>\n      <th>video_4K</th>\n      <th>video_8K</th>\n      <th>video_30fps</th>\n      <th>video_60fps</th>\n      <th>video_120fps</th>\n      <th>video_240fps</th>\n      <th>video_480fps</th>\n      <th>video_960fps</th>\n      <th>price(USD)</th>\n    </tr>\n  </thead>\n  <tbody>\n    <tr>\n      <th>0</th>\n      <td>Y6II Compact</td>\n      <td>Huawei</td>\n      <td>Android 5.1</td>\n      <td>5.00</td>\n      <td>720x1280</td>\n      <td>2200</td>\n      <td>Li-Po</td>\n      <td>2</td>\n      <td>2016-09-01</td>\n      <td>140.0</td>\n      <td>...</td>\n      <td>False</td>\n      <td>False</td>\n      <td>False</td>\n      <td>True</td>\n      <td>False</td>\n      <td>False</td>\n      <td>False</td>\n      <td>False</td>\n      <td>False</td>\n      <td>120.000</td>\n    </tr>\n    <tr>\n      <th>1</th>\n      <td>K20 plus</td>\n      <td>LG</td>\n      <td>Android 7.0</td>\n      <td>5.30</td>\n      <td>720x1280</td>\n      <td>2700</td>\n      <td>Li-Ion</td>\n      <td>2</td>\n      <td>2016-12-01</td>\n      <td>140.0</td>\n      <td>...</td>\n      <td>True</td>\n      <td>False</td>\n      <td>False</td>\n      <td>True</td>\n      <td>False</td>\n      <td>False</td>\n      <td>False</td>\n      <td>False</td>\n      <td>False</td>\n      <td>100.000</td>\n    </tr>\n    <tr>\n      <th>2</th>\n      <td>P8 Lite (2017)</td>\n      <td>Huawei</td>\n      <td>Android 7.0</td>\n      <td>5.20</td>\n      <td>1080x1920</td>\n      <td>3000</td>\n      <td>Li-Ion</td>\n      <td>4</td>\n      <td>2017-01-01</td>\n      <td>147.0</td>\n      <td>...</td>\n      <td>True</td>\n      <td>False</td>\n      <td>False</td>\n      <td>True</td>\n      <td>False</td>\n      <td>False</td>\n      <td>False</td>\n      <td>False</td>\n      <td>False</td>\n      <td>420.000</td>\n    </tr>\n    <tr>\n      <th>3</th>\n      <td>Redmi Note 4</td>\n      <td>Xiaomi</td>\n      <td>Android 6.0</td>\n      <td>5.50</td>\n      <td>1080x1920</td>\n      <td>4100</td>\n      <td>Li-Po</td>\n      <td>4</td>\n      <td>2017-01-01</td>\n      <td>165.0</td>\n      <td>...</td>\n      <td>True</td>\n      <td>False</td>\n      <td>False</td>\n      <td>True</td>\n      <td>False</td>\n      <td>True</td>\n      <td>False</td>\n      <td>False</td>\n      <td>False</td>\n      <td>150.000</td>\n    </tr>\n    <tr>\n      <th>4</th>\n      <td>P10</td>\n      <td>Huawei</td>\n      <td>Android 7.0</td>\n      <td>5.10</td>\n      <td>1080x1920</td>\n      <td>3200</td>\n      <td>Li-Ion</td>\n      <td>4</td>\n      <td>2017-02-01</td>\n      <td>145.0</td>\n      <td>...</td>\n      <td>True</td>\n      <td>True</td>\n      <td>False</td>\n      <td>True</td>\n      <td>True</td>\n      <td>False</td>\n      <td>False</td>\n      <td>False</td>\n      <td>False</td>\n      <td>420.000</td>\n    </tr>\n    <tr>\n      <th>...</th>\n      <td>...</td>\n      <td>...</td>\n      <td>...</td>\n      <td>...</td>\n      <td>...</td>\n      <td>...</td>\n      <td>...</td>\n      <td>...</td>\n      <td>...</td>\n      <td>...</td>\n      <td>...</td>\n      <td>...</td>\n      <td>...</td>\n      <td>...</td>\n      <td>...</td>\n      <td>...</td>\n      <td>...</td>\n      <td>...</td>\n      <td>...</td>\n      <td>...</td>\n      <td>...</td>\n    </tr>\n    <tr>\n      <th>1507</th>\n      <td>vivo Y77t</td>\n      <td>Vivo</td>\n      <td>Android 13</td>\n      <td>6.64</td>\n      <td>1080x2388</td>\n      <td>5000</td>\n      <td>Li-Po</td>\n      <td>8</td>\n      <td>2023-08-18</td>\n      <td>190.0</td>\n      <td>...</td>\n      <td>True</td>\n      <td>False</td>\n      <td>False</td>\n      <td>True</td>\n      <td>False</td>\n      <td>False</td>\n      <td>False</td>\n      <td>False</td>\n      <td>False</td>\n      <td>170.000</td>\n    </tr>\n    <tr>\n      <th>1508</th>\n      <td>11x</td>\n      <td>Realme</td>\n      <td>Android 13</td>\n      <td>6.72</td>\n      <td>1080x2400</td>\n      <td>5000</td>\n      <td>Li-Po</td>\n      <td>8</td>\n      <td>2023-08-23</td>\n      <td>190.0</td>\n      <td>...</td>\n      <td>True</td>\n      <td>False</td>\n      <td>False</td>\n      <td>True</td>\n      <td>False</td>\n      <td>False</td>\n      <td>False</td>\n      <td>False</td>\n      <td>False</td>\n      <td>182.880</td>\n    </tr>\n    <tr>\n      <th>1509</th>\n      <td>GT5</td>\n      <td>Realme</td>\n      <td>Android 13</td>\n      <td>6.74</td>\n      <td>1240x2772</td>\n      <td>5240</td>\n      <td>Li-Po</td>\n      <td>16</td>\n      <td>2023-08-28</td>\n      <td>205.0</td>\n      <td>...</td>\n      <td>True</td>\n      <td>True</td>\n      <td>False</td>\n      <td>False</td>\n      <td>True</td>\n      <td>False</td>\n      <td>False</td>\n      <td>False</td>\n      <td>False</td>\n      <td>380.000</td>\n    </tr>\n    <tr>\n      <th>1510</th>\n      <td>GT5 240W</td>\n      <td>Realme</td>\n      <td>Android 13</td>\n      <td>6.74</td>\n      <td>1240x2772</td>\n      <td>4600</td>\n      <td>Li-Po</td>\n      <td>24</td>\n      <td>2023-08-28</td>\n      <td>205.0</td>\n      <td>...</td>\n      <td>True</td>\n      <td>True</td>\n      <td>False</td>\n      <td>False</td>\n      <td>True</td>\n      <td>False</td>\n      <td>False</td>\n      <td>False</td>\n      <td>False</td>\n      <td>470.000</td>\n    </tr>\n    <tr>\n      <th>1511</th>\n      <td>vivo iQOO Z7 Pro</td>\n      <td>Vivo</td>\n      <td>Android 13</td>\n      <td>6.78</td>\n      <td>1080x2400</td>\n      <td>4600</td>\n      <td>Li-Po</td>\n      <td>8</td>\n      <td>2023-08-31</td>\n      <td>175.0</td>\n      <td>...</td>\n      <td>True</td>\n      <td>True</td>\n      <td>False</td>\n      <td>True</td>\n      <td>False</td>\n      <td>False</td>\n      <td>False</td>\n      <td>False</td>\n      <td>False</td>\n      <td>287.988</td>\n    </tr>\n  </tbody>\n</table>\n<p>1512 rows × 22 columns</p>\n</div>"
     },
     "execution_count": 11,
     "metadata": {},
     "output_type": "execute_result"
    }
   ],
   "source": [
    "data"
   ],
   "metadata": {
    "collapsed": false,
    "ExecuteTime": {
     "end_time": "2023-11-09T18:43:12.108934800Z",
     "start_time": "2023-11-09T18:43:11.984936Z"
    }
   }
  },
  {
   "cell_type": "code",
   "execution_count": 12,
   "outputs": [
    {
     "data": {
      "text/plain": "      brand    os  inches  resolution  battery  battery_type  ram(GB)  \\\n0       0.0   0.0     0.0         0.0   2200.0           0.0      2.0   \n1       1.0   1.0     1.0         0.0   2700.0           1.0      2.0   \n2       0.0   1.0     2.0         1.0   3000.0           1.0      4.0   \n3       2.0   2.0     3.0         1.0   4100.0           0.0      4.0   \n4       0.0   1.0     4.0         1.0   3200.0           1.0      4.0   \n...     ...   ...     ...         ...      ...           ...      ...   \n1507   12.0  31.0    92.0        58.0   5000.0           0.0      8.0   \n1508   10.0  31.0    77.0        34.0   5000.0           0.0      8.0   \n1509   10.0  31.0    83.0        79.0   5240.0           0.0     16.0   \n1510   10.0  31.0    83.0        79.0   4600.0           0.0     24.0   \n1511   12.0  31.0    66.0        34.0   4600.0           0.0      8.0   \n\n      weight(g)  storage(GB)  video_720p  video_1080p  video_4K  video_8K  \\\n0         140.0         16.0         0.0          0.0       0.0       0.0   \n1         140.0         16.0         1.0          1.0       0.0       0.0   \n2         147.0         16.0         1.0          1.0       0.0       0.0   \n3         165.0         32.0         0.0          1.0       0.0       0.0   \n4         145.0         32.0         0.0          1.0       1.0       0.0   \n...         ...          ...         ...          ...       ...       ...   \n1507      190.0        256.0         1.0          1.0       0.0       0.0   \n1508      190.0        128.0         1.0          1.0       0.0       0.0   \n1509      205.0        256.0         0.0          1.0       1.0       0.0   \n1510      205.0          1.0         0.0          1.0       1.0       0.0   \n1511      175.0        128.0         0.0          1.0       1.0       0.0   \n\n      video_30fps  video_60fps  video_120fps  video_240fps  video_480fps  \\\n0             0.0          0.0           0.0           0.0           0.0   \n1             0.0          0.0           0.0           0.0           0.0   \n2             0.0          0.0           0.0           0.0           0.0   \n3             0.0          0.0           1.0           0.0           0.0   \n4             0.0          1.0           0.0           0.0           0.0   \n...           ...          ...           ...           ...           ...   \n1507          0.0          0.0           0.0           0.0           0.0   \n1508          0.0          0.0           0.0           0.0           0.0   \n1509          1.0          1.0           0.0           0.0           0.0   \n1510          1.0          1.0           0.0           0.0           0.0   \n1511          0.0          0.0           0.0           0.0           0.0   \n\n      video_960fps    PRICE  \n0              0.0  120.000  \n1              0.0  100.000  \n2              0.0  420.000  \n3              0.0  150.000  \n4              0.0  420.000  \n...            ...      ...  \n1507           0.0  170.000  \n1508           0.0  182.880  \n1509           0.0  380.000  \n1510           0.0  470.000  \n1511           0.0  287.988  \n\n[1512 rows x 20 columns]",
      "text/html": "<div>\n<style scoped>\n    .dataframe tbody tr th:only-of-type {\n        vertical-align: middle;\n    }\n\n    .dataframe tbody tr th {\n        vertical-align: top;\n    }\n\n    .dataframe thead th {\n        text-align: right;\n    }\n</style>\n<table border=\"1\" class=\"dataframe\">\n  <thead>\n    <tr style=\"text-align: right;\">\n      <th></th>\n      <th>brand</th>\n      <th>os</th>\n      <th>inches</th>\n      <th>resolution</th>\n      <th>battery</th>\n      <th>battery_type</th>\n      <th>ram(GB)</th>\n      <th>weight(g)</th>\n      <th>storage(GB)</th>\n      <th>video_720p</th>\n      <th>video_1080p</th>\n      <th>video_4K</th>\n      <th>video_8K</th>\n      <th>video_30fps</th>\n      <th>video_60fps</th>\n      <th>video_120fps</th>\n      <th>video_240fps</th>\n      <th>video_480fps</th>\n      <th>video_960fps</th>\n      <th>PRICE</th>\n    </tr>\n  </thead>\n  <tbody>\n    <tr>\n      <th>0</th>\n      <td>0.0</td>\n      <td>0.0</td>\n      <td>0.0</td>\n      <td>0.0</td>\n      <td>2200.0</td>\n      <td>0.0</td>\n      <td>2.0</td>\n      <td>140.0</td>\n      <td>16.0</td>\n      <td>0.0</td>\n      <td>0.0</td>\n      <td>0.0</td>\n      <td>0.0</td>\n      <td>0.0</td>\n      <td>0.0</td>\n      <td>0.0</td>\n      <td>0.0</td>\n      <td>0.0</td>\n      <td>0.0</td>\n      <td>120.000</td>\n    </tr>\n    <tr>\n      <th>1</th>\n      <td>1.0</td>\n      <td>1.0</td>\n      <td>1.0</td>\n      <td>0.0</td>\n      <td>2700.0</td>\n      <td>1.0</td>\n      <td>2.0</td>\n      <td>140.0</td>\n      <td>16.0</td>\n      <td>1.0</td>\n      <td>1.0</td>\n      <td>0.0</td>\n      <td>0.0</td>\n      <td>0.0</td>\n      <td>0.0</td>\n      <td>0.0</td>\n      <td>0.0</td>\n      <td>0.0</td>\n      <td>0.0</td>\n      <td>100.000</td>\n    </tr>\n    <tr>\n      <th>2</th>\n      <td>0.0</td>\n      <td>1.0</td>\n      <td>2.0</td>\n      <td>1.0</td>\n      <td>3000.0</td>\n      <td>1.0</td>\n      <td>4.0</td>\n      <td>147.0</td>\n      <td>16.0</td>\n      <td>1.0</td>\n      <td>1.0</td>\n      <td>0.0</td>\n      <td>0.0</td>\n      <td>0.0</td>\n      <td>0.0</td>\n      <td>0.0</td>\n      <td>0.0</td>\n      <td>0.0</td>\n      <td>0.0</td>\n      <td>420.000</td>\n    </tr>\n    <tr>\n      <th>3</th>\n      <td>2.0</td>\n      <td>2.0</td>\n      <td>3.0</td>\n      <td>1.0</td>\n      <td>4100.0</td>\n      <td>0.0</td>\n      <td>4.0</td>\n      <td>165.0</td>\n      <td>32.0</td>\n      <td>0.0</td>\n      <td>1.0</td>\n      <td>0.0</td>\n      <td>0.0</td>\n      <td>0.0</td>\n      <td>0.0</td>\n      <td>1.0</td>\n      <td>0.0</td>\n      <td>0.0</td>\n      <td>0.0</td>\n      <td>150.000</td>\n    </tr>\n    <tr>\n      <th>4</th>\n      <td>0.0</td>\n      <td>1.0</td>\n      <td>4.0</td>\n      <td>1.0</td>\n      <td>3200.0</td>\n      <td>1.0</td>\n      <td>4.0</td>\n      <td>145.0</td>\n      <td>32.0</td>\n      <td>0.0</td>\n      <td>1.0</td>\n      <td>1.0</td>\n      <td>0.0</td>\n      <td>0.0</td>\n      <td>1.0</td>\n      <td>0.0</td>\n      <td>0.0</td>\n      <td>0.0</td>\n      <td>0.0</td>\n      <td>420.000</td>\n    </tr>\n    <tr>\n      <th>...</th>\n      <td>...</td>\n      <td>...</td>\n      <td>...</td>\n      <td>...</td>\n      <td>...</td>\n      <td>...</td>\n      <td>...</td>\n      <td>...</td>\n      <td>...</td>\n      <td>...</td>\n      <td>...</td>\n      <td>...</td>\n      <td>...</td>\n      <td>...</td>\n      <td>...</td>\n      <td>...</td>\n      <td>...</td>\n      <td>...</td>\n      <td>...</td>\n      <td>...</td>\n    </tr>\n    <tr>\n      <th>1507</th>\n      <td>12.0</td>\n      <td>31.0</td>\n      <td>92.0</td>\n      <td>58.0</td>\n      <td>5000.0</td>\n      <td>0.0</td>\n      <td>8.0</td>\n      <td>190.0</td>\n      <td>256.0</td>\n      <td>1.0</td>\n      <td>1.0</td>\n      <td>0.0</td>\n      <td>0.0</td>\n      <td>0.0</td>\n      <td>0.0</td>\n      <td>0.0</td>\n      <td>0.0</td>\n      <td>0.0</td>\n      <td>0.0</td>\n      <td>170.000</td>\n    </tr>\n    <tr>\n      <th>1508</th>\n      <td>10.0</td>\n      <td>31.0</td>\n      <td>77.0</td>\n      <td>34.0</td>\n      <td>5000.0</td>\n      <td>0.0</td>\n      <td>8.0</td>\n      <td>190.0</td>\n      <td>128.0</td>\n      <td>1.0</td>\n      <td>1.0</td>\n      <td>0.0</td>\n      <td>0.0</td>\n      <td>0.0</td>\n      <td>0.0</td>\n      <td>0.0</td>\n      <td>0.0</td>\n      <td>0.0</td>\n      <td>0.0</td>\n      <td>182.880</td>\n    </tr>\n    <tr>\n      <th>1509</th>\n      <td>10.0</td>\n      <td>31.0</td>\n      <td>83.0</td>\n      <td>79.0</td>\n      <td>5240.0</td>\n      <td>0.0</td>\n      <td>16.0</td>\n      <td>205.0</td>\n      <td>256.0</td>\n      <td>0.0</td>\n      <td>1.0</td>\n      <td>1.0</td>\n      <td>0.0</td>\n      <td>1.0</td>\n      <td>1.0</td>\n      <td>0.0</td>\n      <td>0.0</td>\n      <td>0.0</td>\n      <td>0.0</td>\n      <td>380.000</td>\n    </tr>\n    <tr>\n      <th>1510</th>\n      <td>10.0</td>\n      <td>31.0</td>\n      <td>83.0</td>\n      <td>79.0</td>\n      <td>4600.0</td>\n      <td>0.0</td>\n      <td>24.0</td>\n      <td>205.0</td>\n      <td>1.0</td>\n      <td>0.0</td>\n      <td>1.0</td>\n      <td>1.0</td>\n      <td>0.0</td>\n      <td>1.0</td>\n      <td>1.0</td>\n      <td>0.0</td>\n      <td>0.0</td>\n      <td>0.0</td>\n      <td>0.0</td>\n      <td>470.000</td>\n    </tr>\n    <tr>\n      <th>1511</th>\n      <td>12.0</td>\n      <td>31.0</td>\n      <td>66.0</td>\n      <td>34.0</td>\n      <td>4600.0</td>\n      <td>0.0</td>\n      <td>8.0</td>\n      <td>175.0</td>\n      <td>128.0</td>\n      <td>0.0</td>\n      <td>1.0</td>\n      <td>1.0</td>\n      <td>0.0</td>\n      <td>0.0</td>\n      <td>0.0</td>\n      <td>0.0</td>\n      <td>0.0</td>\n      <td>0.0</td>\n      <td>0.0</td>\n      <td>287.988</td>\n    </tr>\n  </tbody>\n</table>\n<p>1512 rows × 20 columns</p>\n</div>"
     },
     "execution_count": 12,
     "metadata": {},
     "output_type": "execute_result"
    }
   ],
   "source": [
    "f_data = pd.DataFrame()\n",
    "f_data['brand'] = pd.factorize(data['brand'])[0] \n",
    "f_data['os'] = pd.factorize(data['os'])[0]  \n",
    "f_data['inches'] = pd.factorize(data['inches'])[0] \n",
    "f_data['resolution'] = pd.factorize(data['resolution'])[0] \n",
    "f_data['battery'] = data['battery']\n",
    "f_data['battery_type'] = pd.factorize(data['battery_type'])[0]  \n",
    "f_data['ram(GB)'] = data['ram(GB)']\n",
    "f_data['weight(g)'] = data['weight(g)']\n",
    "f_data['storage(GB)'] = data['storage(GB)']\n",
    "\n",
    "f_data['video_720p'] = pd.factorize(data['video_720p'])[0]  \n",
    "f_data['video_1080p'] = pd.factorize(data['video_1080p'])[0]  \n",
    "f_data['video_4K'] = pd.factorize(data['video_4K'])[0]  \n",
    "f_data['video_8K'] = pd.factorize(data['video_8K'])[0]  \n",
    "f_data['video_30fps'] = pd.factorize(data['video_30fps'])[0]  \n",
    "f_data['video_60fps'] = pd.factorize(data['video_60fps'])[0]  \n",
    "f_data['video_120fps'] = pd.factorize(data['video_120fps'])[0]  \n",
    "f_data['video_240fps'] = pd.factorize(data['video_240fps'])[0]  \n",
    "f_data['video_480fps'] = pd.factorize(data['video_480fps'])[0]  \n",
    "f_data['video_960fps'] = pd.factorize(data['video_960fps'])[0]  \n",
    "f_data['PRICE'] = data['price(USD)']\n",
    "for i in f_data:\n",
    "    f_data[f'{i}'] = f_data[f'{i}'].astype(float)\n",
    "f_data"
   ],
   "metadata": {
    "collapsed": false,
    "ExecuteTime": {
     "end_time": "2023-11-09T18:43:12.137935900Z",
     "start_time": "2023-11-09T18:43:12.017936900Z"
    }
   }
  },
  {
   "cell_type": "code",
   "execution_count": 21,
   "outputs": [
    {
     "name": "stdout",
     "output_type": "stream",
     "text": [
      "<pandas.io.formats.style.Styler object at 0x0000022DB7606140>\n"
     ]
    }
   ],
   "source": [
    "corr_matrix = f_data.corr().PRICE.to_frame().round(2)\n",
    "styled_corr_matrix = corr_matrix.style.background_gradient(cmap='coolwarm')\n",
    "print(styled_corr_matrix)"
   ],
   "metadata": {
    "collapsed": false,
    "ExecuteTime": {
     "end_time": "2023-11-09T18:47:37.887707600Z",
     "start_time": "2023-11-09T18:47:37.878708100Z"
    }
   }
  },
  {
   "cell_type": "markdown",
   "source": [
    "# Реализовать регрессию вручную, отобразить наклон, сдвиг и MSE."
   ],
   "metadata": {
    "collapsed": false
   }
  },
  {
   "cell_type": "code",
   "execution_count": null,
   "outputs": [],
   "source": [
    "X = np.array(f_data[['RAM']], type(float))\n",
    "y = np.array(f_data['Price'], type(float))\n",
    "ic(X)\n",
    "ic(y)\n",
    "\n",
    "\n",
    "def mserror(X, w1, w0, y):\n",
    "    y_pred = w1 * X[:, 0] + w0\n",
    "    return np.sum((y - y_pred) ** 2 / len(y_pred))\n",
    "\n",
    "\n",
    "def gr_mserror(X, w1, w0, y):\n",
    "    y_pred = w1 * X[:, 0] + w0\n",
    "    return np.array([2 / len(X) * np.sum((y - y_pred)) * (-1),\n",
    "                     2 / len(X) * np.sum((y - y_pred) * (-X[:, 0]))])"
   ],
   "metadata": {
    "collapsed": false,
    "ExecuteTime": {
     "start_time": "2023-11-09T18:43:06.342458300Z"
    }
   }
  },
  {
   "cell_type": "code",
   "execution_count": null,
   "outputs": [],
   "source": [
    "eps = 0.0001\n",
    "\n",
    "w1 = 0\n",
    "w0 = 0\n",
    "\n",
    "learning_rate = 0.001\n",
    "\n",
    "next_w1 = w1\n",
    "next_w0 = w0\n",
    "\n",
    "n = 10000\n",
    "for i in range(n):\n",
    "    cur_w1 = next_w1\n",
    "    cur_w0 = next_w0\n",
    "\n",
    "    next_w0 = cur_w0 - learning_rate * gr_mserror(X, cur_w1, cur_w0, y)[0]\n",
    "    next_w1 = cur_w1 - learning_rate * gr_mserror(X, cur_w1, cur_w0, y)[1]\n",
    "    print(f\"Итерация: {i}\")\n",
    "    print(f\"Текущая точка {cur_w1, cur_w0}| Следующая точка {next_w1, next_w0}\")\n",
    "    print(f\"MSR {mserror(X, cur_w1, cur_w0, y)}\")\n",
    "    print('-' * 50)\n",
    "    if (abs(cur_w1 - next_w1) <= eps) and (abs(cur_w0 - next_w0) <= eps):\n",
    "        break\n",
    "next_w0 = round(next_w0, 2)\n",
    "next_w1 = round(next_w1, 2)\n",
    "f_data['dy'] = f_data['RAM'] * next_w1 + next_w0"
   ],
   "metadata": {
    "collapsed": false,
    "ExecuteTime": {
     "start_time": "2023-11-09T18:43:06.345455800Z"
    }
   }
  },
  {
   "cell_type": "code",
   "execution_count": null,
   "outputs": [],
   "source": [
    "f_data"
   ],
   "metadata": {
    "collapsed": false,
    "ExecuteTime": {
     "start_time": "2023-11-09T18:43:06.347456100Z"
    }
   }
  },
  {
   "cell_type": "raw",
   "source": [
    "b0·n + b1·∑x = ∑y\n",
    "b0·∑x + b1·∑x2= ∑(y·x)"
   ],
   "metadata": {
    "collapsed": false
   }
  },
  {
   "cell_type": "code",
   "execution_count": null,
   "outputs": [],
   "source": [
    "df = pd.DataFrame()\n",
    "df['X'] = f_data['RAM'].astype(float)\n",
    "df['y'] = f_data['Price'].astype(float)\n",
    "\n",
    "n = df.shape[0]\n",
    "summ_x = sum(df.X)\n",
    "summ_y = sum(df.y)\n",
    "summ_x2 = sum(df.X ** 2)\n",
    "summ_xy = sum(df.X * df.y)\n",
    "\n",
    "ic(n)\n",
    "ic(summ_x)\n",
    "ic(summ_y)\n",
    "ic(summ_x2)\n",
    "ic(summ_xy)\n",
    "\n",
    "b1 = round((-(summ_x * (summ_y / n)) + (summ_xy)) / (summ_x * (-summ_x / n) + (summ_x2)), 2)\n",
    "b0 = round(summ_y / n - summ_x / n * b1, 2)\n",
    "\n",
    "df['dy'] = df.X * b1 + b0\n",
    "mse = (sum((df.y - df.dy) ** 2)) / n\n",
    "\n",
    "ic(b1)\n",
    "ic(b0)\n",
    "ic(mse)\n",
    "\n",
    "df"
   ],
   "metadata": {
    "collapsed": false,
    "ExecuteTime": {
     "start_time": "2023-11-09T18:43:06.349456500Z"
    }
   }
  },
  {
   "cell_type": "markdown",
   "source": [
    "# Визуализировать регрессию на графике"
   ],
   "metadata": {
    "collapsed": false
   }
  },
  {
   "cell_type": "code",
   "execution_count": null,
   "outputs": [],
   "source": [
    "fig = plt.figure(figsize=(16, 9))\n",
    "plt.plot(df.X, df.dy, linewidth='2', color='red', label=f'Модель регресии ВТ power \\n{b0} + {b1}x')\n",
    "plt.plot(df.X, f_data.dy, '--g', linewidth='2', color='blue',\n",
    "         label=f'Модель регресии Методичка \\n{next_w0}+ {next_w1}x')\n",
    "plt.scatter(df.X, df.y)\n",
    "plt.xlabel('RAM')\n",
    "plt.ylabel('Price')\n",
    "plt.grid()\n",
    "plt.legend(prop={'size': 20})"
   ],
   "metadata": {
    "collapsed": false,
    "ExecuteTime": {
     "start_time": "2023-11-09T18:43:06.352455400Z"
    }
   }
  },
  {
   "cell_type": "markdown",
   "source": [
    "# Загрузить данные: 'insurance.csv'.\n",
    "# Вывести и провести предобработку.\n",
    "# Вывести список уникальных регионов."
   ],
   "metadata": {
    "collapsed": false
   }
  },
  {
   "cell_type": "code",
   "execution_count": null,
   "outputs": [],
   "source": [
    "import pandas as pd\n",
    "\n",
    "dataset = pd.read_csv('../Datasets_for_work/Data_4/insurance.csv')\n",
    "dataset"
   ],
   "metadata": {
    "collapsed": false,
    "ExecuteTime": {
     "end_time": "2023-11-09T18:43:06.357456Z",
     "start_time": "2023-11-09T18:43:06.354455800Z"
    }
   }
  },
  {
   "cell_type": "code",
   "execution_count": null,
   "outputs": [],
   "source": [
    "dataset.describe()"
   ],
   "metadata": {
    "collapsed": false,
    "ExecuteTime": {
     "start_time": "2023-11-09T18:43:06.357456Z"
    }
   }
  },
  {
   "cell_type": "code",
   "execution_count": null,
   "outputs": [],
   "source": [
    "dataset.isnull().sum()"
   ],
   "metadata": {
    "collapsed": false,
    "ExecuteTime": {
     "end_time": "2023-11-09T18:43:06.400455400Z",
     "start_time": "2023-11-09T18:43:06.359456500Z"
    }
   }
  },
  {
   "cell_type": "code",
   "execution_count": null,
   "outputs": [],
   "source": [
    "dataset.info()"
   ],
   "metadata": {
    "collapsed": false,
    "ExecuteTime": {
     "start_time": "2023-11-09T18:43:06.361457900Z"
    }
   }
  },
  {
   "cell_type": "code",
   "execution_count": null,
   "outputs": [],
   "source": [
    "dataset.region.unique()"
   ],
   "metadata": {
    "collapsed": false,
    "ExecuteTime": {
     "start_time": "2023-11-09T18:43:06.363456700Z"
    }
   }
  },
  {
   "cell_type": "code",
   "execution_count": null,
   "outputs": [],
   "source": [
    "dataset.region.nunique()"
   ],
   "metadata": {
    "collapsed": false,
    "ExecuteTime": {
     "start_time": "2023-11-09T18:43:06.365457400Z"
    }
   }
  },
  {
   "cell_type": "code",
   "execution_count": null,
   "outputs": [],
   "source": [
    "dataset.region.value_counts()"
   ],
   "metadata": {
    "collapsed": false,
    "ExecuteTime": {
     "start_time": "2023-11-09T18:43:06.367456200Z"
    }
   }
  },
  {
   "cell_type": "markdown",
   "source": [
    "# Выполнить однофакторный ANOVA тест, чтобы проверить влияние региона на индекс массы тела (BMI),\n",
    "# используя первый способ, через библиотеку Scipy."
   ],
   "metadata": {
    "collapsed": false
   }
  },
  {
   "cell_type": "markdown",
   "source": [
    "Общая сумма квадратов SST получена из двух источников: межгрупповая сумма квадратов SSB (характеристика, показывающая насколько групповые средние отклоняются от общего среднего) и внутригрупповая сумма квадратов SSW (сумма квадратов отклонений от среднего внутри каждой из групп).\n",
    "\n",
    "Межгрупповая дисперсия MSB, объяснённая влиянием фактора, характеризует рассеивание значений между градациями (группами) вокруг средней всех данных.\n",
    "Внутригрупповая дисперсия MSW, необъяснённая, характеризует рассеивание данных внутри градаций фактора (групп) вокруг средних значений этих групп."
   ],
   "metadata": {
    "collapsed": false
   }
  },
  {
   "cell_type": "code",
   "execution_count": null,
   "outputs": [],
   "source": [
    "import scipy.stats as stats\n",
    "\n",
    "np.random.seed(12)\n",
    "regions = dataset.region.unique()\n",
    "\n",
    "frame = pd.DataFrame({'region': dataset.region, 'bmi': dataset.bmi})\n",
    "frame"
   ],
   "metadata": {
    "collapsed": false,
    "ExecuteTime": {
     "start_time": "2023-11-09T18:43:06.369456800Z"
    }
   }
  },
  {
   "cell_type": "code",
   "execution_count": null,
   "outputs": [],
   "source": [
    "groups = frame.groupby('region').groups"
   ],
   "metadata": {
    "collapsed": false,
    "ExecuteTime": {
     "start_time": "2023-11-09T18:43:06.372456500Z"
    }
   }
  },
  {
   "cell_type": "code",
   "execution_count": null,
   "outputs": [],
   "source": [
    "southeast = dataset.bmi[groups[\"southeast\"]]\n",
    "southwest = dataset.bmi[groups['southwest']]\n",
    "northwest = dataset.bmi[groups['northwest']]\n",
    "northeast = dataset.bmi[groups['northeast']]"
   ],
   "metadata": {
    "collapsed": false,
    "ExecuteTime": {
     "start_time": "2023-11-09T18:43:06.373456700Z"
    }
   }
  },
  {
   "cell_type": "code",
   "execution_count": null,
   "outputs": [],
   "source": [
    "f_statistic, p_value = stats.f_oneway(southeast, southwest, northwest, northeast)\n",
    "\n",
    "# Вывод результатов теста\n",
    "print(\"\\nРезультаты однофакторного ANOVA-теста:\")\n",
    "print(f\"F-статистика: {f_statistic}\")\n",
    "print(f\"P-значение: {format(p_value, '.30f')}\")\n",
    "print(\n",
    "    'Поскольку p-значение меньше 0,05. Это означает, что фактор region оказывает статистически значимое влияние на bmi!!!')"
   ],
   "metadata": {
    "collapsed": false,
    "ExecuteTime": {
     "start_time": "2023-11-09T18:43:06.375455700Z"
    }
   }
  },
  {
   "cell_type": "markdown",
   "source": [
    "# Выполнить однофакторный ANOVA тест, чтобы проверить влияние региона на индекс массы тела (BMI),\n",
    "# используя второй способ, с помощью функции anova_lm() из библиотеки statsmode."
   ],
   "metadata": {
    "collapsed": false
   }
  },
  {
   "cell_type": "code",
   "execution_count": null,
   "outputs": [],
   "source": [
    "import statsmodels.api as sm\n",
    "from statsmodels.formula.api import ols"
   ],
   "metadata": {
    "collapsed": false,
    "ExecuteTime": {
     "start_time": "2023-11-09T18:43:06.378456300Z"
    }
   }
  },
  {
   "cell_type": "code",
   "execution_count": null,
   "outputs": [],
   "source": [
    "model = ols('bmi ~ region', data=frame).fit()\n",
    "anova_result = sm.stats.anova_lm(model, typ=2)\n",
    "print(anova_result)"
   ],
   "metadata": {
    "collapsed": false,
    "ExecuteTime": {
     "start_time": "2023-11-09T18:43:06.380458900Z"
    }
   }
  },
  {
   "cell_type": "markdown",
   "source": [
    "# С помощью t критерия Стьюдента перебрать все пары. Определить поправку Бонферрони. Сделать выводы."
   ],
   "metadata": {
    "collapsed": false
   }
  },
  {
   "cell_type": "markdown",
   "source": [
    " 0.03 < 0.05: гипотеза отклоняется;\n",
    " 0.06 > 0.05: гипотеза принимается;\n",
    " 0.015 < 0.05: гипотеза отклоняется."
   ],
   "metadata": {
    "collapsed": false
   }
  },
  {
   "cell_type": "code",
   "execution_count": null,
   "outputs": [],
   "source": [
    "t_dataframe = pd.DataFrame(columns=['Группы', 'p-value', 'Гипотеза'])\n",
    "pairs_for_comparison = []\n",
    "\n",
    "for i in regions:\n",
    "    for j in regions:\n",
    "        if i != j and [i, j] not in pairs_for_comparison and [j, i] not in pairs_for_comparison:\n",
    "            pairs_for_comparison.append([i, j])\n",
    "m = len(pairs_for_comparison)\n",
    "for i, j in pairs_for_comparison:\n",
    "    group = f'{i} - {j}'\n",
    "    p_value = stats.ttest_ind(dataset.bmi[groups[i]], dataset.bmi[groups[j]])\n",
    "    if p_value[1] > (0.05 / m):\n",
    "        hypothesis = 'Принимается'\n",
    "    else:\n",
    "        hypothesis = 'Отклоняется'\n",
    "    # new_row = {'Группы':group, 'p-value':p_value[1], 'Гипотеза':hypothesis}\n",
    "    new_row = [group, format(p_value[1], '.10f'), hypothesis]\n",
    "    t_dataframe.loc[len(t_dataframe.index)] = new_row\n",
    "    print(group)\n",
    "    print('statistic', format(p_value[0], '.10f'))\n",
    "    print('pvalue', format(p_value[1], '.10f'))\n",
    "    print()\n",
    "\n",
    "t_dataframe"
   ],
   "metadata": {
    "collapsed": false,
    "ExecuteTime": {
     "start_time": "2023-11-09T18:43:06.383455400Z"
    }
   }
  },
  {
   "cell_type": "markdown",
   "source": [
    "# Выполнить пост-хок тесты Тьюки и построить график."
   ],
   "metadata": {
    "collapsed": false
   }
  },
  {
   "cell_type": "code",
   "execution_count": null,
   "outputs": [],
   "source": [
    "from statsmodels.stats.multicomp import pairwise_tukeyhsd"
   ],
   "metadata": {
    "collapsed": false,
    "ExecuteTime": {
     "start_time": "2023-11-09T18:43:06.384455300Z"
    }
   }
  },
  {
   "cell_type": "code",
   "execution_count": null,
   "outputs": [],
   "source": [
    "tukey = pairwise_tukeyhsd(endog=dataset.bmi, groups=dataset.region, alpha=0.5)\n",
    "tukey.plot_simultaneous()\n",
    "plt.vlines(x=29, ymin=-0.5, ymax=4.5, color='red')\n",
    "tukey.summary()"
   ],
   "metadata": {
    "collapsed": false,
    "ExecuteTime": {
     "start_time": "2023-11-09T18:43:06.385456300Z"
    }
   }
  },
  {
   "cell_type": "markdown",
   "source": [
    "Видим, что доверительные интервалы white-hispanic и white-asian перекрываются, поэтому пост-хок тесты показали что различия между ними не существенные."
   ],
   "metadata": {
    "collapsed": false
   }
  },
  {
   "cell_type": "markdown",
   "source": [
    "# Выполнить двухфакторный ANOVA тест, чтобы проверить влияние региона и пола на индекс массы тела (BMI),\n",
    "# используя функцию anova_lm() из библиотеки statsmodels"
   ],
   "metadata": {
    "collapsed": false
   }
  },
  {
   "cell_type": "code",
   "execution_count": null,
   "outputs": [],
   "source": [
    "anova_two = pd.DataFrame()\n",
    "anova_two['region'] = dataset.region\n",
    "anova_two['sex'] = dataset.sex\n",
    "anova_two['bmi'] = dataset.bmi\n",
    "anova_two"
   ],
   "metadata": {
    "collapsed": false,
    "ExecuteTime": {
     "start_time": "2023-11-09T18:43:06.386457800Z"
    }
   }
  },
  {
   "cell_type": "code",
   "execution_count": null,
   "outputs": [],
   "source": [
    "import statsmodels.api as sm\n",
    "from statsmodels.formula.api import ols"
   ],
   "metadata": {
    "collapsed": false,
    "ExecuteTime": {
     "start_time": "2023-11-09T18:43:06.387455900Z"
    }
   }
  },
  {
   "cell_type": "code",
   "execution_count": null,
   "outputs": [],
   "source": [
    "model = ols('bmi ~ C(region) + C(sex) + C(region):C(sex)', data=anova_two).fit()\n",
    "sm.stats.anova_lm(model, typ=2)"
   ],
   "metadata": {
    "collapsed": false,
    "ExecuteTime": {
     "start_time": "2023-11-09T18:43:06.388456500Z"
    }
   }
  },
  {
   "cell_type": "markdown",
   "source": [
    "Мы можем видеть следующие p-значения для каждого из факторов в таблице:\n",
    "• region: p-значение = 0,0000000000000000000000022\n",
    "• sex: p-значение = 0,1126940000000000025037750\n",
    "• region * sex: p-значение = 0,2819876000000000049183768"
   ],
   "metadata": {
    "collapsed": false
   }
  },
  {
   "cell_type": "code",
   "execution_count": null,
   "outputs": [],
   "source": [
    "x = 1.650655e-01\n",
    "print(format(x, '.25f'))"
   ],
   "metadata": {
    "collapsed": false,
    "ExecuteTime": {
     "start_time": "2023-11-09T18:43:06.390455400Z"
    }
   }
  },
  {
   "cell_type": "markdown",
   "source": [
    "Поскольку p-значения для региона 0,05, это означает, что фактор оказывают статистически значимое влияние на bmi."
   ],
   "metadata": {
    "collapsed": false
   }
  },
  {
   "cell_type": "markdown",
   "source": [
    "А поскольку p-значение для эффекта взаимодействия (0,2819876000000000049183768) и sex составляет не менее 0,05, это говорит нам об отсутствии значительного эффекта взаимодействия между sex, sex и region."
   ],
   "metadata": {
    "collapsed": false
   }
  },
  {
   "cell_type": "markdown",
   "source": [
    "#   Выполним пост-хок тест Тьюки для нашего примера, а также построим график с доверительными интервалами."
   ],
   "metadata": {
    "collapsed": false
   }
  },
  {
   "cell_type": "code",
   "execution_count": null,
   "outputs": [],
   "source": [
    "anova_two['combo'] = anova_two['region'] + ' \\ ' + anova_two['sex']\n",
    "anova_two"
   ],
   "metadata": {
    "collapsed": false,
    "ExecuteTime": {
     "start_time": "2023-11-09T18:43:06.391456200Z"
    }
   }
  },
  {
   "cell_type": "code",
   "execution_count": null,
   "outputs": [],
   "source": [
    "tukey = pairwise_tukeyhsd(endog = anova_two['bmi'], groups=anova_two['combo'], alpha=0.05)\n",
    "tukey.plot_simultaneous()\n",
    "tukey.summary()"
   ],
   "metadata": {
    "collapsed": false,
    "ExecuteTime": {
     "start_time": "2023-11-09T18:43:06.392456400Z"
    }
   }
  }
 ],
 "metadata": {
  "kernelspec": {
   "display_name": "Python 3",
   "language": "python",
   "name": "python3"
  },
  "language_info": {
   "codemirror_mode": {
    "name": "ipython",
    "version": 2
   },
   "file_extension": ".py",
   "mimetype": "text/x-python",
   "name": "python",
   "nbconvert_exporter": "python",
   "pygments_lexer": "ipython2",
   "version": "2.7.6"
  }
 },
 "nbformat": 4,
 "nbformat_minor": 0
}
