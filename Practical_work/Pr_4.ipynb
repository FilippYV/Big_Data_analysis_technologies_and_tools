{
 "cells": [
  {
   "cell_type": "code",
   "execution_count": 1,
   "outputs": [],
   "source": [
    "from icecream import ic"
   ],
   "metadata": {
    "collapsed": false,
    "ExecuteTime": {
     "end_time": "2023-11-09T19:07:57.606854800Z",
     "start_time": "2023-11-09T19:07:57.406343200Z"
    }
   }
  },
  {
   "cell_type": "markdown",
   "source": [
    "# Определить два вектора, представляющие собой число автомобилей, припаркованных в течении 5 рабочих дней у бизнес-центра на уличной стоянке и в подземном гараже.\n",
    "День\tУлица\tГараж\n",
    "Понедельник\t80\t100\n",
    "Вторник\t98\t82\n",
    "Среда\t75\t105\n",
    "Четверг\t91\t89\n",
    "Пятница\t78\t102\n"
   ],
   "metadata": {
    "collapsed": false
   }
  },
  {
   "cell_type": "code",
   "execution_count": null,
   "outputs": [],
   "source": [
    "import numpy as np\n",
    "\n",
    "outdoor_storage = np.array([80, 98, 75, 91, 78])\n",
    "garage_storage = np.array([100, 82, 105, 89, 102])\n",
    "ic(outdoor_storage)\n",
    "ic(garage_storage)"
   ],
   "metadata": {
    "collapsed": false,
    "ExecuteTime": {
     "start_time": "2023-11-09T18:48:46.273598900Z"
    }
   }
  },
  {
   "cell_type": "markdown",
   "source": [
    "# Найти и интерпретировать корреляцию между переменными «Улица» и «Гараж» (подсчитать корреляцию по Пирсону)."
   ],
   "metadata": {
    "collapsed": false
   }
  },
  {
   "cell_type": "markdown",
   "source": [
    "Коэффициент корреляции Пирсона (линейный коэффициент корреляции) – мера связи для двух непрерывных или характеризующих отношения переменных.\n",
    "\n",
    "Обозначение:\n",
    "− для выборки – r,\n",
    "− для генеральной совокупности – ρ.\n",
    "\n",
    "Принимает значения от –1 до +1.\n",
    "0 (нуль) – отсутствие связи между переменными.\n",
    "\n",
    "--------------------------------------------------------------------------------------\n",
    "Частая нулевая гипотеза для корреляционного анализа: переменные не связаны (r = 0).\n",
    "Альтернативная гипотеза: r ≠ 0.\n",
    "--------------------------------------------------------------------------------------"
   ],
   "metadata": {
    "collapsed": false
   }
  },
  {
   "cell_type": "code",
   "execution_count": null,
   "outputs": [],
   "source": [
    "print(f'Матрица коэффициентов корреляции: \\n{np.corrcoef(outdoor_storage, garage_storage)}')\n",
    "print(f'Коэффициент корреляции между двумя переменными: {np.corrcoef(outdoor_storage, garage_storage)[0, 1]}')"
   ],
   "metadata": {
    "collapsed": false,
    "ExecuteTime": {
     "start_time": "2023-11-09T18:48:46.276599900Z"
    }
   }
  },
  {
   "cell_type": "markdown",
   "source": [
    "Коэффициент корреляции практически равен –1, что означает сильную отрицательную корреляцию."
   ],
   "metadata": {
    "collapsed": false
   }
  },
  {
   "cell_type": "code",
   "execution_count": 3,
   "outputs": [
    {
     "ename": "NameError",
     "evalue": "name 'outdoor_storage' is not defined",
     "output_type": "error",
     "traceback": [
      "\u001B[1;31m---------------------------------------------------------------------------\u001B[0m",
      "\u001B[1;31mNameError\u001B[0m                                 Traceback (most recent call last)",
      "Cell \u001B[1;32mIn[3], line 4\u001B[0m\n\u001B[0;32m      1\u001B[0m \u001B[38;5;28;01mimport\u001B[39;00m \u001B[38;5;21;01mmatplotlib\u001B[39;00m\u001B[38;5;21;01m.\u001B[39;00m\u001B[38;5;21;01mpyplot\u001B[39;00m \u001B[38;5;28;01mas\u001B[39;00m \u001B[38;5;21;01mplt\u001B[39;00m\n\u001B[0;32m      3\u001B[0m plt\u001B[38;5;241m.\u001B[39mgrid()\n\u001B[1;32m----> 4\u001B[0m plt\u001B[38;5;241m.\u001B[39mscatter(\u001B[43moutdoor_storage\u001B[49m, garage_storage, marker\u001B[38;5;241m=\u001B[39m\u001B[38;5;124m'\u001B[39m\u001B[38;5;124mo\u001B[39m\u001B[38;5;124m'\u001B[39m)\n\u001B[0;32m      5\u001B[0m plt\u001B[38;5;241m.\u001B[39mtitle(\u001B[38;5;124m'\u001B[39m\u001B[38;5;124mДиаграмма рассеивания данных о хранении автомобилей\u001B[39m\u001B[38;5;124m'\u001B[39m, fontsize\u001B[38;5;241m=\u001B[39m\u001B[38;5;124m'\u001B[39m\u001B[38;5;124m16\u001B[39m\u001B[38;5;124m'\u001B[39m)\n\u001B[0;32m      6\u001B[0m plt\u001B[38;5;241m.\u001B[39mxlabel(\u001B[38;5;124m'\u001B[39m\u001B[38;5;124mСтоянка на улице\u001B[39m\u001B[38;5;124m'\u001B[39m)\n",
      "\u001B[1;31mNameError\u001B[0m: name 'outdoor_storage' is not defined"
     ]
    },
    {
     "data": {
      "text/plain": "<Figure size 640x480 with 1 Axes>",
      "image/png": "[encoded data removed]"
     },
     "metadata": {},
     "output_type": "display_data"
    }
   ],
   "source": [
    "import matplotlib.pyplot as plt\n",
    "\n",
    "plt.grid()\n",
    "plt.scatter(outdoor_storage, garage_storage, marker='o')\n",
    "plt.title('Диаграмма рассеивания данных о хранении автомобилей', fontsize='16')\n",
    "plt.xlabel('Стоянка на улице')\n",
    "plt.ylabel('Стоянка в гараже')\n",
    "print('На получившимся графике мы видим сильную отрицательную корреляцию')"
   ],
   "metadata": {
    "collapsed": false,
    "ExecuteTime": {
     "start_time": "2023-11-09T18:48:46.278601800Z"
    }
   }
  },
  {
   "cell_type": "markdown",
   "source": [
    "# Найти и выгрузить данные.\n",
    "# Вывести, провести предобработку и описать признаки."
   ],
   "metadata": {
    "collapsed": false
   }
  },
  {
   "cell_type": "markdown",
   "source": [
    "The data comes from the spanish website PC componentes. The data was collected using Power Automate, more info on:\n",
    "https://github.com/juanmerino89/laptops-data-cleaning\n",
    "\n",
    "Fields included:\n",
    "\n",
    "Laptop Name: The unique identifier or model name of the laptop.\n",
    "Brand: Laptop brand.\n",
    "Model: Laptop brand model.\n",
    "CPU (Central Processing Unit): The processor brand, model, and other relevant details.\n",
    "GPU (Graphics Processing Unit): The graphics card brand, model, and associated specifications.\n",
    "RAM (Random Access Memory): The amount of memory available for multitasking.\n",
    "Storage: The storage type (HDD, SSD) and capacity of the laptop.\n",
    "Price: The cost of the laptop in the respective currency."
   ],
   "metadata": {
    "collapsed": false
   }
  },
  {
   "cell_type": "code",
   "execution_count": null,
   "outputs": [],
   "source": [
    "import pandas as pd\n",
    "\n",
    "data = pd.read_csv('../Datasets_for_work/Data_4/laptops.csv')\n",
    "data"
   ],
   "metadata": {
    "collapsed": false,
    "ExecuteTime": {
     "end_time": "2023-11-09T18:48:47.062624200Z",
     "start_time": "2023-11-09T18:48:46.862626500Z"
    }
   }
  },
  {
   "cell_type": "code",
   "execution_count": null,
   "outputs": [],
   "source": [
    "data.describe()"
   ],
   "metadata": {
    "collapsed": false,
    "ExecuteTime": {
     "start_time": "2023-11-09T18:48:46.864626800Z"
    }
   }
  },
  {
   "cell_type": "code",
   "execution_count": null,
   "outputs": [],
   "source": [
    "data.isnull().sum()"
   ],
   "metadata": {
    "collapsed": false,
    "ExecuteTime": {
     "start_time": "2023-11-09T18:48:46.866624900Z"
    }
   }
  },
  {
   "cell_type": "code",
   "execution_count": null,
   "outputs": [],
   "source": [
    "data['Storage type'] = data['Storage type'].fillna('NO')\n",
    "data['GPU'] = data['GPU'].fillna('NO')\n",
    "data['Screen'] = data['Screen'].fillna('NO')\n",
    "data['Touch'] = data['Screen'].fillna('NO')"
   ],
   "metadata": {
    "collapsed": false,
    "ExecuteTime": {
     "start_time": "2023-11-09T18:48:46.868627600Z"
    }
   }
  },
  {
   "cell_type": "code",
   "execution_count": null,
   "outputs": [],
   "source": [
    "data.info()"
   ],
   "metadata": {
    "collapsed": false,
    "ExecuteTime": {
     "start_time": "2023-11-09T18:48:46.871625900Z"
    }
   }
  },
  {
   "cell_type": "code",
   "execution_count": null,
   "outputs": [],
   "source": [
    "data.isnull().sum()"
   ],
   "metadata": {
    "collapsed": false,
    "ExecuteTime": {
     "start_time": "2023-11-09T18:48:46.873628600Z"
    }
   }
  },
  {
   "cell_type": "markdown",
   "source": [
    "# Данные предобработанны"
   ],
   "metadata": {
    "collapsed": false
   }
  },
  {
   "cell_type": "markdown",
   "source": [
    "# Построить корреляционную матрицу по одной целевой переменной. Определить наиболее коррелирующую переменную, продолжить с ней работу в следующем пункте."
   ],
   "metadata": {
    "collapsed": false
   }
  },
  {
   "cell_type": "code",
   "execution_count": null,
   "outputs": [],
   "source": [
    "f_data = pd.DataFrame()\n",
    "f_data['factorize_CPU'] = pd.factorize(data['CPU'])[0]  # факторизуем CPU\n",
    "f_data['factorize_GPU'] = pd.factorize(data['GPU'])[0]  # факторизуем GPU\n",
    "f_data['factorize_Brand'] = pd.factorize(data['Brand'])[0]  # факторизуем Brand\n",
    "f_data['factorize_Status'] = pd.factorize(data['Status'])[0]  # факторизуем Status\n",
    "f_data['factorize_Model'] = pd.factorize(data['Model'])[0]  # факторизуем Model\n",
    "f_data['factorize_Storage_type'] = pd.factorize(data['Storage type'])[0]  # факторизуем Storage type\n",
    "f_data['factorize_Touch'] = pd.factorize(data['Touch'])[0]  # факторизуем Touch\n",
    "f_data['Screen'] = pd.factorize(data['Screen'])[0]  # факторизуем Screen\n",
    "f_data['RAM'] = data['RAM']\n",
    "f_data['Storage'] = data['Storage']\n",
    "f_data['Price'] = data['Final Price']\n",
    "for i in f_data:\n",
    "    f_data[f'{i}'] = f_data[f'{i}'].astype(float)\n",
    "f_data"
   ],
   "metadata": {
    "collapsed": false,
    "ExecuteTime": {
     "start_time": "2023-11-09T18:48:46.876627700Z"
    }
   }
  },
  {
   "cell_type": "code",
   "execution_count": null,
   "outputs": [],
   "source": [
    "print(f\"Матрица коэффициентов корреляции для RAM к цене: \\n{np.corrcoef(f_data['RAM'], data['Final Price'])}\")\n",
    "print(f\"Коэффициент корреляции между двумя переменными: {np.corrcoef(f_data['RAM'], data['Final Price'])[0, 1]}\")"
   ],
   "metadata": {
    "collapsed": false,
    "ExecuteTime": {
     "start_time": "2023-11-09T18:48:46.878624900Z"
    }
   }
  },
  {
   "cell_type": "code",
   "execution_count": null,
   "outputs": [],
   "source": [
    "print(f\"Матрица коэффициентов корреляции для Screen size к цене: \\n{np.corrcoef(f_data['Screen'], f_data['Price'])}\")\n",
    "print(f\"Коэффициент корреляции между двумя переменными: {np.corrcoef(f_data['Screen'], f_data['Price'])[0, 1]}\")"
   ],
   "metadata": {
    "collapsed": false,
    "ExecuteTime": {
     "start_time": "2023-11-09T18:48:46.879626Z"
    }
   }
  },
  {
   "cell_type": "code",
   "execution_count": null,
   "outputs": [],
   "source": [
    "print(f\"Матрица коэффициентов корреляции для Storage к цене: \\n{np.corrcoef(f_data['Storage'], f_data['Price'])}\")\n",
    "print(f\"Коэффициент корреляции между двумя переменными: {np.corrcoef(f_data['Storage'], f_data['Price'])[0, 1]}\")"
   ],
   "metadata": {
    "collapsed": false,
    "ExecuteTime": {
     "start_time": "2023-11-09T18:48:46.881626700Z"
    }
   }
  },
  {
   "cell_type": "code",
   "execution_count": null,
   "outputs": [],
   "source": [
    "print(f\"Матрица коэффициентов корреляции для CPU к цене: \\n{np.corrcoef(f_data['factorize_CPU'], f_data['Price'])}\")\n",
    "print(f\"Коэффициент корреляции между двумя переменными: {np.corrcoef(f_data['factorize_CPU'], f_data['Price'])[0, 1]}\")"
   ],
   "metadata": {
    "collapsed": false,
    "ExecuteTime": {
     "start_time": "2023-11-09T18:48:46.884625300Z"
    }
   }
  },
  {
   "cell_type": "code",
   "execution_count": null,
   "outputs": [],
   "source": [
    "print(f\"Матрица коэффициентов корреляции для GPU к цене: \\n{np.corrcoef(f_data['factorize_GPU'], f_data['Price'])}\")\n",
    "print(f\"Коэффициент корреляции между двумя переменными: {np.corrcoef(f_data['factorize_GPU'], f_data['Price'])[0, 1]}\")"
   ],
   "metadata": {
    "collapsed": false,
    "ExecuteTime": {
     "start_time": "2023-11-09T18:48:46.886623900Z"
    }
   }
  },
  {
   "cell_type": "code",
   "execution_count": null,
   "outputs": [],
   "source": [
    "print(f\"Матрица коэффициентов корреляции для Brand к цене: \\n{np.corrcoef(f_data['factorize_Brand'], f_data['Price'])}\")\n",
    "print(\n",
    "    f\"Коэффициент корреляции между двумя переменными: {np.corrcoef(f_data['factorize_Brand'], f_data['Price'])[0, 1]}\")"
   ],
   "metadata": {
    "collapsed": false,
    "ExecuteTime": {
     "start_time": "2023-11-09T18:48:46.887624200Z"
    }
   }
  },
  {
   "cell_type": "code",
   "execution_count": null,
   "outputs": [],
   "source": [
    "print(\n",
    "    f\"Матрица коэффициентов корреляции для Status к цене: \\n{np.corrcoef(f_data['factorize_Status'], f_data['Price'])}\")\n",
    "print(\n",
    "    f\"Коэффициент корреляции между двумя переменными: {np.corrcoef(f_data['factorize_Status'], f_data['Price'])[0, 1]}\")"
   ],
   "metadata": {
    "collapsed": false,
    "ExecuteTime": {
     "start_time": "2023-11-09T18:48:46.889626600Z"
    }
   }
  },
  {
   "cell_type": "code",
   "execution_count": null,
   "outputs": [],
   "source": [
    "print(f\"Матрица коэффициентов корреляции для Model к цене: \\n{np.corrcoef(f_data['factorize_Model'], f_data['Price'])}\")\n",
    "print(\n",
    "    f\"Коэффициент корреляции между двумя переменными: {np.corrcoef(f_data['factorize_Model'], f_data['Price'])[0, 1]}\")"
   ],
   "metadata": {
    "collapsed": false,
    "ExecuteTime": {
     "start_time": "2023-11-09T18:48:46.891625200Z"
    }
   }
  },
  {
   "cell_type": "code",
   "execution_count": null,
   "outputs": [],
   "source": [
    "print(\n",
    "    f\"Матрица коэффициентов корреляции для Storage type к цене: \\n{np.corrcoef(f_data['factorize_Storage_type'], f_data['Price'])}\")\n",
    "print(\n",
    "    f\"Коэффициент корреляции между двумя переменными: {np.corrcoef(f_data['factorize_Storage_type'], f_data['Price'])[0, 1]}\")"
   ],
   "metadata": {
    "collapsed": false,
    "ExecuteTime": {
     "start_time": "2023-11-09T18:48:46.893626200Z"
    }
   }
  },
  {
   "cell_type": "code",
   "execution_count": null,
   "outputs": [],
   "source": [
    "print(f\"Матрица коэффициентов корреляции для Touch к цене: \\n{np.corrcoef(f_data['factorize_Touch'], f_data['Price'])}\")\n",
    "print(\n",
    "    f\"Коэффициент корреляции между двумя переменными: {np.corrcoef(f_data['factorize_Touch'], f_data['Price'])[0, 1]}\")"
   ],
   "metadata": {
    "collapsed": false,
    "ExecuteTime": {
     "start_time": "2023-11-09T18:48:46.895625600Z"
    }
   }
  },
  {
   "cell_type": "code",
   "execution_count": null,
   "outputs": [],
   "source": [
    "corr_matrix = f_data.corr().Price.to_frame().round(2)\n",
    "corr_matrix.style.background_gradient(cmap='coolwarm')"
   ],
   "metadata": {
    "collapsed": false,
    "ExecuteTime": {
     "start_time": "2023-11-09T18:48:46.897625600Z"
    }
   }
  },
  {
   "cell_type": "markdown",
   "source": [
    "# Реализовать регрессию вручную, отобразить наклон, сдвиг и MSE."
   ],
   "metadata": {
    "collapsed": false
   }
  },
  {
   "cell_type": "code",
   "execution_count": null,
   "outputs": [],
   "source": [
    "X = np.array(f_data[['RAM']], type(float))\n",
    "y = np.array(f_data['Price'], type(float))\n",
    "ic(X)\n",
    "ic(y)\n",
    "\n",
    "\n",
    "def mserror(X, w1, w0, y):\n",
    "    y_pred = w1 * X[:, 0] + w0\n",
    "    return np.sum((y - y_pred) ** 2 / len(y_pred))\n",
    "\n",
    "\n",
    "def gr_mserror(X, w1, w0, y):\n",
    "    y_pred = w1 * X[:, 0] + w0\n",
    "    return np.array([2 / len(X) * np.sum((y - y_pred)) * (-1),\n",
    "                     2 / len(X) * np.sum((y - y_pred) * (-X[:, 0]))])"
   ],
   "metadata": {
    "collapsed": false,
    "ExecuteTime": {
     "start_time": "2023-11-09T18:48:46.900627Z"
    }
   }
  },
  {
   "cell_type": "code",
   "execution_count": null,
   "outputs": [],
   "source": [
    "eps = 0.0001\n",
    "\n",
    "w1 = 0\n",
    "w0 = 0\n",
    "\n",
    "learning_rate = 0.001\n",
    "\n",
    "next_w1 = w1\n",
    "next_w0 = w0\n",
    "\n",
    "n = 10000\n",
    "for i in range(n):\n",
    "    cur_w1 = next_w1\n",
    "    cur_w0 = next_w0\n",
    "\n",
    "    next_w0 = cur_w0 - learning_rate * gr_mserror(X, cur_w1, cur_w0, y)[0]\n",
    "    next_w1 = cur_w1 - learning_rate * gr_mserror(X, cur_w1, cur_w0, y)[1]\n",
    "    print(f\"Итерация: {i}\")\n",
    "    print(f\"Текущая точка {cur_w1, cur_w0}| Следующая точка {next_w1, next_w0}\")\n",
    "    print(f\"MSR {mserror(X, cur_w1, cur_w0, y)}\")\n",
    "    print('-' * 50)\n",
    "    if (abs(cur_w1 - next_w1) <= eps) and (abs(cur_w0 - next_w0) <= eps):\n",
    "        break\n",
    "next_w0 = round(next_w0, 2)\n",
    "next_w1 = round(next_w1, 2)\n",
    "f_data['dy'] = f_data['RAM'] * next_w1 + next_w0"
   ],
   "metadata": {
    "collapsed": false,
    "ExecuteTime": {
     "start_time": "2023-11-09T18:48:46.902626Z"
    }
   }
  },
  {
   "cell_type": "code",
   "execution_count": null,
   "outputs": [],
   "source": [
    "f_data"
   ],
   "metadata": {
    "collapsed": false,
    "ExecuteTime": {
     "start_time": "2023-11-09T18:48:46.905625400Z"
    }
   }
  },
  {
   "cell_type": "raw",
   "source": [
    "b0·n + b1·∑x = ∑y\n",
    "b0·∑x + b1·∑x2= ∑(y·x)"
   ],
   "metadata": {
    "collapsed": false
   }
  },
  {
   "cell_type": "code",
   "execution_count": null,
   "outputs": [],
   "source": [
    "df = pd.DataFrame()\n",
    "df['X'] = f_data['RAM'].astype(float)\n",
    "df['y'] = f_data['Price'].astype(float)\n",
    "\n",
    "n = df.shape[0]\n",
    "summ_x = sum(df.X)\n",
    "summ_y = sum(df.y)\n",
    "summ_x2 = sum(df.X ** 2)\n",
    "summ_xy = sum(df.X * df.y)\n",
    "\n",
    "ic(n)\n",
    "ic(summ_x)\n",
    "ic(summ_y)\n",
    "ic(summ_x2)\n",
    "ic(summ_xy)\n",
    "\n",
    "b1 = round((-(summ_x * (summ_y / n)) + (summ_xy)) / (summ_x * (-summ_x / n) + (summ_x2)), 2)\n",
    "b0 = round(summ_y / n - summ_x / n * b1, 2)\n",
    "\n",
    "df['dy'] = df.X * b1 + b0\n",
    "mse = (sum((df.y - df.dy) ** 2)) / n\n",
    "\n",
    "ic(b1)\n",
    "ic(b0)\n",
    "ic(mse)\n",
    "\n",
    "df"
   ],
   "metadata": {
    "collapsed": false,
    "ExecuteTime": {
     "start_time": "2023-11-09T18:48:46.907624900Z"
    }
   }
  },
  {
   "cell_type": "markdown",
   "source": [
    "# Визуализировать регрессию на графике"
   ],
   "metadata": {
    "collapsed": false
   }
  },
  {
   "cell_type": "code",
   "execution_count": null,
   "outputs": [],
   "source": [
    "fig = plt.figure(figsize=(16, 9))\n",
    "plt.plot(df.X, df.dy, linewidth='2', color='red', label=f'Модель регресии ВТ power \\n{b0} + {b1}x')\n",
    "plt.plot(df.X, f_data.dy, '--g', linewidth='2', color='blue',\n",
    "         label=f'Модель регресии Методичка \\n{next_w0}+ {next_w1}x')\n",
    "plt.scatter(df.X, df.y)\n",
    "plt.xlabel('RAM')\n",
    "plt.ylabel('Price')\n",
    "plt.grid()\n",
    "plt.legend(prop={'size': 20})"
   ],
   "metadata": {
    "collapsed": false,
    "ExecuteTime": {
     "start_time": "2023-11-09T18:48:46.910624300Z"
    }
   }
  },
  {
   "cell_type": "markdown",
   "source": [
    "# Загрузить данные: 'insurance.csv'.\n",
    "# Вывести и провести предобработку.\n",
    "# Вывести список уникальных регионов."
   ],
   "metadata": {
    "collapsed": false
   }
  },
  {
   "cell_type": "code",
   "execution_count": null,
   "outputs": [],
   "source": [
    "import pandas as pd\n",
    "\n",
    "dataset = pd.read_csv('../Datasets_for_work/Data_4/insurance.csv')\n",
    "dataset"
   ],
   "metadata": {
    "collapsed": false,
    "ExecuteTime": {
     "start_time": "2023-11-09T18:48:46.913625600Z"
    }
   }
  },
  {
   "cell_type": "code",
   "execution_count": null,
   "outputs": [],
   "source": [
    "dataset.describe()"
   ],
   "metadata": {
    "collapsed": false,
    "ExecuteTime": {
     "start_time": "2023-11-09T18:48:46.916624400Z"
    }
   }
  },
  {
   "cell_type": "code",
   "execution_count": null,
   "outputs": [],
   "source": [
    "dataset.isnull().sum()"
   ],
   "metadata": {
    "collapsed": false,
    "ExecuteTime": {
     "start_time": "2023-11-09T18:48:46.918625300Z"
    }
   }
  },
  {
   "cell_type": "code",
   "execution_count": null,
   "outputs": [],
   "source": [
    "dataset.info()"
   ],
   "metadata": {
    "collapsed": false,
    "ExecuteTime": {
     "start_time": "2023-11-09T18:48:46.921624600Z"
    }
   }
  },
  {
   "cell_type": "code",
   "execution_count": null,
   "outputs": [],
   "source": [
    "dataset.region.unique()"
   ],
   "metadata": {
    "collapsed": false,
    "ExecuteTime": {
     "start_time": "2023-11-09T18:48:46.923626500Z"
    }
   }
  },
  {
   "cell_type": "code",
   "execution_count": null,
   "outputs": [],
   "source": [
    "dataset.region.nunique()"
   ],
   "metadata": {
    "collapsed": false,
    "ExecuteTime": {
     "start_time": "2023-11-09T18:48:46.925627700Z"
    }
   }
  },
  {
   "cell_type": "code",
   "execution_count": null,
   "outputs": [],
   "source": [
    "dataset.region.value_counts()"
   ],
   "metadata": {
    "collapsed": false,
    "ExecuteTime": {
     "start_time": "2023-11-09T18:48:46.927627Z"
    }
   }
  },
  {
   "cell_type": "markdown",
   "source": [
    "# Выполнить однофакторный ANOVA тест, чтобы проверить влияние региона на индекс массы тела (BMI),\n",
    "# используя первый способ, через библиотеку Scipy."
   ],
   "metadata": {
    "collapsed": false
   }
  },
  {
   "cell_type": "markdown",
   "source": [
    "Общая сумма квадратов SST получена из двух источников: межгрупповая сумма квадратов SSB (характеристика, показывающая насколько групповые средние отклоняются от общего среднего) и внутригрупповая сумма квадратов SSW (сумма квадратов отклонений от среднего внутри каждой из групп).\n",
    "\n",
    "Межгрупповая дисперсия MSB, объяснённая влиянием фактора, характеризует рассеивание значений между градациями (группами) вокруг средней всех данных.\n",
    "Внутригрупповая дисперсия MSW, необъяснённая, характеризует рассеивание данных внутри градаций фактора (групп) вокруг средних значений этих групп."
   ],
   "metadata": {
    "collapsed": false
   }
  },
  {
   "cell_type": "code",
   "execution_count": null,
   "outputs": [],
   "source": [
    "import scipy.stats as stats\n",
    "\n",
    "np.random.seed(12)\n",
    "regions = dataset.region.unique()\n",
    "\n",
    "frame = pd.DataFrame({'region': dataset.region, 'bmi': dataset.bmi})\n",
    "frame"
   ],
   "metadata": {
    "collapsed": false,
    "ExecuteTime": {
     "start_time": "2023-11-09T18:48:46.928626900Z"
    }
   }
  },
  {
   "cell_type": "code",
   "execution_count": null,
   "outputs": [],
   "source": [
    "groups = frame.groupby('region').groups"
   ],
   "metadata": {
    "collapsed": false,
    "ExecuteTime": {
     "start_time": "2023-11-09T18:48:46.929625200Z"
    }
   }
  },
  {
   "cell_type": "code",
   "execution_count": null,
   "outputs": [],
   "source": [
    "southeast = dataset.bmi[groups[\"southeast\"]]\n",
    "southwest = dataset.bmi[groups['southwest']]\n",
    "northwest = dataset.bmi[groups['northwest']]\n",
    "northeast = dataset.bmi[groups['northeast']]"
   ],
   "metadata": {
    "collapsed": false,
    "ExecuteTime": {
     "start_time": "2023-11-09T18:48:46.930626600Z"
    }
   }
  },
  {
   "cell_type": "code",
   "execution_count": null,
   "outputs": [],
   "source": [
    "f_statistic, p_value = stats.f_oneway(southeast, southwest, northwest, northeast)\n",
    "\n",
    "# Вывод результатов теста\n",
    "print(\"\\nРезультаты однофакторного ANOVA-теста:\")\n",
    "print(f\"F-статистика: {f_statistic}\")\n",
    "print(f\"P-значение: {format(p_value, '.30f')}\")\n",
    "print(\n",
    "    'Поскольку p-значение меньше 0,05. Это означает, что фактор region оказывает статистически значимое влияние на bmi!!!')"
   ],
   "metadata": {
    "collapsed": false,
    "ExecuteTime": {
     "start_time": "2023-11-09T18:48:46.931624200Z"
    }
   }
  },
  {
   "cell_type": "markdown",
   "source": [
    "# Выполнить однофакторный ANOVA тест, чтобы проверить влияние региона на индекс массы тела (BMI),\n",
    "# используя второй способ, с помощью функции anova_lm() из библиотеки statsmode."
   ],
   "metadata": {
    "collapsed": false
   }
  },
  {
   "cell_type": "code",
   "execution_count": null,
   "outputs": [],
   "source": [
    "import statsmodels.api as sm\n",
    "from statsmodels.formula.api import ols"
   ],
   "metadata": {
    "collapsed": false,
    "ExecuteTime": {
     "start_time": "2023-11-09T18:48:46.933626800Z"
    }
   }
  },
  {
   "cell_type": "code",
   "execution_count": null,
   "outputs": [],
   "source": [
    "model = ols('bmi ~ region', data=frame).fit()\n",
    "anova_result = sm.stats.anova_lm(model, typ=2)\n",
    "print(anova_result)"
   ],
   "metadata": {
    "collapsed": false,
    "ExecuteTime": {
     "start_time": "2023-11-09T18:48:46.934626100Z"
    }
   }
  },
  {
   "cell_type": "markdown",
   "source": [
    "# С помощью t критерия Стьюдента перебрать все пары. Определить поправку Бонферрони. Сделать выводы."
   ],
   "metadata": {
    "collapsed": false
   }
  },
  {
   "cell_type": "markdown",
   "source": [
    " 0.03 < 0.05: гипотеза отклоняется;\n",
    " 0.06 > 0.05: гипотеза принимается;\n",
    " 0.015 < 0.05: гипотеза отклоняется."
   ],
   "metadata": {
    "collapsed": false
   }
  },
  {
   "cell_type": "code",
   "execution_count": null,
   "outputs": [],
   "source": [
    "t_dataframe = pd.DataFrame(columns=['Группы', 'p-value', 'Гипотеза'])\n",
    "pairs_for_comparison = []\n",
    "\n",
    "for i in regions:\n",
    "    for j in regions:\n",
    "        if i != j and [i, j] not in pairs_for_comparison and [j, i] not in pairs_for_comparison:\n",
    "            pairs_for_comparison.append([i, j])\n",
    "m = len(pairs_for_comparison)\n",
    "for i, j in pairs_for_comparison:\n",
    "    group = f'{i} - {j}'\n",
    "    p_value = stats.ttest_ind(dataset.bmi[groups[i]], dataset.bmi[groups[j]])\n",
    "    if p_value[1] > (0.05 / m):\n",
    "        hypothesis = 'Принимается'\n",
    "    else:\n",
    "        hypothesis = 'Отклоняется'\n",
    "    # new_row = {'Группы':group, 'p-value':p_value[1], 'Гипотеза':hypothesis}\n",
    "    new_row = [group, format(p_value[1], '.10f'), hypothesis]\n",
    "    t_dataframe.loc[len(t_dataframe.index)] = new_row\n",
    "    print(group)\n",
    "    print('statistic', format(p_value[0], '.10f'))\n",
    "    print('pvalue', format(p_value[1], '.10f'))\n",
    "    print()\n",
    "\n",
    "t_dataframe"
   ],
   "metadata": {
    "collapsed": false,
    "ExecuteTime": {
     "start_time": "2023-11-09T18:48:46.936627800Z"
    }
   }
  },
  {
   "cell_type": "markdown",
   "source": [
    "# Выполнить пост-хок тесты Тьюки и построить график."
   ],
   "metadata": {
    "collapsed": false
   }
  },
  {
   "cell_type": "code",
   "execution_count": null,
   "outputs": [],
   "source": [
    "from statsmodels.stats.multicomp import pairwise_tukeyhsd"
   ],
   "metadata": {
    "collapsed": false,
    "ExecuteTime": {
     "start_time": "2023-11-09T18:48:46.937626500Z"
    }
   }
  },
  {
   "cell_type": "code",
   "execution_count": null,
   "outputs": [],
   "source": [
    "tukey = pairwise_tukeyhsd(endog=dataset.bmi, groups=dataset.region, alpha=0.5)\n",
    "tukey.plot_simultaneous()\n",
    "plt.vlines(x=29, ymin=-0.5, ymax=4.5, color='red')\n",
    "tukey.summary()"
   ],
   "metadata": {
    "collapsed": false,
    "ExecuteTime": {
     "start_time": "2023-11-09T18:48:46.939625Z"
    }
   }
  },
  {
   "cell_type": "markdown",
   "source": [
    "Видим, что доверительные интервалы white-hispanic и white-asian перекрываются, поэтому пост-хок тесты показали что различия между ними не существенные."
   ],
   "metadata": {
    "collapsed": false
   }
  },
  {
   "cell_type": "markdown",
   "source": [
    "# Выполнить двухфакторный ANOVA тест, чтобы проверить влияние региона и пола на индекс массы тела (BMI),\n",
    "# используя функцию anova_lm() из библиотеки statsmodels"
   ],
   "metadata": {
    "collapsed": false
   }
  },
  {
   "cell_type": "code",
   "execution_count": null,
   "outputs": [],
   "source": [
    "anova_two = pd.DataFrame()\n",
    "anova_two['region'] = dataset.region\n",
    "anova_two['sex'] = dataset.sex\n",
    "anova_two['bmi'] = dataset.bmi\n",
    "anova_two"
   ],
   "metadata": {
    "collapsed": false,
    "ExecuteTime": {
     "start_time": "2023-11-09T18:48:46.940625700Z"
    }
   }
  },
  {
   "cell_type": "code",
   "execution_count": null,
   "outputs": [],
   "source": [
    "import statsmodels.api as sm\n",
    "from statsmodels.formula.api import ols"
   ],
   "metadata": {
    "collapsed": false,
    "ExecuteTime": {
     "start_time": "2023-11-09T18:48:46.942628300Z"
    }
   }
  },
  {
   "cell_type": "code",
   "execution_count": null,
   "outputs": [],
   "source": [
    "model = ols('bmi ~ C(region) + C(sex) + C(region):C(sex)', data=anova_two).fit()\n",
    "sm.stats.anova_lm(model, typ=2)"
   ],
   "metadata": {
    "collapsed": false,
    "ExecuteTime": {
     "start_time": "2023-11-09T18:48:46.943626200Z"
    }
   }
  },
  {
   "cell_type": "markdown",
   "source": [
    "Мы можем видеть следующие p-значения для каждого из факторов в таблице:\n",
    "• region: p-значение = 0,0000000000000000000000022\n",
    "• sex: p-значение = 0,1126940000000000025037750\n",
    "• region * sex: p-значение = 0,2819876000000000049183768"
   ],
   "metadata": {
    "collapsed": false
   }
  },
  {
   "cell_type": "code",
   "execution_count": null,
   "outputs": [],
   "source": [
    "x = 1.650655e-01\n",
    "print(format(x, '.25f'))"
   ],
   "metadata": {
    "collapsed": false,
    "ExecuteTime": {
     "start_time": "2023-11-09T18:48:46.944625100Z"
    }
   }
  },
  {
   "cell_type": "markdown",
   "source": [
    "Поскольку p-значения для региона 0,05, это означает, что фактор оказывают статистически значимое влияние на bmi."
   ],
   "metadata": {
    "collapsed": false
   }
  },
  {
   "cell_type": "markdown",
   "source": [
    "А поскольку p-значение для эффекта взаимодействия (0,2819876000000000049183768) и sex составляет не менее 0,05, это говорит нам об отсутствии значительного эффекта взаимодействия между sex, sex и region."
   ],
   "metadata": {
    "collapsed": false
   }
  },
  {
   "cell_type": "markdown",
   "source": [
    "#   Выполним пост-хок тест Тьюки для нашего примера, а также построим график с доверительными интервалами."
   ],
   "metadata": {
    "collapsed": false
   }
  },
  {
   "cell_type": "code",
   "execution_count": null,
   "outputs": [],
   "source": [
    "anova_two['combo'] = anova_two['region'] + ' \\ ' + anova_two['sex']\n",
    "anova_two"
   ],
   "metadata": {
    "collapsed": false,
    "ExecuteTime": {
     "start_time": "2023-11-09T18:48:46.945625600Z"
    }
   }
  },
  {
   "cell_type": "code",
   "execution_count": null,
   "outputs": [],
   "source": [
    "tukey = pairwise_tukeyhsd(endog = anova_two['bmi'], groups=anova_two['combo'], alpha=0.05)\n",
    "tukey.plot_simultaneous()\n",
    "tukey.summary()"
   ],
   "metadata": {
    "collapsed": false,
    "ExecuteTime": {
     "start_time": "2023-11-09T18:48:46.947626400Z"
    }
   }
  }
 ],
 "metadata": {
  "kernelspec": {
   "display_name": "Python 3",
   "language": "python",
   "name": "python3"
  },
  "language_info": {
   "codemirror_mode": {
    "name": "ipython",
    "version": 2
   },
   "file_extension": ".py",
   "mimetype": "text/x-python",
   "name": "python",
   "nbconvert_exporter": "python",
   "pygments_lexer": "ipython2",
   "version": "2.7.6"
  }
 },
 "nbformat": 4,
 "nbformat_minor": 0
}
