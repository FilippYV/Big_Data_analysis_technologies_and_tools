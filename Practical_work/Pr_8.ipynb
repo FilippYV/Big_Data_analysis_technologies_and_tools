{
 "cells": [
  {
   "cell_type": "markdown",
   "source": [
    "#   Загрузить данные Market_Basket_Optimisation.csv"
   ],
   "metadata": {
    "collapsed": false
   },
   "id": "c1aeff840ad4343a"
  },
  {
   "cell_type": "code",
   "execution_count": 272,
   "outputs": [],
   "source": [
    "import matplotlib.pyplot as plt\n",
    "import pandas as pd"
   ],
   "metadata": {
    "collapsed": false,
    "ExecuteTime": {
     "end_time": "2023-11-30T15:16:11.592824Z",
     "start_time": "2023-11-30T15:16:11.484050700Z"
    }
   },
   "id": "initial_id"
  },
  {
   "cell_type": "code",
   "execution_count": 273,
   "outputs": [
    {
     "data": {
      "text/plain": "              shrimp            almonds      avocado    vegetables mix  \\\n0            burgers          meatballs         eggs               NaN   \n1            chutney                NaN          NaN               NaN   \n2             turkey            avocado          NaN               NaN   \n3      mineral water               milk   energy bar  whole wheat rice   \n4     low fat yogurt                NaN          NaN               NaN   \n...              ...                ...          ...               ...   \n7495          butter         light mayo  fresh bread               NaN   \n7496         burgers  frozen vegetables         eggs      french fries   \n7497         chicken                NaN          NaN               NaN   \n7498        escalope          green tea          NaN               NaN   \n7499            eggs    frozen smoothie  yogurt cake    low fat yogurt   \n\n     green grapes whole weat flour yams cottage cheese energy drink  \\\n0             NaN              NaN  NaN            NaN          NaN   \n1             NaN              NaN  NaN            NaN          NaN   \n2             NaN              NaN  NaN            NaN          NaN   \n3       green tea              NaN  NaN            NaN          NaN   \n4             NaN              NaN  NaN            NaN          NaN   \n...           ...              ...  ...            ...          ...   \n7495          NaN              NaN  NaN            NaN          NaN   \n7496    magazines        green tea  NaN            NaN          NaN   \n7497          NaN              NaN  NaN            NaN          NaN   \n7498          NaN              NaN  NaN            NaN          NaN   \n7499          NaN              NaN  NaN            NaN          NaN   \n\n     tomato juice low fat yogurt green tea honey salad mineral water salmon  \\\n0             NaN            NaN       NaN   NaN   NaN           NaN    NaN   \n1             NaN            NaN       NaN   NaN   NaN           NaN    NaN   \n2             NaN            NaN       NaN   NaN   NaN           NaN    NaN   \n3             NaN            NaN       NaN   NaN   NaN           NaN    NaN   \n4             NaN            NaN       NaN   NaN   NaN           NaN    NaN   \n...           ...            ...       ...   ...   ...           ...    ...   \n7495          NaN            NaN       NaN   NaN   NaN           NaN    NaN   \n7496          NaN            NaN       NaN   NaN   NaN           NaN    NaN   \n7497          NaN            NaN       NaN   NaN   NaN           NaN    NaN   \n7498          NaN            NaN       NaN   NaN   NaN           NaN    NaN   \n7499          NaN            NaN       NaN   NaN   NaN           NaN    NaN   \n\n     antioxydant juice frozen smoothie spinach  olive oil  \n0                  NaN             NaN     NaN        NaN  \n1                  NaN             NaN     NaN        NaN  \n2                  NaN             NaN     NaN        NaN  \n3                  NaN             NaN     NaN        NaN  \n4                  NaN             NaN     NaN        NaN  \n...                ...             ...     ...        ...  \n7495               NaN             NaN     NaN        NaN  \n7496               NaN             NaN     NaN        NaN  \n7497               NaN             NaN     NaN        NaN  \n7498               NaN             NaN     NaN        NaN  \n7499               NaN             NaN     NaN        NaN  \n\n[7500 rows x 20 columns]",
      "text/html": "<div>\n<style scoped>\n    .dataframe tbody tr th:only-of-type {\n        vertical-align: middle;\n    }\n\n    .dataframe tbody tr th {\n        vertical-align: top;\n    }\n\n    .dataframe thead th {\n        text-align: right;\n    }\n</style>\n<table border=\"1\" class=\"dataframe\">\n  <thead>\n    <tr style=\"text-align: right;\">\n      <th></th>\n      <th>shrimp</th>\n      <th>almonds</th>\n      <th>avocado</th>\n      <th>vegetables mix</th>\n      <th>green grapes</th>\n      <th>whole weat flour</th>\n      <th>yams</th>\n      <th>cottage cheese</th>\n      <th>energy drink</th>\n      <th>tomato juice</th>\n      <th>low fat yogurt</th>\n      <th>green tea</th>\n      <th>honey</th>\n      <th>salad</th>\n      <th>mineral water</th>\n      <th>salmon</th>\n      <th>antioxydant juice</th>\n      <th>frozen smoothie</th>\n      <th>spinach</th>\n      <th>olive oil</th>\n    </tr>\n  </thead>\n  <tbody>\n    <tr>\n      <th>0</th>\n      <td>burgers</td>\n      <td>meatballs</td>\n      <td>eggs</td>\n      <td>NaN</td>\n      <td>NaN</td>\n      <td>NaN</td>\n      <td>NaN</td>\n      <td>NaN</td>\n      <td>NaN</td>\n      <td>NaN</td>\n      <td>NaN</td>\n      <td>NaN</td>\n      <td>NaN</td>\n      <td>NaN</td>\n      <td>NaN</td>\n      <td>NaN</td>\n      <td>NaN</td>\n      <td>NaN</td>\n      <td>NaN</td>\n      <td>NaN</td>\n    </tr>\n    <tr>\n      <th>1</th>\n      <td>chutney</td>\n      <td>NaN</td>\n      <td>NaN</td>\n      <td>NaN</td>\n      <td>NaN</td>\n      <td>NaN</td>\n      <td>NaN</td>\n      <td>NaN</td>\n      <td>NaN</td>\n      <td>NaN</td>\n      <td>NaN</td>\n      <td>NaN</td>\n      <td>NaN</td>\n      <td>NaN</td>\n      <td>NaN</td>\n      <td>NaN</td>\n      <td>NaN</td>\n      <td>NaN</td>\n      <td>NaN</td>\n      <td>NaN</td>\n    </tr>\n    <tr>\n      <th>2</th>\n      <td>turkey</td>\n      <td>avocado</td>\n      <td>NaN</td>\n      <td>NaN</td>\n      <td>NaN</td>\n      <td>NaN</td>\n      <td>NaN</td>\n      <td>NaN</td>\n      <td>NaN</td>\n      <td>NaN</td>\n      <td>NaN</td>\n      <td>NaN</td>\n      <td>NaN</td>\n      <td>NaN</td>\n      <td>NaN</td>\n      <td>NaN</td>\n      <td>NaN</td>\n      <td>NaN</td>\n      <td>NaN</td>\n      <td>NaN</td>\n    </tr>\n    <tr>\n      <th>3</th>\n      <td>mineral water</td>\n      <td>milk</td>\n      <td>energy bar</td>\n      <td>whole wheat rice</td>\n      <td>green tea</td>\n      <td>NaN</td>\n      <td>NaN</td>\n      <td>NaN</td>\n      <td>NaN</td>\n      <td>NaN</td>\n      <td>NaN</td>\n      <td>NaN</td>\n      <td>NaN</td>\n      <td>NaN</td>\n      <td>NaN</td>\n      <td>NaN</td>\n      <td>NaN</td>\n      <td>NaN</td>\n      <td>NaN</td>\n      <td>NaN</td>\n    </tr>\n    <tr>\n      <th>4</th>\n      <td>low fat yogurt</td>\n      <td>NaN</td>\n      <td>NaN</td>\n      <td>NaN</td>\n      <td>NaN</td>\n      <td>NaN</td>\n      <td>NaN</td>\n      <td>NaN</td>\n      <td>NaN</td>\n      <td>NaN</td>\n      <td>NaN</td>\n      <td>NaN</td>\n      <td>NaN</td>\n      <td>NaN</td>\n      <td>NaN</td>\n      <td>NaN</td>\n      <td>NaN</td>\n      <td>NaN</td>\n      <td>NaN</td>\n      <td>NaN</td>\n    </tr>\n    <tr>\n      <th>...</th>\n      <td>...</td>\n      <td>...</td>\n      <td>...</td>\n      <td>...</td>\n      <td>...</td>\n      <td>...</td>\n      <td>...</td>\n      <td>...</td>\n      <td>...</td>\n      <td>...</td>\n      <td>...</td>\n      <td>...</td>\n      <td>...</td>\n      <td>...</td>\n      <td>...</td>\n      <td>...</td>\n      <td>...</td>\n      <td>...</td>\n      <td>...</td>\n      <td>...</td>\n    </tr>\n    <tr>\n      <th>7495</th>\n      <td>butter</td>\n      <td>light mayo</td>\n      <td>fresh bread</td>\n      <td>NaN</td>\n      <td>NaN</td>\n      <td>NaN</td>\n      <td>NaN</td>\n      <td>NaN</td>\n      <td>NaN</td>\n      <td>NaN</td>\n      <td>NaN</td>\n      <td>NaN</td>\n      <td>NaN</td>\n      <td>NaN</td>\n      <td>NaN</td>\n      <td>NaN</td>\n      <td>NaN</td>\n      <td>NaN</td>\n      <td>NaN</td>\n      <td>NaN</td>\n    </tr>\n    <tr>\n      <th>7496</th>\n      <td>burgers</td>\n      <td>frozen vegetables</td>\n      <td>eggs</td>\n      <td>french fries</td>\n      <td>magazines</td>\n      <td>green tea</td>\n      <td>NaN</td>\n      <td>NaN</td>\n      <td>NaN</td>\n      <td>NaN</td>\n      <td>NaN</td>\n      <td>NaN</td>\n      <td>NaN</td>\n      <td>NaN</td>\n      <td>NaN</td>\n      <td>NaN</td>\n      <td>NaN</td>\n      <td>NaN</td>\n      <td>NaN</td>\n      <td>NaN</td>\n    </tr>\n    <tr>\n      <th>7497</th>\n      <td>chicken</td>\n      <td>NaN</td>\n      <td>NaN</td>\n      <td>NaN</td>\n      <td>NaN</td>\n      <td>NaN</td>\n      <td>NaN</td>\n      <td>NaN</td>\n      <td>NaN</td>\n      <td>NaN</td>\n      <td>NaN</td>\n      <td>NaN</td>\n      <td>NaN</td>\n      <td>NaN</td>\n      <td>NaN</td>\n      <td>NaN</td>\n      <td>NaN</td>\n      <td>NaN</td>\n      <td>NaN</td>\n      <td>NaN</td>\n    </tr>\n    <tr>\n      <th>7498</th>\n      <td>escalope</td>\n      <td>green tea</td>\n      <td>NaN</td>\n      <td>NaN</td>\n      <td>NaN</td>\n      <td>NaN</td>\n      <td>NaN</td>\n      <td>NaN</td>\n      <td>NaN</td>\n      <td>NaN</td>\n      <td>NaN</td>\n      <td>NaN</td>\n      <td>NaN</td>\n      <td>NaN</td>\n      <td>NaN</td>\n      <td>NaN</td>\n      <td>NaN</td>\n      <td>NaN</td>\n      <td>NaN</td>\n      <td>NaN</td>\n    </tr>\n    <tr>\n      <th>7499</th>\n      <td>eggs</td>\n      <td>frozen smoothie</td>\n      <td>yogurt cake</td>\n      <td>low fat yogurt</td>\n      <td>NaN</td>\n      <td>NaN</td>\n      <td>NaN</td>\n      <td>NaN</td>\n      <td>NaN</td>\n      <td>NaN</td>\n      <td>NaN</td>\n      <td>NaN</td>\n      <td>NaN</td>\n      <td>NaN</td>\n      <td>NaN</td>\n      <td>NaN</td>\n      <td>NaN</td>\n      <td>NaN</td>\n      <td>NaN</td>\n      <td>NaN</td>\n    </tr>\n  </tbody>\n</table>\n<p>7500 rows × 20 columns</p>\n</div>"
     },
     "execution_count": 273,
     "metadata": {},
     "output_type": "execute_result"
    }
   ],
   "source": [
    "data = pd.read_csv('../Datasets_for_work/Data_8/Market_Basket_Optimisation.csv')\n",
    "data"
   ],
   "metadata": {
    "collapsed": false,
    "ExecuteTime": {
     "end_time": "2023-11-30T15:16:11.987195200Z",
     "start_time": "2023-11-30T15:16:11.495310Z"
    }
   },
   "id": "13481aa6b2a7a759"
  },
  {
   "cell_type": "markdown",
   "source": [
    "#   Визуализировать данные (отразить на гистограммах относительную и фактическую частоту \n",
    "#   встречаемости для 20 наиболее популярных товаров)."
   ],
   "metadata": {
    "collapsed": false
   },
   "id": "a50b0849d1f8023f"
  },
  {
   "cell_type": "markdown",
   "source": [
    "#   относительная частота"
   ],
   "metadata": {
    "collapsed": false
   },
   "id": "51446756a78f9dbd"
  },
  {
   "cell_type": "code",
   "execution_count": 274,
   "outputs": [
    {
     "data": {
      "text/plain": "<Axes: >"
     },
     "execution_count": 274,
     "metadata": {},
     "output_type": "execute_result"
    },
    {
     "data": {
      "text/plain": "<Figure size 640x480 with 1 Axes>",
      "image/png": "[encoded data removed]"
     },
     "metadata": {},
     "output_type": "display_data"
    }
   ],
   "source": [
    "data.stack().value_counts(normalize=True)[:20].plot(kind='bar')"
   ],
   "metadata": {
    "collapsed": false,
    "ExecuteTime": {
     "end_time": "2023-11-30T15:16:12.241707600Z",
     "start_time": "2023-11-30T15:16:11.526824400Z"
    }
   },
   "id": "4ecc1da31ccb09dc"
  },
  {
   "cell_type": "markdown",
   "source": [
    "#   фактическая частота"
   ],
   "metadata": {
    "collapsed": false
   },
   "id": "a16799f9310e4791"
  },
  {
   "cell_type": "code",
   "execution_count": 275,
   "outputs": [
    {
     "name": "stdout",
     "output_type": "stream",
     "text": [
      "mineral water    0.238267\n",
      "eggs             0.179733\n",
      "spaghetti        0.174133\n",
      "french fries     0.170933\n",
      "chocolate        0.164000\n",
      "                   ...   \n",
      "bramble          0.001867\n",
      "cream            0.000933\n",
      "napkins          0.000667\n",
      "water spray      0.000400\n",
      " asparagus       0.000133\n",
      "Name: count, Length: 120, dtype: float64\n"
     ]
    },
    {
     "data": {
      "text/plain": "<Figure size 640x480 with 1 Axes>",
      "image/png": "[encoded data removed]"
     },
     "metadata": {},
     "output_type": "display_data"
    }
   ],
   "source": [
    "data.stack().value_counts().apply(lambda item: item / data.shape[0])[:20].plot(kind='bar')\n",
    "print(data.stack().value_counts().apply(lambda item: item / data.shape[0]))"
   ],
   "metadata": {
    "collapsed": false,
    "ExecuteTime": {
     "end_time": "2023-11-30T15:16:12.371242400Z",
     "start_time": "2023-11-30T15:16:11.750178800Z"
    }
   },
   "id": "d79e3fee1b9b9194"
  },
  {
   "cell_type": "markdown",
   "source": [
    "#   Применить алгоритм Apriori, используя 3 разные библиотеки\n",
    "#   (apriori_python, apyori, efficient_apriori). Подобрать гиперпараметры для\n",
    "#   алгоритмов так, чтобы выводилось порядка 10 наилучших правил."
   ],
   "metadata": {
    "collapsed": false
   },
   "id": "998be2c09b8792ef"
  },
  {
   "cell_type": "code",
   "execution_count": 276,
   "outputs": [],
   "source": [
    "transactions = []\n",
    "for i in range(data.shape[0]):\n",
    "    row = data.iloc[i].dropna().tolist()\n",
    "    transactions.append(row)"
   ],
   "metadata": {
    "collapsed": false,
    "ExecuteTime": {
     "end_time": "2023-11-30T15:16:13.116283100Z",
     "start_time": "2023-11-30T15:16:12.096195800Z"
    }
   },
   "id": "3b28404050058f8"
  },
  {
   "cell_type": "code",
   "execution_count": 277,
   "outputs": [
    {
     "data": {
      "text/plain": "'burgers'"
     },
     "execution_count": 277,
     "metadata": {},
     "output_type": "execute_result"
    }
   ],
   "source": [
    "transactions[0][0]"
   ],
   "metadata": {
    "collapsed": false,
    "ExecuteTime": {
     "end_time": "2023-11-30T15:16:13.132286Z",
     "start_time": "2023-11-30T15:16:13.117284700Z"
    }
   },
   "id": "e2e375ee9024e329"
  },
  {
   "cell_type": "code",
   "execution_count": 278,
   "outputs": [
    {
     "data": {
      "text/plain": "['burgers', 'meatballs', 'eggs']"
     },
     "execution_count": 278,
     "metadata": {},
     "output_type": "execute_result"
    }
   ],
   "source": [
    "transactions[0]"
   ],
   "metadata": {
    "collapsed": false,
    "ExecuteTime": {
     "end_time": "2023-11-30T15:16:13.178282200Z",
     "start_time": "2023-11-30T15:16:13.133284Z"
    }
   },
   "id": "9dcfb8c2f23e5e9f"
  },
  {
   "cell_type": "code",
   "execution_count": 279,
   "outputs": [
    {
     "data": {
      "text/plain": "7500"
     },
     "execution_count": 279,
     "metadata": {},
     "output_type": "execute_result"
    }
   ],
   "source": [
    "len(transactions)"
   ],
   "metadata": {
    "collapsed": false,
    "ExecuteTime": {
     "end_time": "2023-11-30T15:16:13.178282200Z",
     "start_time": "2023-11-30T15:16:13.150283600Z"
    }
   },
   "id": "8b1dd738dfa315c6"
  },
  {
   "cell_type": "code",
   "execution_count": 280,
   "outputs": [],
   "source": [
    "from apriori_python import apriori\n",
    "import time"
   ],
   "metadata": {
    "collapsed": false,
    "ExecuteTime": {
     "end_time": "2023-11-30T15:16:13.190285Z",
     "start_time": "2023-11-30T15:16:13.166284500Z"
    }
   },
   "id": "6ba6d2962b8ed6da"
  },
  {
   "cell_type": "code",
   "execution_count": 281,
   "outputs": [],
   "source": [
    "t = []\n",
    "start = time.perf_counter()\n",
    "t1, rules = apriori(transactions, minSup=0.04, minConf=0.04)\n",
    "time1 = (time.perf_counter() - start)\n",
    "t.append(time1)"
   ],
   "metadata": {
    "collapsed": false,
    "ExecuteTime": {
     "end_time": "2023-11-30T15:16:14.171292Z",
     "start_time": "2023-11-30T15:16:13.181285400Z"
    }
   },
   "id": "3df89cc805bf9f59"
  },
  {
   "cell_type": "code",
   "execution_count": 282,
   "outputs": [
    {
     "name": "stdout",
     "output_type": "stream",
     "text": [
      "10\n"
     ]
    },
    {
     "data": {
      "text/plain": "[[{'mineral water'}, {'ground beef'}, 0.17179630665920537],\n [{'mineral water'}, {'milk'}, 0.20145495243424735],\n [{'mineral water'}, {'eggs'}, 0.21376608841634023],\n [{'mineral water'}, {'chocolate'}, 0.22104085058757694],\n [{'mineral water'}, {'spaghetti'}, 0.2506994963626189],\n [{'eggs'}, {'mineral water'}, 0.28338278931750743],\n [{'chocolate'}, {'mineral water'}, 0.3213995117982099],\n [{'spaghetti'}, {'mineral water'}, 0.3430321592649311],\n [{'milk'}, {'mineral water'}, 0.37037037037037035],\n [{'ground beef'}, {'mineral water'}, 0.41655359565807326]]"
     },
     "execution_count": 282,
     "metadata": {},
     "output_type": "execute_result"
    }
   ],
   "source": [
    "print(len(rules))\n",
    "rules"
   ],
   "metadata": {
    "collapsed": false,
    "ExecuteTime": {
     "end_time": "2023-11-30T15:16:14.187910500Z",
     "start_time": "2023-11-30T15:16:14.173546600Z"
    }
   },
   "id": "59a6799c93cf087b"
  },
  {
   "cell_type": "code",
   "execution_count": 283,
   "outputs": [],
   "source": [
    "from apyori import apriori"
   ],
   "metadata": {
    "collapsed": false,
    "ExecuteTime": {
     "end_time": "2023-11-30T15:16:14.233293400Z",
     "start_time": "2023-11-30T15:16:14.187910500Z"
    }
   },
   "id": "7ff27cf47e5cb8f4"
  },
  {
   "cell_type": "code",
   "execution_count": 284,
   "outputs": [],
   "source": [
    "start = time.perf_counter()\n",
    "rules = apriori(transactions=transactions,\n",
    "                min_support=0.04,\n",
    "                min_confidence=0.04,\n",
    "                min_lift=1.0001)\n",
    "results = list(rules)\n",
    "time2 = (time.perf_counter() - start)\n",
    "t.append(time2)"
   ],
   "metadata": {
    "collapsed": false,
    "ExecuteTime": {
     "end_time": "2023-11-30T15:16:14.243227400Z",
     "start_time": "2023-11-30T15:16:14.204287800Z"
    }
   },
   "id": "d6225e642b253843"
  },
  {
   "cell_type": "code",
   "execution_count": 285,
   "outputs": [
    {
     "name": "stdout",
     "output_type": "stream",
     "text": [
      "5\n",
      "frozenset({'chocolate'}) frozenset({'mineral water'})\n",
      "Support: 0.05266666666666667, Confidence: 0.32139951179820997, Lift: 1.3489067367020564\n",
      "\n",
      "frozenset({'mineral water'}) frozenset({'chocolate'})\n",
      "Support: 0.05266666666666667, Confidence: 0.22104085058757697, Lift: 1.3489067367020564\n",
      "\n",
      "frozenset({'eggs'}) frozenset({'mineral water'})\n",
      "Support: 0.05093333333333333, Confidence: 0.28338278931750743, Lift: 1.1893513821383916\n",
      "\n",
      "frozenset({'mineral water'}) frozenset({'eggs'})\n",
      "Support: 0.05093333333333333, Confidence: 0.21376608841634023, Lift: 1.1893513821383916\n",
      "\n",
      "frozenset({'ground beef'}) frozenset({'mineral water'})\n",
      "Support: 0.040933333333333335, Confidence: 0.41655359565807326, Lift: 1.7482663499919135\n",
      "\n",
      "frozenset({'mineral water'}) frozenset({'ground beef'})\n",
      "Support: 0.040933333333333335, Confidence: 0.1717963066592054, Lift: 1.7482663499919138\n",
      "\n",
      "frozenset({'milk'}) frozenset({'mineral water'})\n",
      "Support: 0.048, Confidence: 0.3703703703703704, Lift: 1.5544363613753656\n",
      "\n",
      "frozenset({'mineral water'}) frozenset({'milk'})\n",
      "Support: 0.048, Confidence: 0.20145495243424735, Lift: 1.5544363613753656\n",
      "\n",
      "frozenset({'mineral water'}) frozenset({'spaghetti'})\n",
      "Support: 0.05973333333333333, Confidence: 0.2506994963626189, Lift: 1.4396984860027884\n",
      "\n",
      "frozenset({'spaghetti'}) frozenset({'mineral water'})\n",
      "Support: 0.05973333333333333, Confidence: 0.3430321592649311, Lift: 1.4396984860027886\n"
     ]
    }
   ],
   "source": [
    "print(len(results))\n",
    "for results in results:\n",
    "    for subset in results[2]:\n",
    "        print(subset[0], subset[1])\n",
    "        print(f'Support: {results[1]}, Confidence: {subset[2]}, Lift: {subset[3]}')\n",
    "        print()"
   ],
   "metadata": {
    "collapsed": false,
    "ExecuteTime": {
     "end_time": "2023-11-30T15:16:14.252225500Z",
     "start_time": "2023-11-30T15:16:14.237233Z"
    }
   },
   "id": "343de26bff8764db"
  },
  {
   "cell_type": "code",
   "execution_count": 286,
   "outputs": [
    {
     "data": {
      "text/plain": "RelationRecord(items=frozenset({'mineral water', 'spaghetti'}), support=0.05973333333333333, ordered_statistics=[OrderedStatistic(items_base=frozenset({'mineral water'}), items_add=frozenset({'spaghetti'}), confidence=0.2506994963626189, lift=1.4396984860027884), OrderedStatistic(items_base=frozenset({'spaghetti'}), items_add=frozenset({'mineral water'}), confidence=0.3430321592649311, lift=1.4396984860027886)])"
     },
     "execution_count": 286,
     "metadata": {},
     "output_type": "execute_result"
    }
   ],
   "source": [
    "results"
   ],
   "metadata": {
    "collapsed": false,
    "ExecuteTime": {
     "end_time": "2023-11-30T15:16:14.295224100Z",
     "start_time": "2023-11-30T15:16:14.252225500Z"
    }
   },
   "id": "51a3f18eef24f8d8"
  },
  {
   "cell_type": "code",
   "execution_count": 287,
   "outputs": [],
   "source": [
    "from efficient_apriori import apriori"
   ],
   "metadata": {
    "collapsed": false,
    "ExecuteTime": {
     "end_time": "2023-11-30T15:16:14.306224700Z",
     "start_time": "2023-11-30T15:16:14.267224900Z"
    }
   },
   "id": "5438e5be3bb7efd8"
  },
  {
   "cell_type": "code",
   "execution_count": 288,
   "outputs": [],
   "source": [
    "start = time.perf_counter()\n",
    "itemsets, rules = apriori(transactions, min_support=0.04, min_confidence=0.04)\n",
    "time3 = (time.perf_counter() - start)\n",
    "t.append(time3)"
   ],
   "metadata": {
    "collapsed": false,
    "ExecuteTime": {
     "end_time": "2023-11-30T15:16:14.318224200Z",
     "start_time": "2023-11-30T15:16:14.295224100Z"
    }
   },
   "id": "2cc9e2d39263585a"
  },
  {
   "cell_type": "code",
   "execution_count": 289,
   "outputs": [
    {
     "name": "stdout",
     "output_type": "stream",
     "text": [
      "10\n",
      "{mineral water} -> {chocolate} (conf: 0.221, supp: 0.053, lift: 1.349, conv: 1.073)\n",
      "{chocolate} -> {mineral water} (conf: 0.321, supp: 0.053, lift: 1.349, conv: 1.123)\n",
      "{mineral water} -> {eggs} (conf: 0.214, supp: 0.051, lift: 1.189, conv: 1.043)\n",
      "{eggs} -> {mineral water} (conf: 0.283, supp: 0.051, lift: 1.189, conv: 1.063)\n",
      "{mineral water} -> {ground beef} (conf: 0.172, supp: 0.041, lift: 1.748, conv: 1.089)\n",
      "{ground beef} -> {mineral water} (conf: 0.417, supp: 0.041, lift: 1.748, conv: 1.306)\n",
      "{mineral water} -> {milk} (conf: 0.201, supp: 0.048, lift: 1.554, conv: 1.090)\n",
      "{milk} -> {mineral water} (conf: 0.370, supp: 0.048, lift: 1.554, conv: 1.210)\n",
      "{spaghetti} -> {mineral water} (conf: 0.343, supp: 0.060, lift: 1.440, conv: 1.159)\n",
      "{mineral water} -> {spaghetti} (conf: 0.251, supp: 0.060, lift: 1.440, conv: 1.102)\n"
     ]
    }
   ],
   "source": [
    "print(len(rules))\n",
    "for i in rules:\n",
    "    print(i)"
   ],
   "metadata": {
    "collapsed": false,
    "ExecuteTime": {
     "end_time": "2023-11-30T15:16:14.359312400Z",
     "start_time": "2023-11-30T15:16:14.314224Z"
    }
   },
   "id": "db30ceb4b7d507d7"
  },
  {
   "cell_type": "markdown",
   "source": [
    "#   Применить алгоритм FP-Growth из библиотеки fpgrowth_py. Подобрать гиперпараметры для алгоритма так, чтобы выводилось порядка 10 наилучших правил."
   ],
   "metadata": {
    "collapsed": false
   },
   "id": "aceed319e158c057"
  },
  {
   "cell_type": "code",
   "execution_count": 290,
   "outputs": [],
   "source": [
    "from fpgrowth_py import fpgrowth"
   ],
   "metadata": {
    "collapsed": false,
    "ExecuteTime": {
     "end_time": "2023-11-30T15:16:14.368312100Z",
     "start_time": "2023-11-30T15:16:14.330227400Z"
    }
   },
   "id": "2856973b0f9b7879"
  },
  {
   "cell_type": "code",
   "execution_count": 291,
   "outputs": [],
   "source": [
    "start = time.perf_counter()\n",
    "itemsets, rules = fpgrowth(transactions, minSupRatio=0.04, minConf=0.04)\n",
    "time4 = (time.perf_counter() - start)\n",
    "t.append(time4)"
   ],
   "metadata": {
    "collapsed": false,
    "ExecuteTime": {
     "end_time": "2023-11-30T15:16:14.550308100Z",
     "start_time": "2023-11-30T15:16:14.408313100Z"
    }
   },
   "id": "6876e7f4b9bce37b"
  },
  {
   "cell_type": "code",
   "execution_count": 292,
   "outputs": [
    {
     "name": "stdout",
     "output_type": "stream",
     "text": [
      "10\n",
      "[{'ground beef'}, {'mineral water'}, 0.41655359565807326]\n",
      "[{'mineral water'}, {'ground beef'}, 0.17179630665920537]\n",
      "[{'mineral water'}, {'milk'}, 0.20145495243424735]\n",
      "[{'milk'}, {'mineral water'}, 0.37037037037037035]\n",
      "[{'chocolate'}, {'mineral water'}, 0.3213995117982099]\n",
      "[{'mineral water'}, {'chocolate'}, 0.22104085058757694]\n",
      "[{'mineral water'}, {'spaghetti'}, 0.2506994963626189]\n",
      "[{'spaghetti'}, {'mineral water'}, 0.3430321592649311]\n",
      "[{'eggs'}, {'mineral water'}, 0.28338278931750743]\n",
      "[{'mineral water'}, {'eggs'}, 0.21376608841634023]\n"
     ]
    }
   ],
   "source": [
    "print(len(rules))\n",
    "for i in rules:\n",
    "    print(i)"
   ],
   "metadata": {
    "collapsed": false,
    "ExecuteTime": {
     "end_time": "2023-11-30T15:16:14.565288500Z",
     "start_time": "2023-11-30T15:16:14.551310700Z"
    }
   },
   "id": "f77f1fdd921c5898"
  },
  {
   "cell_type": "markdown",
   "source": [
    "#\tСравнить время выполнения всех алгоритмов и построить гистограмму."
   ],
   "metadata": {
    "collapsed": false
   },
   "id": "481d6f6aceb135a1"
  },
  {
   "cell_type": "code",
   "execution_count": 293,
   "outputs": [
    {
     "name": "stdout",
     "output_type": "stream",
     "text": [
      "Время apriori: 0.9821822000085376\n",
      "Время apriori 2: 0.014187200053129345\n",
      "Время efficient_apriori: 0.011448300036136061\n",
      "Время fpgrowth_py: 0.1854520000051707\n"
     ]
    },
    {
     "data": {
      "text/plain": "<BarContainer object of 4 artists>"
     },
     "execution_count": 293,
     "metadata": {},
     "output_type": "execute_result"
    },
    {
     "data": {
      "text/plain": "<Figure size 640x480 with 1 Axes>",
      "image/png": "[encoded data removed]"
     },
     "metadata": {},
     "output_type": "display_data"
    }
   ],
   "source": [
    "print(f'Время apriori: {t[0]}')\n",
    "print(f'Время apriori 2: {t[1]}')\n",
    "print(f'Время efficient_apriori: {t[2]}')\n",
    "print(f'Время fpgrowth_py: {t[3]}')\n",
    "plt.bar(['apriori', 'apriori 2', 'efficient_apriori', 'fpgrowth_py'], t)"
   ],
   "metadata": {
    "collapsed": false,
    "ExecuteTime": {
     "end_time": "2023-11-30T15:16:14.697473700Z",
     "start_time": "2023-11-30T15:16:14.567288700Z"
    }
   },
   "id": "e0564cee6d1ced79"
  },
  {
   "cell_type": "code",
   "execution_count": 294,
   "outputs": [
    {
     "data": {
      "text/plain": "              Bread    Unnamed: 1      Unnamed: 2        Unnamed: 3  \\\n0      Scandinavian  Scandinavian             NaN               NaN   \n1     Hot chocolate           Jam         Cookies               NaN   \n2            Muffin           NaN             NaN               NaN   \n3            Coffee        Pastry           Bread               NaN   \n4         Medialuna        Pastry          Muffin               NaN   \n...             ...           ...             ...               ...   \n9525          Bread           NaN             NaN               NaN   \n9526       Truffles           Tea  Spanish Brunch  Christmas common   \n9527         Muffin  Tacos/Fajita          Coffee               Tea   \n9528         Coffee        Pastry             NaN               NaN   \n9529      Smoothies           NaN             NaN               NaN   \n\n     Unnamed: 4 Unnamed: 5 Unnamed: 6 Unnamed: 7 Unnamed: 8 Unnamed: 9  \\\n0           NaN        NaN        NaN        NaN        NaN        NaN   \n1           NaN        NaN        NaN        NaN        NaN        NaN   \n2           NaN        NaN        NaN        NaN        NaN        NaN   \n3           NaN        NaN        NaN        NaN        NaN        NaN   \n4           NaN        NaN        NaN        NaN        NaN        NaN   \n...         ...        ...        ...        ...        ...        ...   \n9525        NaN        NaN        NaN        NaN        NaN        NaN   \n9526        NaN        NaN        NaN        NaN        NaN        NaN   \n9527        NaN        NaN        NaN        NaN        NaN        NaN   \n9528        NaN        NaN        NaN        NaN        NaN        NaN   \n9529        NaN        NaN        NaN        NaN        NaN        NaN   \n\n     Unnamed: 10 Unnamed: 11  \n0            NaN         NaN  \n1            NaN         NaN  \n2            NaN         NaN  \n3            NaN         NaN  \n4            NaN         NaN  \n...          ...         ...  \n9525         NaN         NaN  \n9526         NaN         NaN  \n9527         NaN         NaN  \n9528         NaN         NaN  \n9529         NaN         NaN  \n\n[9530 rows x 12 columns]",
      "text/html": "<div>\n<style scoped>\n    .dataframe tbody tr th:only-of-type {\n        vertical-align: middle;\n    }\n\n    .dataframe tbody tr th {\n        vertical-align: top;\n    }\n\n    .dataframe thead th {\n        text-align: right;\n    }\n</style>\n<table border=\"1\" class=\"dataframe\">\n  <thead>\n    <tr style=\"text-align: right;\">\n      <th></th>\n      <th>Bread</th>\n      <th>Unnamed: 1</th>\n      <th>Unnamed: 2</th>\n      <th>Unnamed: 3</th>\n      <th>Unnamed: 4</th>\n      <th>Unnamed: 5</th>\n      <th>Unnamed: 6</th>\n      <th>Unnamed: 7</th>\n      <th>Unnamed: 8</th>\n      <th>Unnamed: 9</th>\n      <th>Unnamed: 10</th>\n      <th>Unnamed: 11</th>\n    </tr>\n  </thead>\n  <tbody>\n    <tr>\n      <th>0</th>\n      <td>Scandinavian</td>\n      <td>Scandinavian</td>\n      <td>NaN</td>\n      <td>NaN</td>\n      <td>NaN</td>\n      <td>NaN</td>\n      <td>NaN</td>\n      <td>NaN</td>\n      <td>NaN</td>\n      <td>NaN</td>\n      <td>NaN</td>\n      <td>NaN</td>\n    </tr>\n    <tr>\n      <th>1</th>\n      <td>Hot chocolate</td>\n      <td>Jam</td>\n      <td>Cookies</td>\n      <td>NaN</td>\n      <td>NaN</td>\n      <td>NaN</td>\n      <td>NaN</td>\n      <td>NaN</td>\n      <td>NaN</td>\n      <td>NaN</td>\n      <td>NaN</td>\n      <td>NaN</td>\n    </tr>\n    <tr>\n      <th>2</th>\n      <td>Muffin</td>\n      <td>NaN</td>\n      <td>NaN</td>\n      <td>NaN</td>\n      <td>NaN</td>\n      <td>NaN</td>\n      <td>NaN</td>\n      <td>NaN</td>\n      <td>NaN</td>\n      <td>NaN</td>\n      <td>NaN</td>\n      <td>NaN</td>\n    </tr>\n    <tr>\n      <th>3</th>\n      <td>Coffee</td>\n      <td>Pastry</td>\n      <td>Bread</td>\n      <td>NaN</td>\n      <td>NaN</td>\n      <td>NaN</td>\n      <td>NaN</td>\n      <td>NaN</td>\n      <td>NaN</td>\n      <td>NaN</td>\n      <td>NaN</td>\n      <td>NaN</td>\n    </tr>\n    <tr>\n      <th>4</th>\n      <td>Medialuna</td>\n      <td>Pastry</td>\n      <td>Muffin</td>\n      <td>NaN</td>\n      <td>NaN</td>\n      <td>NaN</td>\n      <td>NaN</td>\n      <td>NaN</td>\n      <td>NaN</td>\n      <td>NaN</td>\n      <td>NaN</td>\n      <td>NaN</td>\n    </tr>\n    <tr>\n      <th>...</th>\n      <td>...</td>\n      <td>...</td>\n      <td>...</td>\n      <td>...</td>\n      <td>...</td>\n      <td>...</td>\n      <td>...</td>\n      <td>...</td>\n      <td>...</td>\n      <td>...</td>\n      <td>...</td>\n      <td>...</td>\n    </tr>\n    <tr>\n      <th>9525</th>\n      <td>Bread</td>\n      <td>NaN</td>\n      <td>NaN</td>\n      <td>NaN</td>\n      <td>NaN</td>\n      <td>NaN</td>\n      <td>NaN</td>\n      <td>NaN</td>\n      <td>NaN</td>\n      <td>NaN</td>\n      <td>NaN</td>\n      <td>NaN</td>\n    </tr>\n    <tr>\n      <th>9526</th>\n      <td>Truffles</td>\n      <td>Tea</td>\n      <td>Spanish Brunch</td>\n      <td>Christmas common</td>\n      <td>NaN</td>\n      <td>NaN</td>\n      <td>NaN</td>\n      <td>NaN</td>\n      <td>NaN</td>\n      <td>NaN</td>\n      <td>NaN</td>\n      <td>NaN</td>\n    </tr>\n    <tr>\n      <th>9527</th>\n      <td>Muffin</td>\n      <td>Tacos/Fajita</td>\n      <td>Coffee</td>\n      <td>Tea</td>\n      <td>NaN</td>\n      <td>NaN</td>\n      <td>NaN</td>\n      <td>NaN</td>\n      <td>NaN</td>\n      <td>NaN</td>\n      <td>NaN</td>\n      <td>NaN</td>\n    </tr>\n    <tr>\n      <th>9528</th>\n      <td>Coffee</td>\n      <td>Pastry</td>\n      <td>NaN</td>\n      <td>NaN</td>\n      <td>NaN</td>\n      <td>NaN</td>\n      <td>NaN</td>\n      <td>NaN</td>\n      <td>NaN</td>\n      <td>NaN</td>\n      <td>NaN</td>\n      <td>NaN</td>\n    </tr>\n    <tr>\n      <th>9529</th>\n      <td>Smoothies</td>\n      <td>NaN</td>\n      <td>NaN</td>\n      <td>NaN</td>\n      <td>NaN</td>\n      <td>NaN</td>\n      <td>NaN</td>\n      <td>NaN</td>\n      <td>NaN</td>\n      <td>NaN</td>\n      <td>NaN</td>\n      <td>NaN</td>\n    </tr>\n  </tbody>\n</table>\n<p>9530 rows × 12 columns</p>\n</div>"
     },
     "execution_count": 294,
     "metadata": {},
     "output_type": "execute_result"
    }
   ],
   "source": [
    "new_data = pd.read_csv('../Datasets_for_work/Data_8/data.csv')\n",
    "new_data"
   ],
   "metadata": {
    "collapsed": false,
    "ExecuteTime": {
     "end_time": "2023-11-30T15:16:14.718474500Z",
     "start_time": "2023-11-30T15:16:14.679474100Z"
    }
   },
   "id": "25811f745637b1ea"
  },
  {
   "cell_type": "markdown",
   "source": [
    "#   Визуализировать данные (отразить на гистограммах относительную и фактическую частоту \n",
    "#   встречаемости для 20 наиболее популярных товаров)."
   ],
   "metadata": {
    "collapsed": false
   },
   "id": "f19bb28108383e73"
  },
  {
   "cell_type": "markdown",
   "source": [
    "#   относительная частота"
   ],
   "metadata": {
    "collapsed": false
   },
   "id": "b4e1b044401ad9a1"
  },
  {
   "cell_type": "code",
   "execution_count": 295,
   "outputs": [
    {
     "data": {
      "text/plain": "<Axes: >"
     },
     "execution_count": 295,
     "metadata": {},
     "output_type": "execute_result"
    },
    {
     "data": {
      "text/plain": "<Figure size 640x480 with 1 Axes>",
      "image/png": "[encoded data removed]"
     },
     "metadata": {},
     "output_type": "display_data"
    }
   ],
   "source": [
    "new_data.stack().value_counts(normalize=True)[:20].plot(kind='bar')"
   ],
   "metadata": {
    "collapsed": false,
    "ExecuteTime": {
     "end_time": "2023-11-30T15:16:14.981474400Z",
     "start_time": "2023-11-30T15:16:14.714476700Z"
    }
   },
   "id": "127df8710a338d8d"
  },
  {
   "cell_type": "markdown",
   "source": [
    "#   фактическая частота"
   ],
   "metadata": {
    "collapsed": false
   },
   "id": "fc0ba74162bd064a"
  },
  {
   "cell_type": "code",
   "execution_count": 296,
   "outputs": [
    {
     "name": "stdout",
     "output_type": "stream",
     "text": [
      "Coffee              0.574082\n",
      "Bread               0.348793\n",
      "Tea                 0.150577\n",
      "Cake                0.107555\n",
      "Pastry              0.089822\n",
      "                      ...   \n",
      "Olum & polenta      0.000105\n",
      "Gift voucher        0.000105\n",
      "Coffee granules     0.000105\n",
      "Raw bars            0.000105\n",
      "Chicken sand        0.000105\n",
      "Name: count, Length: 102, dtype: float64\n"
     ]
    },
    {
     "data": {
      "text/plain": "<Figure size 640x480 with 1 Axes>",
      "image/png": "[encoded data removed]"
     },
     "metadata": {},
     "output_type": "display_data"
    }
   ],
   "source": [
    "new_data.stack().value_counts().apply(lambda item: item / new_data.shape[0])[:20].plot(kind='bar')\n",
    "print(new_data.stack().value_counts().apply(lambda item: item / new_data.shape[0]))"
   ],
   "metadata": {
    "collapsed": false,
    "ExecuteTime": {
     "end_time": "2023-11-30T15:16:15.184309700Z",
     "start_time": "2023-11-30T15:16:14.935473500Z"
    }
   },
   "id": "5013246c1c2faf6b"
  },
  {
   "cell_type": "markdown",
   "source": [
    "#   Применить алгоритм Apriori, используя 3 разные библиотеки\n",
    "#   (apriori_python, apyori, efficient_apriori). Подобрать гиперпараметры для\n",
    "#   алгоритмов так, чтобы выводилось порядка 10 наилучших правил."
   ],
   "metadata": {
    "collapsed": false
   },
   "id": "54df5a3577bda3d7"
  },
  {
   "cell_type": "code",
   "execution_count": 297,
   "outputs": [],
   "source": [
    "transactions = []\n",
    "for i in range(new_data.shape[0]):\n",
    "    row = new_data.iloc[i].dropna().tolist()\n",
    "    transactions.append(row)"
   ],
   "metadata": {
    "collapsed": false,
    "ExecuteTime": {
     "end_time": "2023-11-30T15:16:16.061970700Z",
     "start_time": "2023-11-30T15:16:15.214310700Z"
    }
   },
   "id": "7ba8e48ed9ca8f31"
  },
  {
   "cell_type": "code",
   "execution_count": 298,
   "outputs": [
    {
     "data": {
      "text/plain": "'Scandinavian'"
     },
     "execution_count": 298,
     "metadata": {},
     "output_type": "execute_result"
    }
   ],
   "source": [
    "transactions[0][0]"
   ],
   "metadata": {
    "collapsed": false,
    "ExecuteTime": {
     "end_time": "2023-11-30T15:16:16.077982500Z",
     "start_time": "2023-11-30T15:16:16.062970300Z"
    }
   },
   "id": "286946b4f5a558b5"
  },
  {
   "cell_type": "code",
   "execution_count": 299,
   "outputs": [
    {
     "data": {
      "text/plain": "['Scandinavian', 'Scandinavian']"
     },
     "execution_count": 299,
     "metadata": {},
     "output_type": "execute_result"
    }
   ],
   "source": [
    "transactions[0]"
   ],
   "metadata": {
    "collapsed": false,
    "ExecuteTime": {
     "end_time": "2023-11-30T15:16:16.123784500Z",
     "start_time": "2023-11-30T15:16:16.078983900Z"
    }
   },
   "id": "10c61bebc463250d"
  },
  {
   "cell_type": "code",
   "execution_count": 300,
   "outputs": [
    {
     "data": {
      "text/plain": "9530"
     },
     "execution_count": 300,
     "metadata": {},
     "output_type": "execute_result"
    }
   ],
   "source": [
    "len(transactions)"
   ],
   "metadata": {
    "collapsed": false,
    "ExecuteTime": {
     "end_time": "2023-11-30T15:16:16.124788600Z",
     "start_time": "2023-11-30T15:16:16.094782900Z"
    }
   },
   "id": "1708a95173589909"
  },
  {
   "cell_type": "code",
   "execution_count": 301,
   "outputs": [],
   "source": [
    "from apriori_python import apriori\n",
    "import time"
   ],
   "metadata": {
    "collapsed": false,
    "ExecuteTime": {
     "end_time": "2023-11-30T15:16:16.136784Z",
     "start_time": "2023-11-30T15:16:16.110784400Z"
    }
   },
   "id": "a7973941e1e93f50"
  },
  {
   "cell_type": "code",
   "execution_count": 302,
   "outputs": [],
   "source": [
    "t = []\n",
    "start = time.perf_counter()\n",
    "t1, rules = apriori(transactions, minSup=0.035, minConf=0.035)\n",
    "time1 = (time.perf_counter() - start)\n",
    "t.append(time1)"
   ],
   "metadata": {
    "collapsed": false,
    "ExecuteTime": {
     "end_time": "2023-11-30T15:16:16.426781500Z",
     "start_time": "2023-11-30T15:16:16.187782Z"
    }
   },
   "id": "531cb04a9ab658a5"
  },
  {
   "cell_type": "code",
   "execution_count": 303,
   "outputs": [
    {
     "name": "stdout",
     "output_type": "stream",
     "text": [
      "10\n"
     ]
    },
    {
     "data": {
      "text/plain": "[[{'Coffee'}, {'Sandwich'}, 0.0799469964664311],\n [{'Coffee'}, {'Pastry'}, 0.09938162544169611],\n [{'Coffee'}, {'Tea'}, 0.10424028268551237],\n [{'Coffee'}, {'Cake'}, 0.11439929328621908],\n [{'Coffee'}, {'Bread'}, 0.1881625441696113],\n [{'Bread'}, {'Coffee'}, 0.2751937984496124],\n [{'Tea'}, {'Coffee'}, 0.3496296296296296],\n [{'Cake'}, {'Coffee'}, 0.5269582909460834],\n [{'Sandwich'}, {'Coffee'}, 0.5323529411764706],\n [{'Pastry'}, {'Coffee'}, 0.5521472392638037]]"
     },
     "execution_count": 303,
     "metadata": {},
     "output_type": "execute_result"
    }
   ],
   "source": [
    "print(len(rules))\n",
    "rules"
   ],
   "metadata": {
    "collapsed": false,
    "ExecuteTime": {
     "end_time": "2023-11-30T15:16:16.443797900Z",
     "start_time": "2023-11-30T15:16:16.428784Z"
    }
   },
   "id": "fd832b0d1268dbe8"
  },
  {
   "cell_type": "code",
   "execution_count": 304,
   "outputs": [],
   "source": [
    "from apyori import apriori"
   ],
   "metadata": {
    "collapsed": false,
    "ExecuteTime": {
     "end_time": "2023-11-30T15:16:16.487790400Z",
     "start_time": "2023-11-30T15:16:16.443797900Z"
    }
   },
   "id": "61c8e4bc329ed4d7"
  },
  {
   "cell_type": "code",
   "execution_count": 305,
   "outputs": [],
   "source": [
    "start = time.perf_counter()\n",
    "rules = apriori(transactions=transactions,\n",
    "                min_support=0.035,\n",
    "                min_confidence=0.035,\n",
    "                min_lift=1.0001)\n",
    "results = list(rules)\n",
    "time2 = (time.perf_counter() - start)\n",
    "t.append(time2)"
   ],
   "metadata": {
    "collapsed": false,
    "ExecuteTime": {
     "end_time": "2023-11-30T15:16:16.487790400Z",
     "start_time": "2023-11-30T15:16:16.459633300Z"
    }
   },
   "id": "d4fcd3093ac5b2e6"
  },
  {
   "cell_type": "code",
   "execution_count": 306,
   "outputs": [
    {
     "name": "stdout",
     "output_type": "stream",
     "text": [
      "3\n",
      "frozenset({'Cake'}) frozenset({'Coffee'})\n",
      "Support: 0.05435466946484785, Confidence: 0.5269582909460834, Lift: 1.109079618532724\n",
      "\n",
      "frozenset({'Coffee'}) frozenset({'Cake'})\n",
      "Support: 0.05435466946484785, Confidence: 0.11439929328621908, Lift: 1.109079618532724\n",
      "\n",
      "frozenset({'Coffee'}) frozenset({'Pastry'})\n",
      "Support: 0.0472193074501574, Confidence: 0.09938162544169611, Lift: 1.162094344121919\n",
      "\n",
      "frozenset({'Pastry'}) frozenset({'Coffee'})\n",
      "Support: 0.0472193074501574, Confidence: 0.5521472392638037, Lift: 1.162094344121919\n",
      "\n",
      "frozenset({'Coffee'}) frozenset({'Sandwich'})\n",
      "Support: 0.037985309548793283, Confidence: 0.0799469964664311, Lift: 1.1204336416545417\n",
      "\n",
      "frozenset({'Sandwich'}) frozenset({'Coffee'})\n",
      "Support: 0.037985309548793283, Confidence: 0.5323529411764706, Lift: 1.1204336416545417\n"
     ]
    }
   ],
   "source": [
    "print(len(results))\n",
    "for results in results:\n",
    "    for subset in results[2]:\n",
    "        print(subset[0], subset[1])\n",
    "        print(f'Support: {results[1]}, Confidence: {subset[2]}, Lift: {subset[3]}')\n",
    "        print()"
   ],
   "metadata": {
    "collapsed": false,
    "ExecuteTime": {
     "end_time": "2023-11-30T15:16:16.498791300Z",
     "start_time": "2023-11-30T15:16:16.476635300Z"
    }
   },
   "id": "3c996bb52d381ef8"
  },
  {
   "cell_type": "code",
   "execution_count": 307,
   "outputs": [
    {
     "data": {
      "text/plain": "RelationRecord(items=frozenset({'Coffee', 'Sandwich'}), support=0.037985309548793283, ordered_statistics=[OrderedStatistic(items_base=frozenset({'Coffee'}), items_add=frozenset({'Sandwich'}), confidence=0.0799469964664311, lift=1.1204336416545417), OrderedStatistic(items_base=frozenset({'Sandwich'}), items_add=frozenset({'Coffee'}), confidence=0.5323529411764706, lift=1.1204336416545417)])"
     },
     "execution_count": 307,
     "metadata": {},
     "output_type": "execute_result"
    }
   ],
   "source": [
    "results"
   ],
   "metadata": {
    "collapsed": false,
    "ExecuteTime": {
     "end_time": "2023-11-30T15:16:16.511792400Z",
     "start_time": "2023-11-30T15:16:16.491789900Z"
    }
   },
   "id": "7715e750fa389de8"
  },
  {
   "cell_type": "code",
   "execution_count": 308,
   "outputs": [],
   "source": [
    "from efficient_apriori import apriori"
   ],
   "metadata": {
    "collapsed": false,
    "ExecuteTime": {
     "end_time": "2023-11-30T15:16:16.565982900Z",
     "start_time": "2023-11-30T15:16:16.506790400Z"
    }
   },
   "id": "84d220bd702b50df"
  },
  {
   "cell_type": "code",
   "execution_count": 309,
   "outputs": [],
   "source": [
    "start = time.perf_counter()\n",
    "itemsets, rules = apriori(transactions, min_support=0.035, min_confidence=0.035)\n",
    "time3 = (time.perf_counter() - start)\n",
    "t.append(time3)"
   ],
   "metadata": {
    "collapsed": false,
    "ExecuteTime": {
     "end_time": "2023-11-30T15:16:16.576985200Z",
     "start_time": "2023-11-30T15:16:16.525791300Z"
    }
   },
   "id": "f78cbb003d7035c0"
  },
  {
   "cell_type": "code",
   "execution_count": 310,
   "outputs": [
    {
     "name": "stdout",
     "output_type": "stream",
     "text": [
      "10\n",
      "{Coffee} -> {Bread} (conf: 0.188, supp: 0.089, lift: 0.579, conv: 0.832)\n",
      "{Bread} -> {Coffee} (conf: 0.275, supp: 0.089, lift: 0.579, conv: 0.724)\n",
      "{Coffee} -> {Cake} (conf: 0.114, supp: 0.054, lift: 1.109, conv: 1.013)\n",
      "{Cake} -> {Coffee} (conf: 0.527, supp: 0.054, lift: 1.109, conv: 1.110)\n",
      "{Pastry} -> {Coffee} (conf: 0.552, supp: 0.047, lift: 1.162, conv: 1.172)\n",
      "{Coffee} -> {Pastry} (conf: 0.099, supp: 0.047, lift: 1.162, conv: 1.015)\n",
      "{Sandwich} -> {Coffee} (conf: 0.532, supp: 0.038, lift: 1.120, conv: 1.122)\n",
      "{Coffee} -> {Sandwich} (conf: 0.080, supp: 0.038, lift: 1.120, conv: 1.009)\n",
      "{Tea} -> {Coffee} (conf: 0.350, supp: 0.050, lift: 0.736, conv: 0.807)\n",
      "{Coffee} -> {Tea} (conf: 0.104, supp: 0.050, lift: 0.736, conv: 0.958)\n"
     ]
    }
   ],
   "source": [
    "print(len(rules))\n",
    "for i in rules:\n",
    "    print(i)"
   ],
   "metadata": {
    "collapsed": false,
    "ExecuteTime": {
     "end_time": "2023-11-30T15:16:16.578983700Z",
     "start_time": "2023-11-30T15:16:16.554985900Z"
    }
   },
   "id": "26230207104364e8"
  },
  {
   "cell_type": "markdown",
   "source": [
    "#   Применить алгоритм FP-Growth из библиотеки fpgrowth_py. Подобрать гиперпараметры для алгоритма так, чтобы выводилось порядка 10 наилучших правил."
   ],
   "metadata": {
    "collapsed": false
   },
   "id": "c5f190d4ab0b7199"
  },
  {
   "cell_type": "code",
   "execution_count": 311,
   "outputs": [],
   "source": [
    "from fpgrowth_py import fpgrowth"
   ],
   "metadata": {
    "collapsed": false,
    "ExecuteTime": {
     "end_time": "2023-11-30T15:16:16.589986400Z",
     "start_time": "2023-11-30T15:16:16.569984900Z"
    }
   },
   "id": "c2f6af687d4355ae"
  },
  {
   "cell_type": "code",
   "execution_count": 312,
   "outputs": [],
   "source": [
    "start = time.perf_counter()\n",
    "itemsets, rules = fpgrowth(transactions, minSupRatio=0.035, minConf=0.035)\n",
    "time4 = (time.perf_counter() - start)\n",
    "t.append(time4)"
   ],
   "metadata": {
    "collapsed": false,
    "ExecuteTime": {
     "end_time": "2023-11-30T15:16:16.801984300Z",
     "start_time": "2023-11-30T15:16:16.584990300Z"
    }
   },
   "id": "bfc47143bd382795"
  },
  {
   "cell_type": "code",
   "execution_count": 313,
   "outputs": [
    {
     "name": "stdout",
     "output_type": "stream",
     "text": [
      "16\n",
      "[{'Coffee'}, {'Cookies'}, 0.05896643109540636]\n",
      "[{'Cookies'}, {'Coffee'}, 0.5184466019417475]\n",
      "[{'Coffee'}, {'Hot chocolate'}, 0.061837455830388695]\n",
      "[{'Hot chocolate'}, {'Coffee'}, 0.5072463768115942]\n",
      "[{'Coffee'}, {'Medialuna'}, 0.07354240282685512]\n",
      "[{'Medialuna'}, {'Coffee'}, 0.5692307692307692]\n",
      "[{'Coffee'}, {'Sandwich'}, 0.0799469964664311]\n",
      "[{'Sandwich'}, {'Coffee'}, 0.5323529411764706]\n",
      "[{'Coffee'}, {'Pastry'}, 0.09938162544169611]\n",
      "[{'Pastry'}, {'Coffee'}, 0.5521472392638037]\n",
      "[{'Coffee'}, {'Cake'}, 0.11439929328621908]\n",
      "[{'Cake'}, {'Coffee'}, 0.5269582909460834]\n",
      "[{'Coffee'}, {'Tea'}, 0.10424028268551237]\n",
      "[{'Tea'}, {'Coffee'}, 0.3496296296296296]\n",
      "[{'Coffee'}, {'Bread'}, 0.1881625441696113]\n",
      "[{'Bread'}, {'Coffee'}, 0.2751937984496124]\n"
     ]
    }
   ],
   "source": [
    "print(len(rules))\n",
    "for i in rules:\n",
    "    print(i)"
   ],
   "metadata": {
    "collapsed": false,
    "ExecuteTime": {
     "end_time": "2023-11-30T15:16:16.816985100Z",
     "start_time": "2023-11-30T15:16:16.802988Z"
    }
   },
   "id": "bad26ac6ed8edbb1"
  },
  {
   "cell_type": "markdown",
   "source": [
    "#\tСравнить время выполнения всех алгоритмов и построить гистограмму."
   ],
   "metadata": {
    "collapsed": false
   },
   "id": "fac5103f8d37430e"
  },
  {
   "cell_type": "code",
   "execution_count": 314,
   "outputs": [
    {
     "name": "stdout",
     "output_type": "stream",
     "text": [
      "Время apriori: 0.2947767999721691\n",
      "Время apriori 2: 0.006683100014925003\n",
      "Время efficient_apriori: 0.006769100029487163\n",
      "Время fpgrowth_py: 0.20213130000047386\n"
     ]
    },
    {
     "data": {
      "text/plain": "<BarContainer object of 4 artists>"
     },
     "execution_count": 314,
     "metadata": {},
     "output_type": "execute_result"
    },
    {
     "data": {
      "text/plain": "<Figure size 640x480 with 1 Axes>",
      "image/png": "[encoded data removed]"
     },
     "metadata": {},
     "output_type": "display_data"
    }
   ],
   "source": [
    "print(f'Время apriori: {t[0]}')\n",
    "print(f'Время apriori 2: {t[1]}')\n",
    "print(f'Время efficient_apriori: {t[2]}')\n",
    "print(f'Время fpgrowth_py: {t[3]}')\n",
    "plt.bar(['apriori', 'apriori 2', 'efficient_apriori', 'fpgrowth_py'], t)"
   ],
   "metadata": {
    "collapsed": false,
    "ExecuteTime": {
     "end_time": "2023-11-30T15:16:16.952986800Z",
     "start_time": "2023-11-30T15:16:16.817987100Z"
    }
   },
   "id": "1760cb9387886f0c"
  }
 ],
 "metadata": {
  "kernelspec": {
   "display_name": "Python 3",
   "language": "python",
   "name": "python3"
  },
  "language_info": {
   "codemirror_mode": {
    "name": "ipython",
    "version": 2
   },
   "file_extension": ".py",
   "mimetype": "text/x-python",
   "name": "python",
   "nbconvert_exporter": "python",
   "pygments_lexer": "ipython2",
   "version": "2.7.6"
  }
 },
 "nbformat": 4,
 "nbformat_minor": 5
}
